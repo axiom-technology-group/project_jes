{
 "cells": [
  {
   "cell_type": "code",
   "execution_count": 115,
   "metadata": {},
   "outputs": [],
   "source": [
    "import pandas as pd\n",
    "import numpy as np\n",
    "import re\n",
    "import seaborn as sns\n",
    "import matplotlib\n",
    "import matplotlib.pyplot as plt\n",
    "%matplotlib inline\n",
    "import spacy\n",
    "nlp = spacy.load('en_core_web_sm')\n"
   ]
  },
  {
   "cell_type": "code",
   "execution_count": 116,
   "metadata": {},
   "outputs": [],
   "source": [
    "df_sample = pd.read_csv('EN_BJ_sample.csv')\n"
   ]
  },
  {
   "cell_type": "code",
   "execution_count": 839,
   "metadata": {},
   "outputs": [
    {
     "data": {
      "text/plain": [
       "1638"
      ]
     },
     "execution_count": 839,
     "metadata": {},
     "output_type": "execute_result"
    }
   ],
   "source": [
    "len(df_sample)"
   ]
  },
  {
   "cell_type": "code",
   "execution_count": 2380,
   "metadata": {},
   "outputs": [
    {
     "name": "stdout",
     "output_type": "stream",
     "text": [
      "Lifestyle\n",
      "Learning to connect\n",
      "['culture', 'interest', 'child', 'city', 'heritage', 'services', 'tidiness', 'student', 'dreams', 'graduate', 'program', 'quality', 'education', 'opportunity', 'access', 'experts', 'teachers', 'internship', 'company', 'year']\n",
      "['Chinese', 'University', 'culture', 'Beijing', 'study', 'Peking', 'apply', \"Jun'ao\", 'real', 'Antonio', 'Mexico', 'strong', 'interest', 'child', 'enrolled', 'Language', 'Culture', '2011', 'impressed', 'city']\n"
     ]
    }
   ],
   "source": [
    "def show_info(i):\n",
    "    print(df_sample.iloc[i]['column_1'])\n",
    "    print(df_sample.iloc[i]['title'])\n",
    "    print(df_sample.iloc[i]['top nouns'])\n",
    "    print(df_sample.iloc[i]['top words'])\n",
    "#i = 1310\n",
    "show_info(i)"
   ]
  },
  {
   "cell_type": "code",
   "execution_count": 2459,
   "metadata": {},
   "outputs": [
    {
     "name": "stdout",
     "output_type": "stream",
     "text": [
      "Business\n",
      "Beijing subway: Man behind the scenes\n",
      "['job', 'construction', 'workers', 'company', 'work', 'project', 'people', 'subway', 'years', 'position', 'day', 'time', 'manager', 'lot', 'age', 'worker', 'city', 'head', 'metro', 'service']\n",
      "['Ning', 'said', 'job', 'construction', 'working', 'workers', ' ', 'company', 'work', 'underground', 'Beijing', 'project', 'people', 'subway', 'long', 'years', 'hard', 'position', 'day', 'building']\n",
      "1336\n"
     ]
    }
   ],
   "source": [
    "#df_sample.at[i,'overall label']= 'business'\n",
    "#df_sample.at[i,'overall label']= 'life style'\n",
    "#df_sample.at[i,'overall label']= 'tech'\n",
    "df_sample.at[i,'overall label']= 'politics'\n",
    "#df_sample.at[i,'overall label']= 'education'\n",
    "\n",
    "\n",
    "df_sample.at[i, 'business'] = 0\n",
    "df_sample.at[i,'life style'] = 1\n",
    "df_sample.at[i,'tech'] = 0\n",
    "df_sample.at[i,'politics'] = 1\n",
    "df_sample.at[i,'education'] = 0\n",
    "i += 1\n",
    "show_info(i)\n",
    "print(i)\n"
   ]
  },
  {
   "cell_type": "code",
   "execution_count": 2460,
   "metadata": {},
   "outputs": [
    {
     "data": {
      "text/plain": [
       "Unnamed: 0                                                     134\n",
       "column_1                                                  Business\n",
       "column_2                                                Biz Photos\n",
       "content          A 48-year-old construction worker, who goes by...\n",
       "publishtime                                       2017-04-25 07:32\n",
       "source                              ZHU LINGQING,CHINADAILY.COM.CN\n",
       "title                        Beijing subway: Man behind the scenes\n",
       "url              http://www.chinadaily.com.cn/a/201704/25/WS59b...\n",
       "if_business                                                      1\n",
       "if_BJ                                                         True\n",
       "top nouns        ['job', 'construction', 'workers', 'company', ...\n",
       "top words        ['Ning', 'said', 'job', 'construction', 'worki...\n",
       "overall label                                             business\n",
       "business                                                         1\n",
       "life style                                                       0\n",
       "tech                                                             0\n",
       "politics                                                         1\n",
       "education                                                        0\n",
       "Name: 1336, dtype: object"
      ]
     },
     "execution_count": 2460,
     "metadata": {},
     "output_type": "execute_result"
    }
   ],
   "source": [
    "df_sample.iloc[i]"
   ]
  },
  {
   "cell_type": "code",
   "execution_count": 2436,
   "metadata": {},
   "outputs": [
    {
     "data": {
      "text/plain": [
       "Unnamed: 0                                                   15756\n",
       "column_1                                                     China\n",
       "column_2                                                   Society\n",
       "content          In nine hours and at a fare of about 1,000 yua...\n",
       "publishtime                                       2018-08-10 10:25\n",
       "source                                                     ECNS.CN\n",
       "title            Bullet train to link Beijing and Hong Kong in ...\n",
       "url              http://www.chinadaily.com.cn/a/201808/10/WS5b6...\n",
       "if_business                                                      0\n",
       "if_BJ                                                         True\n",
       "top nouns        ['hours', 'train', 'mainland', 'passengers', '...\n",
       "top words        ['Hong', 'Kong', 'hours', 'Guangzhou', 'train'...\n",
       "overall label                                           life style\n",
       "business                                                         1\n",
       "life style                                                       1\n",
       "tech                                                             0\n",
       "politics                                                         1\n",
       "education                                                        0\n",
       "Name: 1326, dtype: object"
      ]
     },
     "execution_count": 2436,
     "metadata": {},
     "output_type": "execute_result"
    }
   ],
   "source": [
    "df_sample.iloc[i-1]"
   ]
  },
  {
   "cell_type": "code",
   "execution_count": 2437,
   "metadata": {},
   "outputs": [
    {
     "data": {
      "text/plain": [
       "life style    456\n",
       "politics      390\n",
       "business      380\n",
       "education     178\n",
       "tech          151\n",
       "0              83\n",
       "Name: overall label, dtype: int64"
      ]
     },
     "execution_count": 2437,
     "metadata": {},
     "output_type": "execute_result"
    }
   ],
   "source": [
    "df_sample['overall label'].value_counts()"
   ]
  },
  {
   "cell_type": "code",
   "execution_count": 2438,
   "metadata": {},
   "outputs": [
    {
     "data": {
      "text/plain": [
       "<matplotlib.axes._subplots.AxesSubplot at 0x1a25e635c0>"
      ]
     },
     "execution_count": 2438,
     "metadata": {},
     "output_type": "execute_result"
    },
    {
     "data": {
      "image/png": "[encoded data removed]",
      "text/plain": [
       "<Figure size 432x288 with 1 Axes>"
      ]
     },
     "metadata": {},
     "output_type": "display_data"
    }
   ],
   "source": [
    "df_sample['tech'].value_counts().plot.bar()"
   ]
  },
  {
   "cell_type": "code",
   "execution_count": 2439,
   "metadata": {},
   "outputs": [
    {
     "data": {
      "text/plain": [
       "1.0    961\n",
       "0.0    677\n",
       "Name: life style, dtype: int64"
      ]
     },
     "execution_count": 2439,
     "metadata": {},
     "output_type": "execute_result"
    }
   ],
   "source": [
    "df_sample['life style'].value_counts()"
   ]
  },
  {
   "cell_type": "code",
   "execution_count": 2440,
   "metadata": {},
   "outputs": [
    {
     "data": {
      "text/plain": [
       "1.0    961\n",
       "0.0    677\n",
       "Name: life style, dtype: int64"
      ]
     },
     "execution_count": 2440,
     "metadata": {},
     "output_type": "execute_result"
    }
   ],
   "source": [
    "df_sample['life style'].value_counts()"
   ]
  },
  {
   "cell_type": "code",
   "execution_count": 2441,
   "metadata": {},
   "outputs": [
    {
     "data": {
      "text/plain": [
       "Unnamed: 0                                                    1224\n",
       "column_1                                                  Business\n",
       "column_2                                                 Companies\n",
       "content          Edinburgh-based Pickering’s Gin is tapping int...\n",
       "publishtime                                       2018-06-15 00:05\n",
       "source                        BO LEUNG IN LONDON,CHINADAILY.COM.CN\n",
       "title            Beijing residents set to raise a glass to Scot...\n",
       "url              http://www.chinadaily.com.cn/a/201806/15/WS5b2...\n",
       "if_business                                                      1\n",
       "if_BJ                                                         True\n",
       "top nouns        ['gin', 'bar', 'beer', 'seafood', 'company', '...\n",
       "top words        ['’s', 'China', 'gin', 'Pickering', 'bar', 'Sc...\n",
       "overall label                                                    0\n",
       "business                                                         0\n",
       "life style                                                       0\n",
       "tech                                                             0\n",
       "politics                                                         0\n",
       "education                                                        0\n",
       "Name: 1327, dtype: object"
      ]
     },
     "execution_count": 2441,
     "metadata": {},
     "output_type": "execute_result"
    }
   ],
   "source": [
    "df_sample.iloc[i]"
   ]
  },
  {
   "cell_type": "code",
   "execution_count": 2330,
   "metadata": {},
   "outputs": [],
   "source": [
    "def haveeducation(lst):\n",
    "    if 'school' in lst.lower() or 'class' in lst.lower() or 'study' in lst.lower() or 'teach' in lst.lower():\n",
    "        return True\n",
    "    else:\n",
    "        return False\n",
    "\n",
    "def havetech(lst):\n",
    "    if 'ai' in lst.lower() or 'tech' in lst.lower() or 'data' in lst.lower() or 'internet' in lst.lower():\n",
    "        return True\n",
    "    else:\n",
    "        return False"
   ]
  },
  {
   "cell_type": "code",
   "execution_count": 2331,
   "metadata": {},
   "outputs": [
    {
     "data": {
      "text/plain": [
       "True     987\n",
       "False    298\n",
       "Name: top words, dtype: int64"
      ]
     },
     "execution_count": 2331,
     "metadata": {},
     "output_type": "execute_result"
    }
   ],
   "source": [
    "df_sample['top words'].apply(havetech)[:i].value_counts()"
   ]
  },
  {
   "cell_type": "code",
   "execution_count": 2332,
   "metadata": {},
   "outputs": [
    {
     "data": {
      "text/plain": [
       "1638"
      ]
     },
     "execution_count": 2332,
     "metadata": {},
     "output_type": "execute_result"
    }
   ],
   "source": [
    "len(df_sample)"
   ]
  },
  {
   "cell_type": "code",
   "execution_count": 2468,
   "metadata": {},
   "outputs": [],
   "source": [
    "df_sample = df_sample[df_sample['overall label'] != '0']"
   ]
  },
  {
   "cell_type": "code",
   "execution_count": 2469,
   "metadata": {},
   "outputs": [
    {
     "data": {
      "text/plain": [
       "life style    458\n",
       "politics      392\n",
       "business      382\n",
       "education     178\n",
       "tech          154\n",
       "Name: overall label, dtype: int64"
      ]
     },
     "execution_count": 2469,
     "metadata": {},
     "output_type": "execute_result"
    }
   ],
   "source": [
    "df_sample['overall label'].value_counts()"
   ]
  },
  {
   "cell_type": "code",
   "execution_count": 2470,
   "metadata": {},
   "outputs": [],
   "source": [
    "df_sample.to_csv('EN_BJ_sample.csv',index = False)"
   ]
  },
  {
   "cell_type": "code",
   "execution_count": null,
   "metadata": {},
   "outputs": [],
   "source": []
  }
 ],
 "metadata": {
  "kernelspec": {
   "display_name": "Python 3",
   "language": "python",
   "name": "python3"
  },
  "language_info": {
   "codemirror_mode": {
    "name": "ipython",
    "version": 3
   },
   "file_extension": ".py",
   "mimetype": "text/x-python",
   "name": "python",
   "nbconvert_exporter": "python",
   "pygments_lexer": "ipython3",
   "version": "3.6.4"
  }
 },
 "nbformat": 4,
 "nbformat_minor": 2
}
