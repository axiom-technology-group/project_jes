{
 "cells": [
  {
   "cell_type": "code",
   "execution_count": 42,
   "metadata": {},
   "outputs": [],
   "source": [
    "import pandas as pd\n",
    "import numpy as np\n",
    "import re\n",
    "import seaborn as sns\n",
    "import matplotlib\n",
    "import matplotlib.pyplot as plt\n",
    "%matplotlib inline\n",
    "#import spacy\n",
    "#nlp = spacy.load('en_core_web_sm')\n",
    "import jieba\n",
    "import jieba.analyse as analyse\n",
    "jieba.enable_parallel()\n"
   ]
  },
  {
   "cell_type": "code",
   "execution_count": 59,
   "metadata": {},
   "outputs": [],
   "source": [
    "df_sample = pd.read_csv('CN_BJ_sample.csv')\n"
   ]
  },
  {
   "cell_type": "markdown",
   "metadata": {},
   "source": [
    "df_sample['overall label'] = df_sample['overall label'].astype(str)"
   ]
  },
  {
   "cell_type": "code",
   "execution_count": null,
   "metadata": {},
   "outputs": [],
   "source": []
  },
  {
   "cell_type": "code",
   "execution_count": 60,
   "metadata": {},
   "outputs": [
    {
     "data": {
      "text/plain": [
       "1316"
      ]
     },
     "execution_count": 60,
     "metadata": {},
     "output_type": "execute_result"
    }
   ],
   "source": [
    "len(df_sample)"
   ]
  },
  {
   "cell_type": "code",
   "execution_count": 61,
   "metadata": {},
   "outputs": [
    {
     "name": "stdout",
     "output_type": "stream",
     "text": [
      "中文资讯\n",
      "一场中美关注的女主播“辩论”，显示美国对中国有多不了解\n",
      "['里根', '中国', '辩论', '知识产权', '对话', '美国', '网友', '电视台', '中美', '整场', '案例', '经济体', '问题', '经贸', '国家', '市场经济', '节目', '共识', '民众', '团队']\n",
      "['刘欣', '里根', '中国', '辩论', '知识产权', '对话', '美国', '盗窃', '网友', '福克斯', '电视台', '中美', '特朗普', '表示', '女主播', '误解', '整场', '主播', '隔空', '案例']\n"
     ]
    }
   ],
   "source": [
    "def show_info(i):\n",
    "    print(df_sample.iloc[i]['column_1'])\n",
    "    print(df_sample.iloc[i]['title'])\n",
    "    print(df_sample.iloc[i]['top nouns'])\n",
    "    print(df_sample.iloc[i]['top words'])\n",
    "i = 0\n",
    "show_info(i)"
   ]
  },
  {
   "cell_type": "code",
   "execution_count": 54,
   "metadata": {},
   "outputs": [
    {
     "name": "stdout",
     "output_type": "stream",
     "text": [
      "中国在线\n",
      "三大运营商不限量套餐资费降至百元内 或成未来趋势\n",
      "['套餐', '流量', '限量', '用户', '运营商', '速率', '基站', '资费', '全国', '产品', '价位', '网络', '通话', '超值版', '冰激凌', '封顶', '话费', '语音', '天翼', '北京']\n",
      "['套餐', '流量', '限量', '限速', '上网', '用户', '运营商', '速率', '99', '基站', '资费', '国内', '付亮', '全国', '推出', '199', '98', '100GB', '500', '129']\n",
      "1\n"
     ]
    }
   ],
   "source": [
    "#df_sample.at[i,'overall label']= 'business'\n",
    "#df_sample.at[i,'overall label']= 'life style'\n",
    "#df_sample.at[i,'overall label']= 'tech'\n",
    "df_sample.at[i,'overall label']= 'politics'\n",
    "#df_sample.at[i,'overall label']= 'education'\n",
    "df_sample.at[i, 'business'] = 0\n",
    "df_sample.at[i,'life style'] = 1\n",
    "df_sample.at[i,'tech'] = 0\n",
    "df_sample.at[i,'politics'] = 1\n",
    "df_sample.at[i,'education'] = 0\n",
    "i += 1\n",
    "show_info(i)\n",
    "print(i)\n"
   ]
  },
  {
   "cell_type": "code",
   "execution_count": 55,
   "metadata": {},
   "outputs": [
    {
     "data": {
      "text/plain": [
       "Unnamed: 0                                                    2739\n",
       "column_1                                                      中文资讯\n",
       "column_2                                                     外眼看中国\n",
       "content          北京时间5月30日上午8点20分，美国福克斯电视台女主播翠西·里根与中国中央电视台主播刘欣的...\n",
       "publishtime                                      2019-05-30 13:23　\n",
       "source                                                      来源：文汇报\n",
       "title                                  一场中美关注的女主播“辩论”，显示美国对中国有多不了解\n",
       "url              https://world.chinadaily.com.cn/a/201905/30/WS...\n",
       "if_BJ                                                         True\n",
       "top nouns        ['里根', '中国', '辩论', '知识产权', '对话', '美国', '网友', '...\n",
       "top words        ['刘欣', '里根', '中国', '辩论', '知识产权', '对话', '美国', '...\n",
       "overall label                                             politics\n",
       "business                                                         0\n",
       "life style                                                       1\n",
       "tech                                                             0\n",
       "politics                                                         1\n",
       "education                                                        0\n",
       "Name: 0, dtype: object"
      ]
     },
     "execution_count": 55,
     "metadata": {},
     "output_type": "execute_result"
    }
   ],
   "source": [
    "df_sample.iloc[i-1]"
   ]
  },
  {
   "cell_type": "code",
   "execution_count": 1579,
   "metadata": {},
   "outputs": [
    {
     "data": {
      "text/plain": [
       "0             573\n",
       "business      322\n",
       "life style    303\n",
       "politics      276\n",
       "tech          117\n",
       "education      47\n",
       "Name: overall label, dtype: int64"
      ]
     },
     "execution_count": 1579,
     "metadata": {},
     "output_type": "execute_result"
    }
   ],
   "source": [
    "df_sample['overall label'].value_counts()"
   ]
  },
  {
   "cell_type": "code",
   "execution_count": 1556,
   "metadata": {},
   "outputs": [],
   "source": [
    "df_sample.to_csv('EN_BJ_sample.csv',index = False)"
   ]
  },
  {
   "cell_type": "markdown",
   "metadata": {},
   "source": [
    "\n",
    "def havebeijing(lst):\n",
    "    if '北京' in str(lst):\n",
    "        return True\n",
    "    else:\n",
    "        return False\n",
    "    \n",
    "def havebusiness(lst):\n",
    "    if '商' in str(lst) or '金融' in str(lst) or '经济' in str(lst) or '钱' in str(lst):\n",
    "        return True\n",
    "    else:\n",
    "        return False\n",
    "    \n",
    "def havelifestyle(lst):\n",
    "    if '旅游' in str(lst) or '饮食' in str(lst) or '文化' in str(lst) or '运动' in str(lst):\n",
    "        return True\n",
    "    else:\n",
    "        return False\n",
    "    \n",
    "def haveeducation(lst):\n",
    "    if '学习' in str(lst) or '课程' in str(lst) or '大学' in str(lst) or '学生' in str(lst):\n",
    "        return True\n",
    "    else:\n",
    "        return False\n",
    "\n",
    "def havetech(lst):\n",
    "    if '互联网' in str(lst) or 'AI' in str(lst) or '科技' in str(lst) or '网络' in str(lst):\n",
    "        return True\n",
    "    else:\n",
    "        return False\n"
   ]
  },
  {
   "cell_type": "markdown",
   "metadata": {},
   "source": [
    "\n",
    "df1 = df_sample[df_sample['top nouns'].apply(havebusiness)].sample(n = 300)\n",
    "df2 = df_sample[df_sample['top nouns'].apply(havelifestyle)].sample(n = 300)\n",
    "df3 = df_sample[df_sample['top nouns'].apply(haveeducation)]\n",
    "df4 = df_sample[df_sample['top nouns'].apply(havetech)].sample(n = 300)\n",
    "df5 = df_sample[df_sample['top nouns'].apply(havebeijing)].sample(n = 300)\n",
    "df_sample = pd.concat([df1, df2, df3, df4, df5]) \n",
    "df_sample.drop_duplicates(inplace = True)"
   ]
  },
  {
   "cell_type": "code",
   "execution_count": 57,
   "metadata": {},
   "outputs": [],
   "source": [
    "df_sample.to_csv('CN_BJ_sample.csv',index = False)"
   ]
  },
  {
   "cell_type": "code",
   "execution_count": 58,
   "metadata": {},
   "outputs": [
    {
     "data": {
      "text/plain": [
       "1316"
      ]
     },
     "execution_count": 58,
     "metadata": {},
     "output_type": "execute_result"
    }
   ],
   "source": [
    "len(df_sample)"
   ]
  },
  {
   "cell_type": "code",
   "execution_count": null,
   "metadata": {},
   "outputs": [],
   "source": []
  }
 ],
 "metadata": {
  "kernelspec": {
   "display_name": "Python 3",
   "language": "python",
   "name": "python3"
  },
  "language_info": {
   "codemirror_mode": {
    "name": "ipython",
    "version": 3
   },
   "file_extension": ".py",
   "mimetype": "text/x-python",
   "name": "python",
   "nbconvert_exporter": "python",
   "pygments_lexer": "ipython3",
   "version": "3.6.4"
  }
 },
 "nbformat": 4,
 "nbformat_minor": 2
}
