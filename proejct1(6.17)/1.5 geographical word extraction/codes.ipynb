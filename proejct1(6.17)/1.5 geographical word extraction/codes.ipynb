{
 "cells": [
  {
   "cell_type": "code",
   "execution_count": 24,
   "metadata": {},
   "outputs": [],
   "source": [
    "import pickle as pk\n",
    "import pandas as pd\n",
    "import numpy as np"
   ]
  },
  {
   "cell_type": "code",
   "execution_count": 77,
   "metadata": {},
   "outputs": [],
   "source": [
    "with open('01 ±±æ©µÿ√˚Ω÷µ¿–°«¯√˚(15549).txt', 'r') as f:\n",
    "    lst = f.readlines()\n",
    "    \n",
    "    \n",
    "\n",
    "didian1 = []\n",
    "for i in lst:\n",
    "    \n",
    "    didian1.append(i)\n",
    "\n",
    "for i in range(len(didian1)):\n",
    "    didian1[i] =didian1[i].replace('\\n','')\n",
    "\n",
    "\n"
   ]
  },
  {
   "cell_type": "code",
   "execution_count": 78,
   "metadata": {},
   "outputs": [],
   "source": [
    "\n",
    "with open('02 ±±æ©µÿÃ˙’æµ„.txt', 'r',encoding='gbk') as f:\n",
    "    lst = f.readlines()\n",
    "    \n",
    "didian2 = []\n",
    "for i in lst:\n",
    "    \n",
    "    didian2.append(i)\n",
    "\n",
    "for i in range(len(didian2)):\n",
    "    didian2[i] =didian2[i].replace('\\n','')\n"
   ]
  },
  {
   "cell_type": "code",
   "execution_count": 82,
   "metadata": {},
   "outputs": [],
   "source": [
    "\n",
    "with open('03 ±±æ©π´Ωª’æµ„√˚(13568).txt', 'r',encoding='gbk') as f:\n",
    "    lst = f.readlines()\n",
    "    \n",
    "didian3 = []\n",
    "for i in lst:\n",
    "    \n",
    "    didian3.append(i)\n",
    "\n",
    "for i in range(len(didian3)):\n",
    "    didian3[i] =didian3[i].replace('\\n','')"
   ]
  },
  {
   "cell_type": "code",
   "execution_count": 84,
   "metadata": {},
   "outputs": [],
   "source": [
    "with open('04 ±±æ©∏ﬂ–£_∏ƒ.txt', 'r',encoding='gbk') as f:\n",
    "    lst = f.readlines()\n",
    "    \n",
    "didian4 = []\n",
    "for i in lst:\n",
    "    \n",
    "    didian4.append(i)\n",
    "\n",
    "for i in range(len(didian4)):\n",
    "    didian4[i] =didian4[i].replace('\\n','')\n",
    "\n"
   ]
  },
  {
   "cell_type": "code",
   "execution_count": 85,
   "metadata": {},
   "outputs": [],
   "source": [
    "lst_loc = didian1 + didian2 +didian3 + didian4"
   ]
  },
  {
   "cell_type": "code",
   "execution_count": 90,
   "metadata": {},
   "outputs": [],
   "source": [
    "locations = []\n",
    "for i in set(lst_loc):\n",
    "    locations.append(i)\n",
    "    "
   ]
  },
  {
   "cell_type": "code",
   "execution_count": 92,
   "metadata": {},
   "outputs": [],
   "source": [
    "df = pd.DataFrame()"
   ]
  },
  {
   "cell_type": "code",
   "execution_count": 93,
   "metadata": {},
   "outputs": [],
   "source": [
    "df['locations'] = locations"
   ]
  },
  {
   "cell_type": "code",
   "execution_count": 96,
   "metadata": {},
   "outputs": [],
   "source": [
    "df.to_csv('locations.csv')"
   ]
  },
  {
   "cell_type": "code",
   "execution_count": null,
   "metadata": {},
   "outputs": [],
   "source": []
  }
 ],
 "metadata": {
  "kernelspec": {
   "display_name": "Python 3",
   "language": "python",
   "name": "python3"
  },
  "language_info": {
   "codemirror_mode": {
    "name": "ipython",
    "version": 3
   },
   "file_extension": ".py",
   "mimetype": "text/x-python",
   "name": "python",
   "nbconvert_exporter": "python",
   "pygments_lexer": "ipython3",
   "version": "3.6.4"
  }
 },
 "nbformat": 4,
 "nbformat_minor": 2
}
