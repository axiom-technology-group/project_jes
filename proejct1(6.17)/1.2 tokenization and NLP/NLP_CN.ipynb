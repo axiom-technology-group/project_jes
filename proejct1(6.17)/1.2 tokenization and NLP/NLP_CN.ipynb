{
 "cells": [
  {
   "cell_type": "markdown",
   "metadata": {},
   "source": [
    "## Summary of the 1.2 project on CN_dataset\n",
    "### 1. a fundamental analysis of whats the composition of the article\n",
    "### 2. using jieba to divide the content into words\n",
    "### 3. draw the necessary information from the dataset\n",
    "### 4. using the SKlrean to build multi-label classfication models and using three different algorithms to analyze which has the best accuracy \n"
   ]
  },
  {
   "cell_type": "code",
   "execution_count": 1,
   "metadata": {},
   "outputs": [],
   "source": [
    "import pandas as pd\n",
    "import numpy as np\n",
    "import re\n",
    "import seaborn as sns\n",
    "import matplotlib\n",
    "import matplotlib.pyplot as plt\n",
    "%matplotlib inline\n",
    "#import spacy\n",
    "#nlp = spacy.load('en_core_web_sm')\n",
    "import jieba\n",
    "import jieba.analyse as analyse\n",
    "jieba.enable_parallel()"
   ]
  },
  {
   "cell_type": "code",
   "execution_count": 2,
   "metadata": {},
   "outputs": [],
   "source": [
    "df_cn = pd.read_csv('ChinaDaily_CN_cleaned.csv')"
   ]
  },
  {
   "cell_type": "code",
   "execution_count": 3,
   "metadata": {},
   "outputs": [
    {
     "data": {
      "text/html": [
       "<div>\n",
       "<style scoped>\n",
       "    .dataframe tbody tr th:only-of-type {\n",
       "        vertical-align: middle;\n",
       "    }\n",
       "\n",
       "    .dataframe tbody tr th {\n",
       "        vertical-align: top;\n",
       "    }\n",
       "\n",
       "    .dataframe thead th {\n",
       "        text-align: right;\n",
       "    }\n",
       "</style>\n",
       "<table border=\"1\" class=\"dataframe\">\n",
       "  <thead>\n",
       "    <tr style=\"text-align: right;\">\n",
       "      <th></th>\n",
       "      <th>Unnamed: 0</th>\n",
       "      <th>column_1</th>\n",
       "      <th>column_2</th>\n",
       "      <th>content</th>\n",
       "      <th>publishtime</th>\n",
       "      <th>source</th>\n",
       "      <th>title</th>\n",
       "      <th>url</th>\n",
       "    </tr>\n",
       "  </thead>\n",
       "  <tbody>\n",
       "    <tr>\n",
       "      <th>0</th>\n",
       "      <td>0</td>\n",
       "      <td>2018</td>\n",
       "      <td>2018达沃斯论坛</td>\n",
       "      <td>满格，请注意，大连达沃斯的“强信号”来了！ 李克强总理出席2017夏季达沃斯论坛两场“重...</td>\n",
       "      <td>2018-09-19 17:50</td>\n",
       "      <td>作者： 李昊,来源：人民网</td>\n",
       "      <td>李克强达沃斯论坛上向外商释放了哪些“强信号”？</td>\n",
       "      <td>https://cn.chinadaily.com.cn/a/201809/19/WS5be...</td>\n",
       "    </tr>\n",
       "    <tr>\n",
       "      <th>1</th>\n",
       "      <td>1</td>\n",
       "      <td>2018</td>\n",
       "      <td>影响力峰会</td>\n",
       "      <td>中国日报网1月5日电 1月5日，中国日报网与网易传媒共同举办的2019影响力峰会在北京国贸大...</td>\n",
       "      <td>2019-01-05 10:05</td>\n",
       "      <td>来源：中国日报网</td>\n",
       "      <td>《灰犀牛》作者米歇尔·渥克：第四次工业革命是没有国界的</td>\n",
       "      <td>https://cn.chinadaily.com.cn/a/201901/05/WS5c3...</td>\n",
       "    </tr>\n",
       "    <tr>\n",
       "      <th>2</th>\n",
       "      <td>2</td>\n",
       "      <td>2018</td>\n",
       "      <td>影响力峰会</td>\n",
       "      <td>中国日报网1月5日电 由中国日报和网易新闻联合主办的2019影响力峰会1月5日在北京举行，本...</td>\n",
       "      <td>2019-01-05 09:55</td>\n",
       "      <td>来源：中国日报网</td>\n",
       "      <td>江小涓：大国能更好地支撑生产型服务业 中国极具优势</td>\n",
       "      <td>https://cn.chinadaily.com.cn/a/201901/05/WS5c3...</td>\n",
       "    </tr>\n",
       "    <tr>\n",
       "      <th>3</th>\n",
       "      <td>3</td>\n",
       "      <td>2018全国两会</td>\n",
       "      <td>flash</td>\n",
       "      <td>全国人大代表在“代表通道”接受采访。人民网记者 翁奇羽摄 3月13日上午9时，十三届全国人大...</td>\n",
       "      <td>2018-03-13 09:55</td>\n",
       "      <td>来源：人民网-图片频道</td>\n",
       "      <td>第四场“代表通道”开启：全国人大代表接受采访</td>\n",
       "      <td>https://cn.chinadaily.com.cn/a/201803/13/WS5be...</td>\n",
       "    </tr>\n",
       "    <tr>\n",
       "      <th>4</th>\n",
       "      <td>4</td>\n",
       "      <td>2018全国两会</td>\n",
       "      <td>焦点新闻</td>\n",
       "      <td>3月17日，十三届全国人大一次会议在北京人民大会堂举行第五次全体会议。 新华社记者 姚大伟 摄</td>\n",
       "      <td>2018-03-17 10:05</td>\n",
       "      <td>来源：新华网</td>\n",
       "      <td>十三届全国人大一次会议举行第五次全体会议</td>\n",
       "      <td>https://cn.chinadaily.com.cn/a/201803/17/WS5be...</td>\n",
       "    </tr>\n",
       "  </tbody>\n",
       "</table>\n",
       "</div>"
      ],
      "text/plain": [
       "   Unnamed: 0  column_1   column_2  \\\n",
       "0           0      2018  2018达沃斯论坛   \n",
       "1           1      2018      影响力峰会   \n",
       "2           2      2018      影响力峰会   \n",
       "3           3  2018全国两会      flash   \n",
       "4           4  2018全国两会       焦点新闻   \n",
       "\n",
       "                                             content        publishtime  \\\n",
       "0  　　满格，请注意，大连达沃斯的“强信号”来了！ 李克强总理出席2017夏季达沃斯论坛两场“重...  2018-09-19 17:50　   \n",
       "1  中国日报网1月5日电 1月5日，中国日报网与网易传媒共同举办的2019影响力峰会在北京国贸大...  2019-01-05 10:05　   \n",
       "2  中国日报网1月5日电 由中国日报和网易新闻联合主办的2019影响力峰会1月5日在北京举行，本...  2019-01-05 09:55　   \n",
       "3  全国人大代表在“代表通道”接受采访。人民网记者 翁奇羽摄 3月13日上午9时，十三届全国人大...  2018-03-13 09:55　   \n",
       "4    3月17日，十三届全国人大一次会议在北京人民大会堂举行第五次全体会议。 新华社记者 姚大伟 摄  2018-03-17 10:05　   \n",
       "\n",
       "          source                        title  \\\n",
       "0  作者： 李昊,来源：人民网      李克强达沃斯论坛上向外商释放了哪些“强信号”？   \n",
       "1       来源：中国日报网  《灰犀牛》作者米歇尔·渥克：第四次工业革命是没有国界的   \n",
       "2       来源：中国日报网    江小涓：大国能更好地支撑生产型服务业 中国极具优势   \n",
       "3    来源：人民网-图片频道       第四场“代表通道”开启：全国人大代表接受采访   \n",
       "4         来源：新华网         十三届全国人大一次会议举行第五次全体会议   \n",
       "\n",
       "                                                 url  \n",
       "0  https://cn.chinadaily.com.cn/a/201809/19/WS5be...  \n",
       "1  https://cn.chinadaily.com.cn/a/201901/05/WS5c3...  \n",
       "2  https://cn.chinadaily.com.cn/a/201901/05/WS5c3...  \n",
       "3  https://cn.chinadaily.com.cn/a/201803/13/WS5be...  \n",
       "4  https://cn.chinadaily.com.cn/a/201803/17/WS5be...  "
      ]
     },
     "execution_count": 3,
     "metadata": {},
     "output_type": "execute_result"
    }
   ],
   "source": [
    "df_cn.head()"
   ]
  },
  {
   "cell_type": "code",
   "execution_count": 4,
   "metadata": {},
   "outputs": [],
   "source": [
    "lst_cont = df_cn['content'].tolist()"
   ]
  },
  {
   "cell_type": "code",
   "execution_count": 5,
   "metadata": {},
   "outputs": [],
   "source": [
    "all_cont = \" \".join(lst_cont)"
   ]
  },
  {
   "cell_type": "code",
   "execution_count": 6,
   "metadata": {},
   "outputs": [
    {
     "name": "stderr",
     "output_type": "stream",
     "text": [
      "Building prefix dict from the default dictionary ...\n",
      "Loading model from cache /var/folders/wh/32sn5ht55s3dcy398ny20_180000gn/T/jieba.cache\n",
      "Loading model cost 0.641 seconds.\n",
      "Prefix dict has been built succesfully.\n"
     ]
    }
   ],
   "source": [
    "lst_top = analyse.extract_tags(all_cont, topK=20, withWeight= True, allowPOS=('ns', 'n', 'vn', 'v'))"
   ]
  },
  {
   "cell_type": "code",
   "execution_count": 78,
   "metadata": {},
   "outputs": [
    {
     "data": {
      "text/plain": [
       "[('中国', 0.039358660766293865),\n",
       " ('发展', 0.02799843992301269),\n",
       " ('记者', 0.02063440739527634),\n",
       " ('合作', 0.020267649396863208),\n",
       " ('国家', 0.018863405196360785),\n",
       " ('旅游', 0.018715999596165787),\n",
       " ('企业', 0.017270864950784927),\n",
       " ('建设', 0.016635956798878786),\n",
       " ('工作', 0.01663425990795954),\n",
       " ('服务', 0.016496298733860233),\n",
       " ('北京', 0.015003064289506752),\n",
       " ('国际', 0.014904722272002886),\n",
       " ('文化', 0.01460113418950278),\n",
       " ('美国', 0.013996867107575334),\n",
       " ('活动', 0.01396044165345031),\n",
       " ('表示', 0.013774640586956585),\n",
       " ('创新', 0.01345167477069321),\n",
       " ('经济', 0.01306739825764528),\n",
       " ('城市', 0.011855744939479282),\n",
       " ('进行', 0.011766110384339761)]"
      ]
     },
     "execution_count": 78,
     "metadata": {},
     "output_type": "execute_result"
    }
   ],
   "source": [
    "lst_top"
   ]
  },
  {
   "cell_type": "code",
   "execution_count": 80,
   "metadata": {},
   "outputs": [],
   "source": [
    "d_top = {k:float(v) for k,v in lst_top}"
   ]
  },
  {
   "cell_type": "code",
   "execution_count": 88,
   "metadata": {},
   "outputs": [
    {
     "data": {
      "text/plain": [
       "<matplotlib.axes._subplots.AxesSubplot at 0x1a5443a0f0>"
      ]
     },
     "execution_count": 88,
     "metadata": {},
     "output_type": "execute_result"
    },
    {
     "data": {
      "image/png": "[encoded data removed]",
      "text/plain": [
       "<Figure size 720x360 with 1 Axes>"
      ]
     },
     "metadata": {},
     "output_type": "display_data"
    }
   ],
   "source": [
    "#dict = {k:float(v) for k, v in dict.iteritems()}\n",
    "s = pd.Series(d_top, name='Top words')\n",
    "#s.index.name = 'Top words'\n",
    "s.reset_index()\n",
    "\n",
    "plt.rcParams['font.sans-serif'] = ['Arial Unicode MS']\n",
    "plt.rcParams['axes.unicode_minus']=False\n",
    "\n",
    "plt.figure(figsize=(10,5))\n",
    "plt.ylabel(\"weight\")\n",
    "plt.xlabel(\"Top words\")\n",
    "s.plot.bar(colormap='icefire_r')"
   ]
  },
  {
   "cell_type": "code",
   "execution_count": null,
   "metadata": {},
   "outputs": [],
   "source": []
  },
  {
   "cell_type": "code",
   "execution_count": null,
   "metadata": {},
   "outputs": [],
   "source": []
  },
  {
   "cell_type": "code",
   "execution_count": 131,
   "metadata": {},
   "outputs": [],
   "source": [
    "from sklearn.model_selection import train_test_split\n",
    "from sklearn.feature_extraction.text import CountVectorizer\n",
    "from sklearn.feature_extraction.text import TfidfTransformer\n",
    "from sklearn.feature_extraction.text import TfidfVectorizer\n",
    "from sklearn.pipeline import Pipeline\n",
    "from sklearn.metrics import confusion_matrix,classification_report,accuracy_score\n",
    "from sklearn.ensemble import RandomForestClassifier\n",
    "from sklearn.linear_model import LogisticRegression\n",
    "from sklearn.naive_bayes import MultinomialNB"
   ]
  },
  {
   "cell_type": "code",
   "execution_count": 56,
   "metadata": {},
   "outputs": [],
   "source": [
    "def cut(string):\n",
    "    #return list(jieba.cut(string, cut_all=False))\n",
    "    return \" \".join(jieba.cut(string, cut_all=False))\n",
    "df_cn['content_d'] = df_cn['content'].apply(cut)"
   ]
  },
  {
   "cell_type": "code",
   "execution_count": 57,
   "metadata": {},
   "outputs": [
    {
     "data": {
      "text/html": [
       "<div>\n",
       "<style scoped>\n",
       "    .dataframe tbody tr th:only-of-type {\n",
       "        vertical-align: middle;\n",
       "    }\n",
       "\n",
       "    .dataframe tbody tr th {\n",
       "        vertical-align: top;\n",
       "    }\n",
       "\n",
       "    .dataframe thead th {\n",
       "        text-align: right;\n",
       "    }\n",
       "</style>\n",
       "<table border=\"1\" class=\"dataframe\">\n",
       "  <thead>\n",
       "    <tr style=\"text-align: right;\">\n",
       "      <th></th>\n",
       "      <th>Unnamed: 0</th>\n",
       "      <th>column_1</th>\n",
       "      <th>column_2</th>\n",
       "      <th>content</th>\n",
       "      <th>publishtime</th>\n",
       "      <th>source</th>\n",
       "      <th>title</th>\n",
       "      <th>url</th>\n",
       "      <th>content_d</th>\n",
       "    </tr>\n",
       "  </thead>\n",
       "  <tbody>\n",
       "    <tr>\n",
       "      <th>0</th>\n",
       "      <td>0</td>\n",
       "      <td>2018</td>\n",
       "      <td>2018达沃斯论坛</td>\n",
       "      <td>满格，请注意，大连达沃斯的“强信号”来了！ 李克强总理出席2017夏季达沃斯论坛两场“重...</td>\n",
       "      <td>2018-09-19 17:50</td>\n",
       "      <td>作者： 李昊,来源：人民网</td>\n",
       "      <td>李克强达沃斯论坛上向外商释放了哪些“强信号”？</td>\n",
       "      <td>https://cn.chinadaily.com.cn/a/201809/19/WS5be...</td>\n",
       "      <td>满格 ， 请 注意 ， 大连 达沃斯 的 “ 强 信号 ” 来 了 ！   李克强 ...</td>\n",
       "    </tr>\n",
       "    <tr>\n",
       "      <th>1</th>\n",
       "      <td>1</td>\n",
       "      <td>2018</td>\n",
       "      <td>影响力峰会</td>\n",
       "      <td>中国日报网1月5日电 1月5日，中国日报网与网易传媒共同举办的2019影响力峰会在北京国贸大...</td>\n",
       "      <td>2019-01-05 10:05</td>\n",
       "      <td>来源：中国日报网</td>\n",
       "      <td>《灰犀牛》作者米歇尔·渥克：第四次工业革命是没有国界的</td>\n",
       "      <td>https://cn.chinadaily.com.cn/a/201901/05/WS5c3...</td>\n",
       "      <td>中国日报 网 1 月 5 日电   1 月 5 日 ， 中国日报 网 与 网易 传媒 共同 ...</td>\n",
       "    </tr>\n",
       "    <tr>\n",
       "      <th>2</th>\n",
       "      <td>2</td>\n",
       "      <td>2018</td>\n",
       "      <td>影响力峰会</td>\n",
       "      <td>中国日报网1月5日电 由中国日报和网易新闻联合主办的2019影响力峰会1月5日在北京举行，本...</td>\n",
       "      <td>2019-01-05 09:55</td>\n",
       "      <td>来源：中国日报网</td>\n",
       "      <td>江小涓：大国能更好地支撑生产型服务业 中国极具优势</td>\n",
       "      <td>https://cn.chinadaily.com.cn/a/201901/05/WS5c3...</td>\n",
       "      <td>中国日报 网 1 月 5 日电   由 中国日报 和 网易 新闻 联合 主办 的 2019 ...</td>\n",
       "    </tr>\n",
       "    <tr>\n",
       "      <th>3</th>\n",
       "      <td>3</td>\n",
       "      <td>2018全国两会</td>\n",
       "      <td>flash</td>\n",
       "      <td>全国人大代表在“代表通道”接受采访。人民网记者 翁奇羽摄 3月13日上午9时，十三届全国人大...</td>\n",
       "      <td>2018-03-13 09:55</td>\n",
       "      <td>来源：人民网-图片频道</td>\n",
       "      <td>第四场“代表通道”开启：全国人大代表接受采访</td>\n",
       "      <td>https://cn.chinadaily.com.cn/a/201803/13/WS5be...</td>\n",
       "      <td>全国 人大代表 在 “ 代表 通道 ” 接受 采访 。 人民网 记者   翁奇羽 摄   3...</td>\n",
       "    </tr>\n",
       "    <tr>\n",
       "      <th>4</th>\n",
       "      <td>4</td>\n",
       "      <td>2018全国两会</td>\n",
       "      <td>焦点新闻</td>\n",
       "      <td>3月17日，十三届全国人大一次会议在北京人民大会堂举行第五次全体会议。 新华社记者 姚大伟 摄</td>\n",
       "      <td>2018-03-17 10:05</td>\n",
       "      <td>来源：新华网</td>\n",
       "      <td>十三届全国人大一次会议举行第五次全体会议</td>\n",
       "      <td>https://cn.chinadaily.com.cn/a/201803/17/WS5be...</td>\n",
       "      <td>3 月 17 日 ， 十三届 全国人大 一次 会议 在 北京人民大会堂 举行 第五次 全体会...</td>\n",
       "    </tr>\n",
       "  </tbody>\n",
       "</table>\n",
       "</div>"
      ],
      "text/plain": [
       "   Unnamed: 0  column_1   column_2  \\\n",
       "0           0      2018  2018达沃斯论坛   \n",
       "1           1      2018      影响力峰会   \n",
       "2           2      2018      影响力峰会   \n",
       "3           3  2018全国两会      flash   \n",
       "4           4  2018全国两会       焦点新闻   \n",
       "\n",
       "                                             content        publishtime  \\\n",
       "0  　　满格，请注意，大连达沃斯的“强信号”来了！ 李克强总理出席2017夏季达沃斯论坛两场“重...  2018-09-19 17:50　   \n",
       "1  中国日报网1月5日电 1月5日，中国日报网与网易传媒共同举办的2019影响力峰会在北京国贸大...  2019-01-05 10:05　   \n",
       "2  中国日报网1月5日电 由中国日报和网易新闻联合主办的2019影响力峰会1月5日在北京举行，本...  2019-01-05 09:55　   \n",
       "3  全国人大代表在“代表通道”接受采访。人民网记者 翁奇羽摄 3月13日上午9时，十三届全国人大...  2018-03-13 09:55　   \n",
       "4    3月17日，十三届全国人大一次会议在北京人民大会堂举行第五次全体会议。 新华社记者 姚大伟 摄  2018-03-17 10:05　   \n",
       "\n",
       "          source                        title  \\\n",
       "0  作者： 李昊,来源：人民网      李克强达沃斯论坛上向外商释放了哪些“强信号”？   \n",
       "1       来源：中国日报网  《灰犀牛》作者米歇尔·渥克：第四次工业革命是没有国界的   \n",
       "2       来源：中国日报网    江小涓：大国能更好地支撑生产型服务业 中国极具优势   \n",
       "3    来源：人民网-图片频道       第四场“代表通道”开启：全国人大代表接受采访   \n",
       "4         来源：新华网         十三届全国人大一次会议举行第五次全体会议   \n",
       "\n",
       "                                                 url  \\\n",
       "0  https://cn.chinadaily.com.cn/a/201809/19/WS5be...   \n",
       "1  https://cn.chinadaily.com.cn/a/201901/05/WS5c3...   \n",
       "2  https://cn.chinadaily.com.cn/a/201901/05/WS5c3...   \n",
       "3  https://cn.chinadaily.com.cn/a/201803/13/WS5be...   \n",
       "4  https://cn.chinadaily.com.cn/a/201803/17/WS5be...   \n",
       "\n",
       "                                           content_d  \n",
       "0  　 　 满格 ， 请 注意 ， 大连 达沃斯 的 “ 强 信号 ” 来 了 ！   李克强 ...  \n",
       "1  中国日报 网 1 月 5 日电   1 月 5 日 ， 中国日报 网 与 网易 传媒 共同 ...  \n",
       "2  中国日报 网 1 月 5 日电   由 中国日报 和 网易 新闻 联合 主办 的 2019 ...  \n",
       "3  全国 人大代表 在 “ 代表 通道 ” 接受 采访 。 人民网 记者   翁奇羽 摄   3...  \n",
       "4  3 月 17 日 ， 十三届 全国人大 一次 会议 在 北京人民大会堂 举行 第五次 全体会...  "
      ]
     },
     "execution_count": 57,
     "metadata": {},
     "output_type": "execute_result"
    }
   ],
   "source": [
    "df_cn.head()"
   ]
  },
  {
   "cell_type": "code",
   "execution_count": 58,
   "metadata": {},
   "outputs": [
    {
     "data": {
      "text/plain": [
       "中国在线                   3461\n",
       "中文首页                   2826\n",
       "中文原创                   2543\n",
       "中文资讯                   1268\n",
       "时政频道                   1160\n",
       "旅游频道                    987\n",
       "当日要闻                    689\n",
       "公益频道                    398\n",
       "老外谈                     358\n",
       "财经频道                    356\n",
       "新疆                      143\n",
       "江西                      124\n",
       "云南                       92\n",
       "图片频道                     84\n",
       "湖南                       77\n",
       "外眼看中国                    75\n",
       "文化频道                     71\n",
       "辽宁                       71\n",
       "黑龙江                      71\n",
       "四川                       64\n",
       "陕西                       61\n",
       "生活频道                     58\n",
       "中国日报精选                   57\n",
       "吉林                       52\n",
       "广东                       49\n",
       "山东                       49\n",
       "湖北                       42\n",
       "江苏                       41\n",
       "企业频道                     38\n",
       "上海                       37\n",
       "                       ... \n",
       "浙江                       27\n",
       "2019                     26\n",
       "山西                       22\n",
       "VISION CHINA 新时代大讲堂      18\n",
       "天津                       17\n",
       "中国那些事儿                   14\n",
       "科技频道                     11\n",
       "河北                       11\n",
       "重庆                       10\n",
       "海南                        9\n",
       "创新中国                      8\n",
       "中国频道                      8\n",
       "权威发布                      7\n",
       "生活滚动                      7\n",
       "西藏                        6\n",
       "房产频道                      6\n",
       "深圳                        6\n",
       "中报精选                      6\n",
       "汽车频道                      5\n",
       "2019全国两会                  4\n",
       "时政要闻                      4\n",
       "微阅读                       4\n",
       "评论                        3\n",
       "2018                      3\n",
       "中国国际进口博览会                 2\n",
       "2018全国两会                  2\n",
       "壮丽70年·奋斗新时代               1\n",
       "中文原创新闻                    1\n",
       "中文聚焦                      1\n",
       "二十国集团领导人大阪峰会              1\n",
       "Name: column_1, Length: 67, dtype: int64"
      ]
     },
     "execution_count": 58,
     "metadata": {},
     "output_type": "execute_result"
    }
   ],
   "source": [
    "graph = df_cn['column_1'].value_counts()\n",
    "graph"
   ]
  },
  {
   "cell_type": "code",
   "execution_count": 59,
   "metadata": {},
   "outputs": [
    {
     "data": {
      "text/plain": [
       "array(['2018', '2018全国两会', '2019', '2019全国两会', '2019酒店大赏',\n",
       "       'VISION CHINA 新时代大讲堂', '上海', '中国国际进口博览会', '中国在线', '中国日报精选',\n",
       "       '中国那些事儿', '中国频道', '中报精选', '中文原创', '中文原创新闻', '中文聚焦', '中文资讯', '中文首页',\n",
       "       '二十国集团领导人大阪峰会', '云南', '企业频道', '公益频道', '创新中国', '北京', '吉林', '四川',\n",
       "       '图片频道', '壮丽70年·奋斗新时代', '外眼看中国', '天津', '山东', '山西', '广东', '广西',\n",
       "       '当日要闻', '微阅读', '房产频道', '文化频道', '新疆', '旅游频道', '时政要闻', '时政频道',\n",
       "       '权威发布', '江苏', '江西', '汽车频道', '河北', '河南', '浙江', '海南', '深圳', '湖北',\n",
       "       '湖南', '生活滚动', '生活频道', '福建', '科技频道', '老外谈', '西藏', '评论', '财经频道',\n",
       "       '贵州', '辽宁', '重庆', '金融频道', '陕西', '黑龙江'], dtype=object)"
      ]
     },
     "execution_count": 59,
     "metadata": {},
     "output_type": "execute_result"
    }
   ],
   "source": [
    "df_cn['column_1'].unique()"
   ]
  },
  {
   "cell_type": "code",
   "execution_count": 135,
   "metadata": {},
   "outputs": [
    {
     "data": {
      "text/html": [
       "<div>\n",
       "<style scoped>\n",
       "    .dataframe tbody tr th:only-of-type {\n",
       "        vertical-align: middle;\n",
       "    }\n",
       "\n",
       "    .dataframe tbody tr th {\n",
       "        vertical-align: top;\n",
       "    }\n",
       "\n",
       "    .dataframe thead th {\n",
       "        text-align: right;\n",
       "    }\n",
       "</style>\n",
       "<table border=\"1\" class=\"dataframe\">\n",
       "  <thead>\n",
       "    <tr style=\"text-align: right;\">\n",
       "      <th></th>\n",
       "      <th>Unnamed: 0</th>\n",
       "      <th>column_1</th>\n",
       "      <th>column_2</th>\n",
       "      <th>content</th>\n",
       "      <th>publishtime</th>\n",
       "      <th>source</th>\n",
       "      <th>title</th>\n",
       "      <th>url</th>\n",
       "      <th>content_d</th>\n",
       "    </tr>\n",
       "  </thead>\n",
       "  <tbody>\n",
       "    <tr>\n",
       "      <th>10438</th>\n",
       "      <td>10517</td>\n",
       "      <td>公益频道</td>\n",
       "      <td>公益滚动</td>\n",
       "      <td>4月13日，“童画食安·全国儿童食品安全守护行动”主题画展在中国儿童中心举行，本次画展由中国...</td>\n",
       "      <td>2019-04-15 15:09</td>\n",
       "      <td>来源：新华网</td>\n",
       "      <td>“童画食安·全国儿童食品安全守护行动”主题画展在京举行</td>\n",
       "      <td>https://cn.chinadaily.com.cn/a/201904/15/WS5cb...</td>\n",
       "      <td>4 月 13 日 ， “ 童画 食安 · 全国 儿童 食品安全 守护 行动 ” 主题 画展 ...</td>\n",
       "    </tr>\n",
       "    <tr>\n",
       "      <th>10439</th>\n",
       "      <td>10518</td>\n",
       "      <td>公益频道</td>\n",
       "      <td>公益滚动</td>\n",
       "      <td>中国日报北京4月13日电 2019年4月13日，“学前学会普通话”行动捐赠仪式在京举行，中植...</td>\n",
       "      <td>2019-04-16 09:39</td>\n",
       "      <td>作者： 严玉洁,来源：中国日报</td>\n",
       "      <td>爱心企业中植集团捐资支持“学前学会普通话”行动</td>\n",
       "      <td>https://cn.chinadaily.com.cn/a/201904/16/WS5cb...</td>\n",
       "      <td>中国日报 北京 4 月 13 日电   2019 年 4 月 13 日 ， “ 学前 学会 ...</td>\n",
       "    </tr>\n",
       "    <tr>\n",
       "      <th>10440</th>\n",
       "      <td>10519</td>\n",
       "      <td>公益频道</td>\n",
       "      <td>公益滚动</td>\n",
       "      <td>为了推进贫困地区教育信息化建设,促进教育均衡化、优质化发展，近日，由中国教育技术协会学术委员...</td>\n",
       "      <td>2019-04-17 10:09</td>\n",
       "      <td>作者： 安 迪,来源：慈善公益报</td>\n",
       "      <td>让贫困地区孩子享优质教育资源</td>\n",
       "      <td>https://cn.chinadaily.com.cn/a/201904/17/WS5cb...</td>\n",
       "      <td>为了 推进 贫困地区 教育 信息化 建设 , 促进 教育 均衡化 、 优质化 发展 ， 近日...</td>\n",
       "    </tr>\n",
       "    <tr>\n",
       "      <th>10441</th>\n",
       "      <td>10520</td>\n",
       "      <td>公益频道</td>\n",
       "      <td>公益滚动</td>\n",
       "      <td>【人物】“乡村主播”李宏波 【故事】菜地沟村位于山西省晋中市和顺县李阳镇，地处太行山深处，此...</td>\n",
       "      <td>2019-04-17 10:09</td>\n",
       "      <td>来源：人民网－人民日报</td>\n",
       "      <td>“乡村主播”李宏波:扶志有志易成事</td>\n",
       "      <td>https://cn.chinadaily.com.cn/a/201904/17/WS5cb...</td>\n",
       "      <td>【 人物 】 “ 乡村 主播 ” 李宏波   【 故事 】 菜 地沟 村 位于 山西省 晋中...</td>\n",
       "    </tr>\n",
       "    <tr>\n",
       "      <th>10442</th>\n",
       "      <td>10521</td>\n",
       "      <td>公益频道</td>\n",
       "      <td>公益滚动</td>\n",
       "      <td>记者从16日召开的国务院政策例行吹风会上获悉，2018年，我国医疗救助惠及1.2亿人次，支出...</td>\n",
       "      <td>2019-04-17 10:36</td>\n",
       "      <td>作者： 张扬、杨志刚、张泉、王秉阳,来源：新华网</td>\n",
       "      <td>[视频]2018年我国医疗救助惠及1.2亿人次</td>\n",
       "      <td>https://cn.chinadaily.com.cn/a/201904/17/WS5cb...</td>\n",
       "      <td>记者 从 16 日 召开 的 国务院 政策 例行 吹风会 上 获悉 ， 2018 年 ， 我...</td>\n",
       "    </tr>\n",
       "  </tbody>\n",
       "</table>\n",
       "</div>"
      ],
      "text/plain": [
       "       Unnamed: 0 column_1 column_2  \\\n",
       "10438       10517     公益频道     公益滚动   \n",
       "10439       10518     公益频道     公益滚动   \n",
       "10440       10519     公益频道     公益滚动   \n",
       "10441       10520     公益频道     公益滚动   \n",
       "10442       10521     公益频道     公益滚动   \n",
       "\n",
       "                                                 content        publishtime  \\\n",
       "10438  4月13日，“童画食安·全国儿童食品安全守护行动”主题画展在中国儿童中心举行，本次画展由中国...  2019-04-15 15:09　   \n",
       "10439  中国日报北京4月13日电 2019年4月13日，“学前学会普通话”行动捐赠仪式在京举行，中植...  2019-04-16 09:39　   \n",
       "10440  为了推进贫困地区教育信息化建设,促进教育均衡化、优质化发展，近日，由中国教育技术协会学术委员...  2019-04-17 10:09　   \n",
       "10441  【人物】“乡村主播”李宏波 【故事】菜地沟村位于山西省晋中市和顺县李阳镇，地处太行山深处，此...  2019-04-17 10:09　   \n",
       "10442  记者从16日召开的国务院政策例行吹风会上获悉，2018年，我国医疗救助惠及1.2亿人次，支出...  2019-04-17 10:36　   \n",
       "\n",
       "                         source                        title  \\\n",
       "10438                    来源：新华网  “童画食安·全国儿童食品安全守护行动”主题画展在京举行   \n",
       "10439           作者： 严玉洁,来源：中国日报      爱心企业中植集团捐资支持“学前学会普通话”行动   \n",
       "10440          作者： 安 迪,来源：慈善公益报               让贫困地区孩子享优质教育资源   \n",
       "10441               来源：人民网－人民日报            “乡村主播”李宏波:扶志有志易成事   \n",
       "10442  作者： 张扬、杨志刚、张泉、王秉阳,来源：新华网      [视频]2018年我国医疗救助惠及1.2亿人次   \n",
       "\n",
       "                                                     url  \\\n",
       "10438  https://cn.chinadaily.com.cn/a/201904/15/WS5cb...   \n",
       "10439  https://cn.chinadaily.com.cn/a/201904/16/WS5cb...   \n",
       "10440  https://cn.chinadaily.com.cn/a/201904/17/WS5cb...   \n",
       "10441  https://cn.chinadaily.com.cn/a/201904/17/WS5cb...   \n",
       "10442  https://cn.chinadaily.com.cn/a/201904/17/WS5cb...   \n",
       "\n",
       "                                               content_d  \n",
       "10438  4 月 13 日 ， “ 童画 食安 · 全国 儿童 食品安全 守护 行动 ” 主题 画展 ...  \n",
       "10439  中国日报 北京 4 月 13 日电   2019 年 4 月 13 日 ， “ 学前 学会 ...  \n",
       "10440  为了 推进 贫困地区 教育 信息化 建设 , 促进 教育 均衡化 、 优质化 发展 ， 近日...  \n",
       "10441  【 人物 】 “ 乡村 主播 ” 李宏波   【 故事 】 菜 地沟 村 位于 山西省 晋中...  \n",
       "10442  记者 从 16 日 召开 的 国务院 政策 例行 吹风会 上 获悉 ， 2018 年 ， 我...  "
      ]
     },
     "execution_count": 135,
     "metadata": {},
     "output_type": "execute_result"
    }
   ],
   "source": [
    "#df_test = df_cn[df_cn['column_1'] == '时政频道' | df_cn['column_1'] == '旅游频道']\n",
    "df_test = df_cn[(df_cn['column_1'] == '时政频道')|(df_cn['column_1'] == '旅游频道')|(df_cn['column_1'] == '财经频道')| (df_cn['column_1'] == '公益频道')]\n",
    "df_test.head()"
   ]
  },
  {
   "cell_type": "code",
   "execution_count": 136,
   "metadata": {},
   "outputs": [],
   "source": [
    "# x is feature data\n",
    "X = df_test['content_d']\n",
    "# y  is label\n",
    "y = df_test['column_1']\n",
    "X_train, X_test, y_train, y_test = train_test_split(X, y, test_size=0.3, random_state= 7)"
   ]
  },
  {
   "cell_type": "code",
   "execution_count": 137,
   "metadata": {},
   "outputs": [
    {
     "data": {
      "text/plain": [
       "(2030,)"
      ]
     },
     "execution_count": 137,
     "metadata": {},
     "output_type": "execute_result"
    }
   ],
   "source": [
    "X_train.shape"
   ]
  },
  {
   "cell_type": "code",
   "execution_count": 138,
   "metadata": {},
   "outputs": [
    {
     "data": {
      "text/plain": [
       "(871,)"
      ]
     },
     "execution_count": 138,
     "metadata": {},
     "output_type": "execute_result"
    }
   ],
   "source": [
    "X_test.shape"
   ]
  },
  {
   "cell_type": "code",
   "execution_count": 139,
   "metadata": {},
   "outputs": [],
   "source": [
    "text_clf_RF = Pipeline([('tfidf', TfidfVectorizer()),\n",
    "                     ('clf', RandomForestClassifier()),])\n"
   ]
  },
  {
   "cell_type": "code",
   "execution_count": 140,
   "metadata": {},
   "outputs": [
    {
     "name": "stderr",
     "output_type": "stream",
     "text": [
      "/anaconda3/lib/python3.6/site-packages/sklearn/ensemble/forest.py:246: FutureWarning: The default value of n_estimators will change from 10 in version 0.20 to 100 in 0.22.\n",
      "  \"10 in version 0.20 to 100 in 0.22.\", FutureWarning)\n"
     ]
    },
    {
     "data": {
      "text/plain": [
       "Pipeline(memory=None,\n",
       "     steps=[('tfidf', TfidfVectorizer(analyzer='word', binary=False, decode_error='strict',\n",
       "        dtype=<class 'numpy.float64'>, encoding='utf-8', input='content',\n",
       "        lowercase=True, max_df=1.0, max_features=None, min_df=1,\n",
       "        ngram_range=(1, 1), norm='l2', preprocessor=None, smooth_idf=True,...obs=None,\n",
       "            oob_score=False, random_state=None, verbose=0,\n",
       "            warm_start=False))])"
      ]
     },
     "execution_count": 140,
     "metadata": {},
     "output_type": "execute_result"
    }
   ],
   "source": [
    "text_clf_RF.fit(X_train, y_train)  "
   ]
  },
  {
   "cell_type": "code",
   "execution_count": 141,
   "metadata": {},
   "outputs": [],
   "source": [
    "predictions = text_clf_RF.predict(X_test)"
   ]
  },
  {
   "cell_type": "code",
   "execution_count": 142,
   "metadata": {},
   "outputs": [
    {
     "name": "stdout",
     "output_type": "stream",
     "text": [
      "[[ 66  26  12   1]\n",
      " [ 11 257  40   2]\n",
      " [ 13  51 282   2]\n",
      " [  7  33  21  47]]\n"
     ]
    }
   ],
   "source": [
    "print(confusion_matrix(y_test,predictions))"
   ]
  },
  {
   "cell_type": "code",
   "execution_count": 143,
   "metadata": {},
   "outputs": [
    {
     "name": "stdout",
     "output_type": "stream",
     "text": [
      "              precision    recall  f1-score   support\n",
      "\n",
      "        公益频道       0.68      0.63      0.65       105\n",
      "        旅游频道       0.70      0.83      0.76       310\n",
      "        时政频道       0.79      0.81      0.80       348\n",
      "        财经频道       0.90      0.44      0.59       108\n",
      "\n",
      "   micro avg       0.75      0.75      0.75       871\n",
      "   macro avg       0.77      0.68      0.70       871\n",
      "weighted avg       0.76      0.75      0.74       871\n",
      "\n"
     ]
    }
   ],
   "source": [
    "print(classification_report(y_test,predictions))"
   ]
  },
  {
   "cell_type": "code",
   "execution_count": 144,
   "metadata": {},
   "outputs": [
    {
     "name": "stdout",
     "output_type": "stream",
     "text": [
      "0.748564867967853\n"
     ]
    }
   ],
   "source": [
    "print(accuracy_score(y_test,predictions))"
   ]
  },
  {
   "cell_type": "code",
   "execution_count": 145,
   "metadata": {},
   "outputs": [
    {
     "name": "stderr",
     "output_type": "stream",
     "text": [
      "/anaconda3/lib/python3.6/site-packages/sklearn/linear_model/logistic.py:433: FutureWarning: Default solver will be changed to 'lbfgs' in 0.22. Specify a solver to silence this warning.\n",
      "  FutureWarning)\n",
      "/anaconda3/lib/python3.6/site-packages/sklearn/linear_model/logistic.py:460: FutureWarning: Default multi_class will be changed to 'auto' in 0.22. Specify the multi_class option to silence this warning.\n",
      "  \"this warning.\", FutureWarning)\n"
     ]
    }
   ],
   "source": [
    "text_clf_LR = Pipeline([('tfidf', TfidfVectorizer()),\n",
    "                     ('clf', LogisticRegression()),])\n",
    "text_clf_LR.fit(X_train, y_train)  \n",
    "predictions = text_clf_LR.predict(X_test)"
   ]
  },
  {
   "cell_type": "code",
   "execution_count": 146,
   "metadata": {},
   "outputs": [
    {
     "name": "stdout",
     "output_type": "stream",
     "text": [
      "[[ 76  12  17   0]\n",
      " [  0 281  25   4]\n",
      " [  0  25 317   6]\n",
      " [  6  21  26  55]]\n"
     ]
    }
   ],
   "source": [
    "print(confusion_matrix(y_test,predictions))"
   ]
  },
  {
   "cell_type": "code",
   "execution_count": 147,
   "metadata": {},
   "outputs": [
    {
     "name": "stdout",
     "output_type": "stream",
     "text": [
      "              precision    recall  f1-score   support\n",
      "\n",
      "        公益频道       0.93      0.72      0.81       105\n",
      "        旅游频道       0.83      0.91      0.87       310\n",
      "        时政频道       0.82      0.91      0.86       348\n",
      "        财经频道       0.85      0.51      0.64       108\n",
      "\n",
      "   micro avg       0.84      0.84      0.84       871\n",
      "   macro avg       0.86      0.76      0.79       871\n",
      "weighted avg       0.84      0.84      0.83       871\n",
      "\n"
     ]
    }
   ],
   "source": [
    "print(classification_report(y_test,predictions))"
   ]
  },
  {
   "cell_type": "code",
   "execution_count": 148,
   "metadata": {},
   "outputs": [
    {
     "name": "stdout",
     "output_type": "stream",
     "text": [
      "0.8369690011481056\n"
     ]
    }
   ],
   "source": [
    "print(accuracy_score(y_test,predictions))"
   ]
  },
  {
   "cell_type": "code",
   "execution_count": 149,
   "metadata": {},
   "outputs": [
    {
     "data": {
      "text/plain": [
       "Pipeline(memory=None,\n",
       "     steps=[('tfidf', TfidfVectorizer(analyzer='word', binary=False, decode_error='strict',\n",
       "        dtype=<class 'numpy.float64'>, encoding='utf-8', input='content',\n",
       "        lowercase=True, max_df=1.0, max_features=None, min_df=1,\n",
       "        ngram_range=(1, 1), norm='l2', preprocessor=None, smooth_idf=True,...rue,\n",
       "        vocabulary=None)), ('clf', MultinomialNB(alpha=1.0, class_prior=None, fit_prior=True))])"
      ]
     },
     "execution_count": 149,
     "metadata": {},
     "output_type": "execute_result"
    }
   ],
   "source": [
    "text_clf_NB = Pipeline([('tfidf', TfidfVectorizer()),\n",
    "                     ('clf', MultinomialNB()),\n",
    "])\n",
    "\n",
    "# Feed the training data through the pipeline\n",
    "text_clf_NB.fit(X_train, y_train) "
   ]
  },
  {
   "cell_type": "code",
   "execution_count": 150,
   "metadata": {},
   "outputs": [],
   "source": [
    "predictions = text_clf_NB.predict(X_test)"
   ]
  },
  {
   "cell_type": "code",
   "execution_count": 151,
   "metadata": {},
   "outputs": [
    {
     "name": "stdout",
     "output_type": "stream",
     "text": [
      "[[ 27  34  44   0]\n",
      " [  0 291  19   0]\n",
      " [  0  44 304   0]\n",
      " [  2  38  53  15]]\n"
     ]
    }
   ],
   "source": [
    "print(confusion_matrix(y_test,predictions))"
   ]
  },
  {
   "cell_type": "code",
   "execution_count": 152,
   "metadata": {},
   "outputs": [
    {
     "name": "stdout",
     "output_type": "stream",
     "text": [
      "              precision    recall  f1-score   support\n",
      "\n",
      "        公益频道       0.93      0.26      0.40       105\n",
      "        旅游频道       0.71      0.94      0.81       310\n",
      "        时政频道       0.72      0.87      0.79       348\n",
      "        财经频道       1.00      0.14      0.24       108\n",
      "\n",
      "   micro avg       0.73      0.73      0.73       871\n",
      "   macro avg       0.84      0.55      0.56       871\n",
      "weighted avg       0.78      0.73      0.68       871\n",
      "\n"
     ]
    }
   ],
   "source": [
    "print(classification_report(y_test,predictions))"
   ]
  },
  {
   "cell_type": "code",
   "execution_count": 153,
   "metadata": {},
   "outputs": [
    {
     "name": "stdout",
     "output_type": "stream",
     "text": [
      "0.7313432835820896\n"
     ]
    }
   ],
   "source": [
    "print(accuracy_score(y_test,predictions))"
   ]
  },
  {
   "cell_type": "code",
   "execution_count": null,
   "metadata": {},
   "outputs": [],
   "source": []
  }
 ],
 "metadata": {
  "kernelspec": {
   "display_name": "Python 3",
   "language": "python",
   "name": "python3"
  },
  "language_info": {
   "codemirror_mode": {
    "name": "ipython",
    "version": 3
   },
   "file_extension": ".py",
   "mimetype": "text/x-python",
   "name": "python",
   "nbconvert_exporter": "python",
   "pygments_lexer": "ipython3",
   "version": "3.6.4"
  }
 },
 "nbformat": 4,
 "nbformat_minor": 2
}
