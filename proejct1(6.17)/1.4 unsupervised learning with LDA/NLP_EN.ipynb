{
 "cells": [
  {
   "cell_type": "markdown",
   "metadata": {},
   "source": [
    "## unsupervise learning on EN_dataset\n"
   ]
  },
  {
   "cell_type": "code",
   "execution_count": 131,
   "metadata": {},
   "outputs": [],
   "source": [
    "import pandas as pd\n",
    "import numpy as np\n",
    "import re\n",
    "import seaborn as sns\n",
    "import matplotlib\n",
    "import matplotlib.pyplot as plt\n",
    "%matplotlib inline\n",
    "import spacy\n",
    "nlp = spacy.load('en_core_web_sm')\n"
   ]
  },
  {
   "cell_type": "code",
   "execution_count": 132,
   "metadata": {},
   "outputs": [],
   "source": [
    "df = pd.read_csv('ChinaDaily_EN_cleaned.csv')\n"
   ]
  },
  {
   "cell_type": "code",
   "execution_count": 133,
   "metadata": {},
   "outputs": [
    {
     "data": {
      "text/html": [
       "<div>\n",
       "<style scoped>\n",
       "    .dataframe tbody tr th:only-of-type {\n",
       "        vertical-align: middle;\n",
       "    }\n",
       "\n",
       "    .dataframe tbody tr th {\n",
       "        vertical-align: top;\n",
       "    }\n",
       "\n",
       "    .dataframe thead th {\n",
       "        text-align: right;\n",
       "    }\n",
       "</style>\n",
       "<table border=\"1\" class=\"dataframe\">\n",
       "  <thead>\n",
       "    <tr style=\"text-align: right;\">\n",
       "      <th></th>\n",
       "      <th>Unnamed: 0</th>\n",
       "      <th>level_0</th>\n",
       "      <th>column_1</th>\n",
       "      <th>column_2</th>\n",
       "      <th>content</th>\n",
       "      <th>publishtime</th>\n",
       "      <th>source</th>\n",
       "      <th>title</th>\n",
       "      <th>url</th>\n",
       "    </tr>\n",
       "  </thead>\n",
       "  <tbody>\n",
       "    <tr>\n",
       "      <th>0</th>\n",
       "      <td>0</td>\n",
       "      <td>0</td>\n",
       "      <td>Business</td>\n",
       "      <td>100 cities, counties and companies</td>\n",
       "      <td>The artificial intelligence sector is expected...</td>\n",
       "      <td>2018-10-15 09:33</td>\n",
       "      <td>QIU QUANLIN,CHINA DAILY</td>\n",
       "      <td>AI plays crucial role in industrial upgrading</td>\n",
       "      <td>http://www.chinadaily.com.cn/a/201810/15/WS5bc...</td>\n",
       "    </tr>\n",
       "    <tr>\n",
       "      <th>1</th>\n",
       "      <td>1</td>\n",
       "      <td>1</td>\n",
       "      <td>Business</td>\n",
       "      <td>100 cities, counties and companies</td>\n",
       "      <td>The 124th session of China's largest trade eve...</td>\n",
       "      <td>2018-10-15 09:21</td>\n",
       "      <td>QIU QUANLIN IN GUANGZHOU,CHINA DAILY</td>\n",
       "      <td>Guangzhou cements position as key trading hub</td>\n",
       "      <td>http://www.chinadaily.com.cn/a/201810/15/WS5bc...</td>\n",
       "    </tr>\n",
       "    <tr>\n",
       "      <th>2</th>\n",
       "      <td>2</td>\n",
       "      <td>2</td>\n",
       "      <td>Business</td>\n",
       "      <td>100 cities, counties and companies</td>\n",
       "      <td>Sixteen years ago, leaving his home village of...</td>\n",
       "      <td>2018-10-16 09:33</td>\n",
       "      <td>LI LEI, SHI BAOYIN AND QI XIN IN LANKAO, HENA...</td>\n",
       "      <td>Returning workers succeed at home</td>\n",
       "      <td>http://www.chinadaily.com.cn/a/201810/16/WS5bc...</td>\n",
       "    </tr>\n",
       "    <tr>\n",
       "      <th>3</th>\n",
       "      <td>3</td>\n",
       "      <td>3</td>\n",
       "      <td>Business</td>\n",
       "      <td>100 cities, counties and companies</td>\n",
       "      <td>Pudong - literally \"east of Huangpu River\" - i...</td>\n",
       "      <td>2018-10-17 09:16</td>\n",
       "      <td>WANG YING AND SHI JING IN SHANGHAI,CHINA DAILY</td>\n",
       "      <td>How Pudong rose from the shadows</td>\n",
       "      <td>http://www.chinadaily.com.cn/a/201810/17/WS5bc...</td>\n",
       "    </tr>\n",
       "    <tr>\n",
       "      <th>4</th>\n",
       "      <td>4</td>\n",
       "      <td>4</td>\n",
       "      <td>Business</td>\n",
       "      <td>100 cities, counties and companies</td>\n",
       "      <td>Farmers in the Tibet autonomous region's Nying...</td>\n",
       "      <td>2018-10-19 09:35</td>\n",
       "      <td>PALDEN NYIMA IN MANLING, TIBET,CHINA DAILY</td>\n",
       "      <td>Herbs grow Tibetan farmers' fortunes</td>\n",
       "      <td>http://www.chinadaily.com.cn/a/201810/19/WS5bc...</td>\n",
       "    </tr>\n",
       "  </tbody>\n",
       "</table>\n",
       "</div>"
      ],
      "text/plain": [
       "   Unnamed: 0  level_0  column_1                            column_2  \\\n",
       "0           0        0  Business  100 cities, counties and companies   \n",
       "1           1        1  Business  100 cities, counties and companies   \n",
       "2           2        2  Business  100 cities, counties and companies   \n",
       "3           3        3  Business  100 cities, counties and companies   \n",
       "4           4        4  Business  100 cities, counties and companies   \n",
       "\n",
       "                                             content       publishtime  \\\n",
       "0  The artificial intelligence sector is expected...  2018-10-15 09:33   \n",
       "1  The 124th session of China's largest trade eve...  2018-10-15 09:21   \n",
       "2  Sixteen years ago, leaving his home village of...  2018-10-16 09:33   \n",
       "3  Pudong - literally \"east of Huangpu River\" - i...  2018-10-17 09:16   \n",
       "4  Farmers in the Tibet autonomous region's Nying...  2018-10-19 09:35   \n",
       "\n",
       "                                              source  \\\n",
       "0                            QIU QUANLIN,CHINA DAILY   \n",
       "1               QIU QUANLIN IN GUANGZHOU,CHINA DAILY   \n",
       "2   LI LEI, SHI BAOYIN AND QI XIN IN LANKAO, HENA...   \n",
       "3     WANG YING AND SHI JING IN SHANGHAI,CHINA DAILY   \n",
       "4         PALDEN NYIMA IN MANLING, TIBET,CHINA DAILY   \n",
       "\n",
       "                                           title  \\\n",
       "0  AI plays crucial role in industrial upgrading   \n",
       "1  Guangzhou cements position as key trading hub   \n",
       "2              Returning workers succeed at home   \n",
       "3               How Pudong rose from the shadows   \n",
       "4           Herbs grow Tibetan farmers' fortunes   \n",
       "\n",
       "                                                 url  \n",
       "0  http://www.chinadaily.com.cn/a/201810/15/WS5bc...  \n",
       "1  http://www.chinadaily.com.cn/a/201810/15/WS5bc...  \n",
       "2  http://www.chinadaily.com.cn/a/201810/16/WS5bc...  \n",
       "3  http://www.chinadaily.com.cn/a/201810/17/WS5bc...  \n",
       "4  http://www.chinadaily.com.cn/a/201810/19/WS5bc...  "
      ]
     },
     "execution_count": 133,
     "metadata": {},
     "output_type": "execute_result"
    }
   ],
   "source": [
    "df.head()"
   ]
  },
  {
   "cell_type": "code",
   "execution_count": 134,
   "metadata": {},
   "outputs": [],
   "source": [
    "from sklearn.feature_extraction.text import CountVectorizer"
   ]
  },
  {
   "cell_type": "code",
   "execution_count": 135,
   "metadata": {},
   "outputs": [],
   "source": [
    "cv = CountVectorizer(max_df=0.95, min_df=2, stop_words='english')"
   ]
  },
  {
   "cell_type": "code",
   "execution_count": 136,
   "metadata": {},
   "outputs": [],
   "source": [
    "dtm = cv.fit_transform(df['content'])"
   ]
  },
  {
   "cell_type": "code",
   "execution_count": 137,
   "metadata": {},
   "outputs": [],
   "source": [
    "from sklearn.decomposition import LatentDirichletAllocation"
   ]
  },
  {
   "cell_type": "code",
   "execution_count": 138,
   "metadata": {},
   "outputs": [],
   "source": [
    "LDA = LatentDirichletAllocation(n_components=5,random_state=42)"
   ]
  },
  {
   "cell_type": "code",
   "execution_count": 139,
   "metadata": {},
   "outputs": [
    {
     "data": {
      "text/plain": [
       "LatentDirichletAllocation(batch_size=128, doc_topic_prior=None,\n",
       "             evaluate_every=-1, learning_decay=0.7,\n",
       "             learning_method='batch', learning_offset=10.0,\n",
       "             max_doc_update_iter=100, max_iter=10, mean_change_tol=0.001,\n",
       "             n_components=5, n_jobs=None, n_topics=None, perp_tol=0.1,\n",
       "             random_state=42, topic_word_prior=None,\n",
       "             total_samples=1000000.0, verbose=0)"
      ]
     },
     "execution_count": 139,
     "metadata": {},
     "output_type": "execute_result"
    }
   ],
   "source": [
    "LDA.fit(dtm)"
   ]
  },
  {
   "cell_type": "code",
   "execution_count": 140,
   "metadata": {},
   "outputs": [
    {
     "data": {
      "text/plain": [
       "67142"
      ]
     },
     "execution_count": 140,
     "metadata": {},
     "output_type": "execute_result"
    }
   ],
   "source": [
    "len(cv.get_feature_names())"
   ]
  },
  {
   "cell_type": "code",
   "execution_count": 141,
   "metadata": {},
   "outputs": [],
   "source": [
    "import random"
   ]
  },
  {
   "cell_type": "code",
   "execution_count": 142,
   "metadata": {},
   "outputs": [
    {
     "name": "stdout",
     "output_type": "stream",
     "text": [
      "aerotropolis\n",
      "brandon\n",
      "bmce\n",
      "4s\n",
      "capitalize\n",
      "barns\n",
      "114\n",
      "catalyzes\n",
      "bingsong\n",
      "adamant\n"
     ]
    }
   ],
   "source": [
    "for i in range(10):\n",
    "    random_word_id = random.randint(0,13449)\n",
    "    print(cv.get_feature_names()[random_word_id])"
   ]
  },
  {
   "cell_type": "code",
   "execution_count": 143,
   "metadata": {},
   "outputs": [
    {
     "data": {
      "text/plain": [
       "5"
      ]
     },
     "execution_count": 143,
     "metadata": {},
     "output_type": "execute_result"
    }
   ],
   "source": [
    "len(LDA.components_)"
   ]
  },
  {
   "cell_type": "code",
   "execution_count": 144,
   "metadata": {},
   "outputs": [
    {
     "data": {
      "text/plain": [
       "67142"
      ]
     },
     "execution_count": 144,
     "metadata": {},
     "output_type": "execute_result"
    }
   ],
   "source": [
    "len(LDA.components_[0])"
   ]
  },
  {
   "cell_type": "code",
   "execution_count": 145,
   "metadata": {},
   "outputs": [
    {
     "name": "stdout",
     "output_type": "stream",
     "text": [
      "THE TOP 10 WORDS FOR TOPIC #0\n",
      "['shanghai', 'based', 'group', 'internet', 'years', 'economy', 'total', 'beijing', '2017', 'research', 'sector', 'bank', 'high', 'global', 'government', 'country', 'report', 'services', 'products', 'investment', 'data', 'business', 'financial', 'development', 'technology', 'industry', 'million', 'chinese', 'new', 'company', 'growth', 'companies', 'according', 'yuan', 'billion', 'market', 'year', 'percent', 'said', 'china']\n",
      "\n",
      "\n",
      "THE TOP 10 WORDS FOR TOPIC #1\n",
      "['ancient', 'million', 'time', 'river', 'cpc', 'culture', 'protection', 'including', 'public', 'rural', 'county', 'new', 'areas', 'region', 'village', 'poverty', 'work', 'area', 'government', 'art', 'exhibition', 'committee', 'museum', 'beijing', 'water', 'central', 'according', 'year', 'years', 'city', 'cultural', 'local', 'chinese', 'party', '000', 'national', 'province', 'people', 'china', 'said']\n",
      "\n",
      "\n",
      "THE TOP 10 WORDS FOR TOPIC #2\n",
      "['police', 'zhang', 'court', 'million', 'public', 'wang', 'just', 'health', 'help', 'medical', 'yuan', 'day', 'province', 'family', 'shanghai', 'world', 'according', 'work', 'young', 'life', 'old', 'new', '000', 'film', 'like', 'online', 'education', 'school', 'children', 'beijing', 'time', 'university', 'says', 'students', 'years', 'year', 'china', 'people', 'chinese', 'said']\n",
      "\n",
      "\n",
      "THE TOP 10 WORDS FOR TOPIC #3\n",
      "['country', 'festival', 'group', 'project', 'time', 'vehicle', '10', 'speed', 'tourists', 'years', 'including', 'electric', 'power', 'high', 'international', 'cities', 'travel', 'railway', 'cars', 'car', 'world', 'province', 'shanghai', 'air', 'percent', 'tourism', 'music', 'company', 'city', 'vehicles', 'according', '000', 'energy', 'million', 'beijing', 'chinese', 'new', 'year', 'said', 'china']\n",
      "\n",
      "\n",
      "THE TOP 10 WORDS FOR TOPIC #4\n",
      "['relations', 'years', 'central', 'committee', 'states', 'political', 'investment', 'work', 'forum', 'important', 'reform', 'state', 'beijing', 'party', 'meeting', 'united', 'government', 'economy', 'opening', 'national', 'foreign', 'initiative', 'belt', 'global', 'country', 'road', 'new', 'president', 'people', 'economic', 'world', 'international', 'cooperation', 'xi', 'development', 'countries', 'trade', 'chinese', 'said', 'china']\n",
      "\n",
      "\n"
     ]
    }
   ],
   "source": [
    "for index,topic in enumerate(LDA.components_):\n",
    "    print(f'THE TOP 10 WORDS FOR TOPIC #{index}')\n",
    "    print([cv.get_feature_names()[i] for i in topic.argsort()[-40:]])\n",
    "    print('\\n')"
   ]
  },
  {
   "cell_type": "markdown",
   "metadata": {},
   "source": [
    "### Attaching Discovered Topic Labels to Original Articles"
   ]
  },
  {
   "cell_type": "code",
   "execution_count": 146,
   "metadata": {},
   "outputs": [
    {
     "data": {
      "text/plain": [
       "<57225x67142 sparse matrix of type '<class 'numpy.int64'>'\n",
       "\twith 8315746 stored elements in Compressed Sparse Row format>"
      ]
     },
     "execution_count": 146,
     "metadata": {},
     "output_type": "execute_result"
    }
   ],
   "source": [
    "dtm"
   ]
  },
  {
   "cell_type": "code",
   "execution_count": 147,
   "metadata": {},
   "outputs": [
    {
     "data": {
      "text/plain": [
       "(57225, 67142)"
      ]
     },
     "execution_count": 147,
     "metadata": {},
     "output_type": "execute_result"
    }
   ],
   "source": [
    "dtm.shape"
   ]
  },
  {
   "cell_type": "code",
   "execution_count": 148,
   "metadata": {},
   "outputs": [
    {
     "data": {
      "text/plain": [
       "57225"
      ]
     },
     "execution_count": 148,
     "metadata": {},
     "output_type": "execute_result"
    }
   ],
   "source": [
    "len(df)"
   ]
  },
  {
   "cell_type": "code",
   "execution_count": 149,
   "metadata": {},
   "outputs": [],
   "source": [
    "topic_results = LDA.transform(dtm)"
   ]
  },
  {
   "cell_type": "code",
   "execution_count": 150,
   "metadata": {},
   "outputs": [
    {
     "data": {
      "text/plain": [
       "(57225, 5)"
      ]
     },
     "execution_count": 150,
     "metadata": {},
     "output_type": "execute_result"
    }
   ],
   "source": [
    "topic_results.shape"
   ]
  },
  {
   "cell_type": "code",
   "execution_count": 151,
   "metadata": {},
   "outputs": [
    {
     "data": {
      "text/plain": [
       "array([3.81930831e-01, 4.15380073e-01, 1.97262247e-01, 5.09297452e-03,\n",
       "       3.33874990e-04])"
      ]
     },
     "execution_count": 151,
     "metadata": {},
     "output_type": "execute_result"
    }
   ],
   "source": [
    "topic_results[2]"
   ]
  },
  {
   "cell_type": "code",
   "execution_count": 152,
   "metadata": {},
   "outputs": [
    {
     "data": {
      "text/plain": [
       "array([0.21, 0.  , 0.11, 0.64, 0.04])"
      ]
     },
     "execution_count": 152,
     "metadata": {},
     "output_type": "execute_result"
    }
   ],
   "source": [
    "topic_results[5].round(2)"
   ]
  },
  {
   "cell_type": "code",
   "execution_count": 153,
   "metadata": {},
   "outputs": [
    {
     "data": {
      "text/plain": [
       "array([0, 0, 1, ..., 2, 2, 3])"
      ]
     },
     "execution_count": 153,
     "metadata": {},
     "output_type": "execute_result"
    }
   ],
   "source": [
    "topic_results.argmax(axis=1)"
   ]
  },
  {
   "cell_type": "code",
   "execution_count": 154,
   "metadata": {},
   "outputs": [],
   "source": [
    "df['LDA_Topic'] = topic_results.argmax(axis=1)"
   ]
  },
  {
   "cell_type": "code",
   "execution_count": 155,
   "metadata": {},
   "outputs": [
    {
     "data": {
      "text/html": [
       "<div>\n",
       "<style scoped>\n",
       "    .dataframe tbody tr th:only-of-type {\n",
       "        vertical-align: middle;\n",
       "    }\n",
       "\n",
       "    .dataframe tbody tr th {\n",
       "        vertical-align: top;\n",
       "    }\n",
       "\n",
       "    .dataframe thead th {\n",
       "        text-align: right;\n",
       "    }\n",
       "</style>\n",
       "<table border=\"1\" class=\"dataframe\">\n",
       "  <thead>\n",
       "    <tr style=\"text-align: right;\">\n",
       "      <th></th>\n",
       "      <th>Unnamed: 0</th>\n",
       "      <th>level_0</th>\n",
       "      <th>column_1</th>\n",
       "      <th>column_2</th>\n",
       "      <th>content</th>\n",
       "      <th>publishtime</th>\n",
       "      <th>source</th>\n",
       "      <th>title</th>\n",
       "      <th>url</th>\n",
       "      <th>LDA_Topic</th>\n",
       "    </tr>\n",
       "  </thead>\n",
       "  <tbody>\n",
       "    <tr>\n",
       "      <th>0</th>\n",
       "      <td>0</td>\n",
       "      <td>0</td>\n",
       "      <td>Business</td>\n",
       "      <td>100 cities, counties and companies</td>\n",
       "      <td>The artificial intelligence sector is expected...</td>\n",
       "      <td>2018-10-15 09:33</td>\n",
       "      <td>QIU QUANLIN,CHINA DAILY</td>\n",
       "      <td>AI plays crucial role in industrial upgrading</td>\n",
       "      <td>http://www.chinadaily.com.cn/a/201810/15/WS5bc...</td>\n",
       "      <td>0</td>\n",
       "    </tr>\n",
       "    <tr>\n",
       "      <th>1</th>\n",
       "      <td>1</td>\n",
       "      <td>1</td>\n",
       "      <td>Business</td>\n",
       "      <td>100 cities, counties and companies</td>\n",
       "      <td>The 124th session of China's largest trade eve...</td>\n",
       "      <td>2018-10-15 09:21</td>\n",
       "      <td>QIU QUANLIN IN GUANGZHOU,CHINA DAILY</td>\n",
       "      <td>Guangzhou cements position as key trading hub</td>\n",
       "      <td>http://www.chinadaily.com.cn/a/201810/15/WS5bc...</td>\n",
       "      <td>0</td>\n",
       "    </tr>\n",
       "    <tr>\n",
       "      <th>2</th>\n",
       "      <td>2</td>\n",
       "      <td>2</td>\n",
       "      <td>Business</td>\n",
       "      <td>100 cities, counties and companies</td>\n",
       "      <td>Sixteen years ago, leaving his home village of...</td>\n",
       "      <td>2018-10-16 09:33</td>\n",
       "      <td>LI LEI, SHI BAOYIN AND QI XIN IN LANKAO, HENA...</td>\n",
       "      <td>Returning workers succeed at home</td>\n",
       "      <td>http://www.chinadaily.com.cn/a/201810/16/WS5bc...</td>\n",
       "      <td>1</td>\n",
       "    </tr>\n",
       "    <tr>\n",
       "      <th>3</th>\n",
       "      <td>3</td>\n",
       "      <td>3</td>\n",
       "      <td>Business</td>\n",
       "      <td>100 cities, counties and companies</td>\n",
       "      <td>Pudong - literally \"east of Huangpu River\" - i...</td>\n",
       "      <td>2018-10-17 09:16</td>\n",
       "      <td>WANG YING AND SHI JING IN SHANGHAI,CHINA DAILY</td>\n",
       "      <td>How Pudong rose from the shadows</td>\n",
       "      <td>http://www.chinadaily.com.cn/a/201810/17/WS5bc...</td>\n",
       "      <td>0</td>\n",
       "    </tr>\n",
       "    <tr>\n",
       "      <th>4</th>\n",
       "      <td>4</td>\n",
       "      <td>4</td>\n",
       "      <td>Business</td>\n",
       "      <td>100 cities, counties and companies</td>\n",
       "      <td>Farmers in the Tibet autonomous region's Nying...</td>\n",
       "      <td>2018-10-19 09:35</td>\n",
       "      <td>PALDEN NYIMA IN MANLING, TIBET,CHINA DAILY</td>\n",
       "      <td>Herbs grow Tibetan farmers' fortunes</td>\n",
       "      <td>http://www.chinadaily.com.cn/a/201810/19/WS5bc...</td>\n",
       "      <td>1</td>\n",
       "    </tr>\n",
       "  </tbody>\n",
       "</table>\n",
       "</div>"
      ],
      "text/plain": [
       "   Unnamed: 0  level_0  column_1                            column_2  \\\n",
       "0           0        0  Business  100 cities, counties and companies   \n",
       "1           1        1  Business  100 cities, counties and companies   \n",
       "2           2        2  Business  100 cities, counties and companies   \n",
       "3           3        3  Business  100 cities, counties and companies   \n",
       "4           4        4  Business  100 cities, counties and companies   \n",
       "\n",
       "                                             content       publishtime  \\\n",
       "0  The artificial intelligence sector is expected...  2018-10-15 09:33   \n",
       "1  The 124th session of China's largest trade eve...  2018-10-15 09:21   \n",
       "2  Sixteen years ago, leaving his home village of...  2018-10-16 09:33   \n",
       "3  Pudong - literally \"east of Huangpu River\" - i...  2018-10-17 09:16   \n",
       "4  Farmers in the Tibet autonomous region's Nying...  2018-10-19 09:35   \n",
       "\n",
       "                                              source  \\\n",
       "0                            QIU QUANLIN,CHINA DAILY   \n",
       "1               QIU QUANLIN IN GUANGZHOU,CHINA DAILY   \n",
       "2   LI LEI, SHI BAOYIN AND QI XIN IN LANKAO, HENA...   \n",
       "3     WANG YING AND SHI JING IN SHANGHAI,CHINA DAILY   \n",
       "4         PALDEN NYIMA IN MANLING, TIBET,CHINA DAILY   \n",
       "\n",
       "                                           title  \\\n",
       "0  AI plays crucial role in industrial upgrading   \n",
       "1  Guangzhou cements position as key trading hub   \n",
       "2              Returning workers succeed at home   \n",
       "3               How Pudong rose from the shadows   \n",
       "4           Herbs grow Tibetan farmers' fortunes   \n",
       "\n",
       "                                                 url  LDA_Topic  \n",
       "0  http://www.chinadaily.com.cn/a/201810/15/WS5bc...          0  \n",
       "1  http://www.chinadaily.com.cn/a/201810/15/WS5bc...          0  \n",
       "2  http://www.chinadaily.com.cn/a/201810/16/WS5bc...          1  \n",
       "3  http://www.chinadaily.com.cn/a/201810/17/WS5bc...          0  \n",
       "4  http://www.chinadaily.com.cn/a/201810/19/WS5bc...          1  "
      ]
     },
     "execution_count": 155,
     "metadata": {},
     "output_type": "execute_result"
    }
   ],
   "source": [
    "df.head()"
   ]
  },
  {
   "cell_type": "code",
   "execution_count": 156,
   "metadata": {},
   "outputs": [],
   "source": [
    "#based on the results\n",
    "\n",
    "\n",
    "Topic0 = 'business'\n",
    "Topic1 = 'lifestyle'\n",
    "Topic2 = 'education'\n",
    "Topic3 = 'tech'\n",
    "Topic4 = 'politics'"
   ]
  },
  {
   "cell_type": "code",
   "execution_count": 157,
   "metadata": {},
   "outputs": [],
   "source": [
    "def relabel(num):\n",
    "    if num == 0:\n",
    "        return Topic0\n",
    "    elif num == 1:\n",
    "        return Topic1\n",
    "    elif num == 2:\n",
    "        return Topic2\n",
    "    elif num == 3:\n",
    "        return Topic3\n",
    "    else:\n",
    "        return Topic4"
   ]
  },
  {
   "cell_type": "code",
   "execution_count": 158,
   "metadata": {},
   "outputs": [],
   "source": [
    "df['LDA_Topic'] = df['LDA_Topic'].apply(relabel)"
   ]
  },
  {
   "cell_type": "code",
   "execution_count": 159,
   "metadata": {},
   "outputs": [
    {
     "ename": "KeyError",
     "evalue": "'overall label'",
     "output_type": "error",
     "traceback": [
      "\u001b[0;31m---------------------------------------------------------------------------\u001b[0m",
      "\u001b[0;31mKeyError\u001b[0m                                  Traceback (most recent call last)",
      "\u001b[0;32m/anaconda3/lib/python3.6/site-packages/pandas/core/indexes/base.py\u001b[0m in \u001b[0;36mget_loc\u001b[0;34m(self, key, method, tolerance)\u001b[0m\n\u001b[1;32m   3077\u001b[0m             \u001b[0;32mtry\u001b[0m\u001b[0;34m:\u001b[0m\u001b[0;34m\u001b[0m\u001b[0m\n\u001b[0;32m-> 3078\u001b[0;31m                 \u001b[0;32mreturn\u001b[0m \u001b[0mself\u001b[0m\u001b[0;34m.\u001b[0m\u001b[0m_engine\u001b[0m\u001b[0;34m.\u001b[0m\u001b[0mget_loc\u001b[0m\u001b[0;34m(\u001b[0m\u001b[0mkey\u001b[0m\u001b[0;34m)\u001b[0m\u001b[0;34m\u001b[0m\u001b[0m\n\u001b[0m\u001b[1;32m   3079\u001b[0m             \u001b[0;32mexcept\u001b[0m \u001b[0mKeyError\u001b[0m\u001b[0;34m:\u001b[0m\u001b[0;34m\u001b[0m\u001b[0m\n",
      "\u001b[0;32mpandas/_libs/index.pyx\u001b[0m in \u001b[0;36mpandas._libs.index.IndexEngine.get_loc\u001b[0;34m()\u001b[0m\n",
      "\u001b[0;32mpandas/_libs/index.pyx\u001b[0m in \u001b[0;36mpandas._libs.index.IndexEngine.get_loc\u001b[0;34m()\u001b[0m\n",
      "\u001b[0;32mpandas/_libs/hashtable_class_helper.pxi\u001b[0m in \u001b[0;36mpandas._libs.hashtable.PyObjectHashTable.get_item\u001b[0;34m()\u001b[0m\n",
      "\u001b[0;32mpandas/_libs/hashtable_class_helper.pxi\u001b[0m in \u001b[0;36mpandas._libs.hashtable.PyObjectHashTable.get_item\u001b[0;34m()\u001b[0m\n",
      "\u001b[0;31mKeyError\u001b[0m: 'overall label'",
      "\nDuring handling of the above exception, another exception occurred:\n",
      "\u001b[0;31mKeyError\u001b[0m                                  Traceback (most recent call last)",
      "\u001b[0;32m<ipython-input-159-8e529d09b7f8>\u001b[0m in \u001b[0;36m<module>\u001b[0;34m()\u001b[0m\n\u001b[0;32m----> 1\u001b[0;31m \u001b[0mdf\u001b[0m\u001b[0;34m[\u001b[0m\u001b[0mdf\u001b[0m\u001b[0;34m[\u001b[0m\u001b[0;34m'overall label'\u001b[0m\u001b[0;34m]\u001b[0m \u001b[0;34m==\u001b[0m \u001b[0mdf\u001b[0m\u001b[0;34m[\u001b[0m\u001b[0;34m'LDA_Topic'\u001b[0m\u001b[0;34m]\u001b[0m\u001b[0;34m]\u001b[0m\u001b[0;34m\u001b[0m\u001b[0m\n\u001b[0m",
      "\u001b[0;32m/anaconda3/lib/python3.6/site-packages/pandas/core/frame.py\u001b[0m in \u001b[0;36m__getitem__\u001b[0;34m(self, key)\u001b[0m\n\u001b[1;32m   2686\u001b[0m             \u001b[0;32mreturn\u001b[0m \u001b[0mself\u001b[0m\u001b[0;34m.\u001b[0m\u001b[0m_getitem_multilevel\u001b[0m\u001b[0;34m(\u001b[0m\u001b[0mkey\u001b[0m\u001b[0;34m)\u001b[0m\u001b[0;34m\u001b[0m\u001b[0m\n\u001b[1;32m   2687\u001b[0m         \u001b[0;32melse\u001b[0m\u001b[0;34m:\u001b[0m\u001b[0;34m\u001b[0m\u001b[0m\n\u001b[0;32m-> 2688\u001b[0;31m             \u001b[0;32mreturn\u001b[0m \u001b[0mself\u001b[0m\u001b[0;34m.\u001b[0m\u001b[0m_getitem_column\u001b[0m\u001b[0;34m(\u001b[0m\u001b[0mkey\u001b[0m\u001b[0;34m)\u001b[0m\u001b[0;34m\u001b[0m\u001b[0m\n\u001b[0m\u001b[1;32m   2689\u001b[0m \u001b[0;34m\u001b[0m\u001b[0m\n\u001b[1;32m   2690\u001b[0m     \u001b[0;32mdef\u001b[0m \u001b[0m_getitem_column\u001b[0m\u001b[0;34m(\u001b[0m\u001b[0mself\u001b[0m\u001b[0;34m,\u001b[0m \u001b[0mkey\u001b[0m\u001b[0;34m)\u001b[0m\u001b[0;34m:\u001b[0m\u001b[0;34m\u001b[0m\u001b[0m\n",
      "\u001b[0;32m/anaconda3/lib/python3.6/site-packages/pandas/core/frame.py\u001b[0m in \u001b[0;36m_getitem_column\u001b[0;34m(self, key)\u001b[0m\n\u001b[1;32m   2693\u001b[0m         \u001b[0;31m# get column\u001b[0m\u001b[0;34m\u001b[0m\u001b[0;34m\u001b[0m\u001b[0m\n\u001b[1;32m   2694\u001b[0m         \u001b[0;32mif\u001b[0m \u001b[0mself\u001b[0m\u001b[0;34m.\u001b[0m\u001b[0mcolumns\u001b[0m\u001b[0;34m.\u001b[0m\u001b[0mis_unique\u001b[0m\u001b[0;34m:\u001b[0m\u001b[0;34m\u001b[0m\u001b[0m\n\u001b[0;32m-> 2695\u001b[0;31m             \u001b[0;32mreturn\u001b[0m \u001b[0mself\u001b[0m\u001b[0;34m.\u001b[0m\u001b[0m_get_item_cache\u001b[0m\u001b[0;34m(\u001b[0m\u001b[0mkey\u001b[0m\u001b[0;34m)\u001b[0m\u001b[0;34m\u001b[0m\u001b[0m\n\u001b[0m\u001b[1;32m   2696\u001b[0m \u001b[0;34m\u001b[0m\u001b[0m\n\u001b[1;32m   2697\u001b[0m         \u001b[0;31m# duplicate columns & possible reduce dimensionality\u001b[0m\u001b[0;34m\u001b[0m\u001b[0;34m\u001b[0m\u001b[0m\n",
      "\u001b[0;32m/anaconda3/lib/python3.6/site-packages/pandas/core/generic.py\u001b[0m in \u001b[0;36m_get_item_cache\u001b[0;34m(self, item)\u001b[0m\n\u001b[1;32m   2487\u001b[0m         \u001b[0mres\u001b[0m \u001b[0;34m=\u001b[0m \u001b[0mcache\u001b[0m\u001b[0;34m.\u001b[0m\u001b[0mget\u001b[0m\u001b[0;34m(\u001b[0m\u001b[0mitem\u001b[0m\u001b[0;34m)\u001b[0m\u001b[0;34m\u001b[0m\u001b[0m\n\u001b[1;32m   2488\u001b[0m         \u001b[0;32mif\u001b[0m \u001b[0mres\u001b[0m \u001b[0;32mis\u001b[0m \u001b[0;32mNone\u001b[0m\u001b[0;34m:\u001b[0m\u001b[0;34m\u001b[0m\u001b[0m\n\u001b[0;32m-> 2489\u001b[0;31m             \u001b[0mvalues\u001b[0m \u001b[0;34m=\u001b[0m \u001b[0mself\u001b[0m\u001b[0;34m.\u001b[0m\u001b[0m_data\u001b[0m\u001b[0;34m.\u001b[0m\u001b[0mget\u001b[0m\u001b[0;34m(\u001b[0m\u001b[0mitem\u001b[0m\u001b[0;34m)\u001b[0m\u001b[0;34m\u001b[0m\u001b[0m\n\u001b[0m\u001b[1;32m   2490\u001b[0m             \u001b[0mres\u001b[0m \u001b[0;34m=\u001b[0m \u001b[0mself\u001b[0m\u001b[0;34m.\u001b[0m\u001b[0m_box_item_values\u001b[0m\u001b[0;34m(\u001b[0m\u001b[0mitem\u001b[0m\u001b[0;34m,\u001b[0m \u001b[0mvalues\u001b[0m\u001b[0;34m)\u001b[0m\u001b[0;34m\u001b[0m\u001b[0m\n\u001b[1;32m   2491\u001b[0m             \u001b[0mcache\u001b[0m\u001b[0;34m[\u001b[0m\u001b[0mitem\u001b[0m\u001b[0;34m]\u001b[0m \u001b[0;34m=\u001b[0m \u001b[0mres\u001b[0m\u001b[0;34m\u001b[0m\u001b[0m\n",
      "\u001b[0;32m/anaconda3/lib/python3.6/site-packages/pandas/core/internals.py\u001b[0m in \u001b[0;36mget\u001b[0;34m(self, item, fastpath)\u001b[0m\n\u001b[1;32m   4113\u001b[0m \u001b[0;34m\u001b[0m\u001b[0m\n\u001b[1;32m   4114\u001b[0m             \u001b[0;32mif\u001b[0m \u001b[0;32mnot\u001b[0m \u001b[0misna\u001b[0m\u001b[0;34m(\u001b[0m\u001b[0mitem\u001b[0m\u001b[0;34m)\u001b[0m\u001b[0;34m:\u001b[0m\u001b[0;34m\u001b[0m\u001b[0m\n\u001b[0;32m-> 4115\u001b[0;31m                 \u001b[0mloc\u001b[0m \u001b[0;34m=\u001b[0m \u001b[0mself\u001b[0m\u001b[0;34m.\u001b[0m\u001b[0mitems\u001b[0m\u001b[0;34m.\u001b[0m\u001b[0mget_loc\u001b[0m\u001b[0;34m(\u001b[0m\u001b[0mitem\u001b[0m\u001b[0;34m)\u001b[0m\u001b[0;34m\u001b[0m\u001b[0m\n\u001b[0m\u001b[1;32m   4116\u001b[0m             \u001b[0;32melse\u001b[0m\u001b[0;34m:\u001b[0m\u001b[0;34m\u001b[0m\u001b[0m\n\u001b[1;32m   4117\u001b[0m                 \u001b[0mindexer\u001b[0m \u001b[0;34m=\u001b[0m \u001b[0mnp\u001b[0m\u001b[0;34m.\u001b[0m\u001b[0marange\u001b[0m\u001b[0;34m(\u001b[0m\u001b[0mlen\u001b[0m\u001b[0;34m(\u001b[0m\u001b[0mself\u001b[0m\u001b[0;34m.\u001b[0m\u001b[0mitems\u001b[0m\u001b[0;34m)\u001b[0m\u001b[0;34m)\u001b[0m\u001b[0;34m[\u001b[0m\u001b[0misna\u001b[0m\u001b[0;34m(\u001b[0m\u001b[0mself\u001b[0m\u001b[0;34m.\u001b[0m\u001b[0mitems\u001b[0m\u001b[0;34m)\u001b[0m\u001b[0;34m]\u001b[0m\u001b[0;34m\u001b[0m\u001b[0m\n",
      "\u001b[0;32m/anaconda3/lib/python3.6/site-packages/pandas/core/indexes/base.py\u001b[0m in \u001b[0;36mget_loc\u001b[0;34m(self, key, method, tolerance)\u001b[0m\n\u001b[1;32m   3078\u001b[0m                 \u001b[0;32mreturn\u001b[0m \u001b[0mself\u001b[0m\u001b[0;34m.\u001b[0m\u001b[0m_engine\u001b[0m\u001b[0;34m.\u001b[0m\u001b[0mget_loc\u001b[0m\u001b[0;34m(\u001b[0m\u001b[0mkey\u001b[0m\u001b[0;34m)\u001b[0m\u001b[0;34m\u001b[0m\u001b[0m\n\u001b[1;32m   3079\u001b[0m             \u001b[0;32mexcept\u001b[0m \u001b[0mKeyError\u001b[0m\u001b[0;34m:\u001b[0m\u001b[0;34m\u001b[0m\u001b[0m\n\u001b[0;32m-> 3080\u001b[0;31m                 \u001b[0;32mreturn\u001b[0m \u001b[0mself\u001b[0m\u001b[0;34m.\u001b[0m\u001b[0m_engine\u001b[0m\u001b[0;34m.\u001b[0m\u001b[0mget_loc\u001b[0m\u001b[0;34m(\u001b[0m\u001b[0mself\u001b[0m\u001b[0;34m.\u001b[0m\u001b[0m_maybe_cast_indexer\u001b[0m\u001b[0;34m(\u001b[0m\u001b[0mkey\u001b[0m\u001b[0;34m)\u001b[0m\u001b[0;34m)\u001b[0m\u001b[0;34m\u001b[0m\u001b[0m\n\u001b[0m\u001b[1;32m   3081\u001b[0m \u001b[0;34m\u001b[0m\u001b[0m\n\u001b[1;32m   3082\u001b[0m         \u001b[0mindexer\u001b[0m \u001b[0;34m=\u001b[0m \u001b[0mself\u001b[0m\u001b[0;34m.\u001b[0m\u001b[0mget_indexer\u001b[0m\u001b[0;34m(\u001b[0m\u001b[0;34m[\u001b[0m\u001b[0mkey\u001b[0m\u001b[0;34m]\u001b[0m\u001b[0;34m,\u001b[0m \u001b[0mmethod\u001b[0m\u001b[0;34m=\u001b[0m\u001b[0mmethod\u001b[0m\u001b[0;34m,\u001b[0m \u001b[0mtolerance\u001b[0m\u001b[0;34m=\u001b[0m\u001b[0mtolerance\u001b[0m\u001b[0;34m)\u001b[0m\u001b[0;34m\u001b[0m\u001b[0m\n",
      "\u001b[0;32mpandas/_libs/index.pyx\u001b[0m in \u001b[0;36mpandas._libs.index.IndexEngine.get_loc\u001b[0;34m()\u001b[0m\n",
      "\u001b[0;32mpandas/_libs/index.pyx\u001b[0m in \u001b[0;36mpandas._libs.index.IndexEngine.get_loc\u001b[0;34m()\u001b[0m\n",
      "\u001b[0;32mpandas/_libs/hashtable_class_helper.pxi\u001b[0m in \u001b[0;36mpandas._libs.hashtable.PyObjectHashTable.get_item\u001b[0;34m()\u001b[0m\n",
      "\u001b[0;32mpandas/_libs/hashtable_class_helper.pxi\u001b[0m in \u001b[0;36mpandas._libs.hashtable.PyObjectHashTable.get_item\u001b[0;34m()\u001b[0m\n",
      "\u001b[0;31mKeyError\u001b[0m: 'overall label'"
     ]
    }
   ],
   "source": [
    "df[df['overall label'] == df['LDA_Topic']]"
   ]
  },
  {
   "cell_type": "code",
   "execution_count": 98,
   "metadata": {},
   "outputs": [
    {
     "data": {
      "text/plain": [
       "0.21994884910485935"
      ]
     },
     "execution_count": 98,
     "metadata": {},
     "output_type": "execute_result"
    }
   ],
   "source": [
    "#the correct percentage is \n",
    "len(df[df['overall label'] == df['LDA_Topic']])/len(df)"
   ]
  },
  {
   "cell_type": "code",
   "execution_count": 101,
   "metadata": {},
   "outputs": [],
   "source": [
    "df_temp = df[df['business'] == 0]"
   ]
  },
  {
   "cell_type": "code",
   "execution_count": 104,
   "metadata": {},
   "outputs": [
    {
     "data": {
      "text/plain": [
       "False    644\n",
       "True     288\n",
       "Name: LDA_Topic, dtype: int64"
      ]
     },
     "execution_count": 104,
     "metadata": {},
     "output_type": "execute_result"
    }
   ],
   "source": [
    "(df_temp['LDA_Topic'] == 'business').value_counts()"
   ]
  },
  {
   "cell_type": "markdown",
   "metadata": {},
   "source": [
    "## using NMF algorithm "
   ]
  },
  {
   "cell_type": "code",
   "execution_count": 160,
   "metadata": {},
   "outputs": [],
   "source": [
    "from sklearn.feature_extraction.text import TfidfVectorizer"
   ]
  },
  {
   "cell_type": "code",
   "execution_count": 161,
   "metadata": {},
   "outputs": [],
   "source": [
    "tfidf = TfidfVectorizer(max_df=0.95, min_df=2, stop_words='english')"
   ]
  },
  {
   "cell_type": "code",
   "execution_count": 162,
   "metadata": {},
   "outputs": [],
   "source": [
    "dtm = tfidf.fit_transform(df['content'])"
   ]
  },
  {
   "cell_type": "code",
   "execution_count": 163,
   "metadata": {},
   "outputs": [],
   "source": [
    "from sklearn.decomposition import NMF"
   ]
  },
  {
   "cell_type": "code",
   "execution_count": 164,
   "metadata": {},
   "outputs": [],
   "source": [
    "nmf_model = NMF(n_components=5,random_state=42)"
   ]
  },
  {
   "cell_type": "code",
   "execution_count": 165,
   "metadata": {},
   "outputs": [
    {
     "data": {
      "text/plain": [
       "NMF(alpha=0.0, beta_loss='frobenius', init=None, l1_ratio=0.0, max_iter=200,\n",
       "  n_components=5, random_state=42, shuffle=False, solver='cd', tol=0.0001,\n",
       "  verbose=0)"
      ]
     },
     "execution_count": 165,
     "metadata": {},
     "output_type": "execute_result"
    }
   ],
   "source": [
    "nmf_model.fit(dtm)"
   ]
  },
  {
   "cell_type": "code",
   "execution_count": 166,
   "metadata": {},
   "outputs": [
    {
     "data": {
      "text/plain": [
       "array([[0.00000000e+00, 0.00000000e+00, 0.00000000e+00, ...,\n",
       "        2.16656020e-05, 9.27827158e-06, 0.00000000e+00],\n",
       "       [4.14098926e-04, 8.10667464e-02, 0.00000000e+00, ...,\n",
       "        1.10141603e-04, 1.25851542e-04, 5.75494133e-05],\n",
       "       [9.26498174e-03, 4.09160252e-01, 0.00000000e+00, ...,\n",
       "        1.79029583e-05, 5.36633659e-05, 2.78263070e-04],\n",
       "       [0.00000000e+00, 0.00000000e+00, 0.00000000e+00, ...,\n",
       "        0.00000000e+00, 0.00000000e+00, 0.00000000e+00],\n",
       "       [1.02583641e-02, 2.79239948e-01, 5.66004858e-03, ...,\n",
       "        1.14894486e-05, 3.61411227e-05, 1.28445823e-04]])"
      ]
     },
     "execution_count": 166,
     "metadata": {},
     "output_type": "execute_result"
    }
   ],
   "source": [
    "nmf_model.components_"
   ]
  },
  {
   "cell_type": "code",
   "execution_count": 167,
   "metadata": {},
   "outputs": [
    {
     "data": {
      "text/plain": [
       "5"
      ]
     },
     "execution_count": 167,
     "metadata": {},
     "output_type": "execute_result"
    }
   ],
   "source": [
    "len(nmf_model.components_)"
   ]
  },
  {
   "cell_type": "code",
   "execution_count": 168,
   "metadata": {},
   "outputs": [],
   "source": [
    "single_topic = nmf_model.components_[0]"
   ]
  },
  {
   "cell_type": "code",
   "execution_count": 169,
   "metadata": {},
   "outputs": [
    {
     "data": {
      "text/plain": [
       "array([    0, 39264, 39265, ..., 14073, 11348, 58909])"
      ]
     },
     "execution_count": 169,
     "metadata": {},
     "output_type": "execute_result"
    }
   ],
   "source": [
    "single_topic.argsort()"
   ]
  },
  {
   "cell_type": "code",
   "execution_count": 170,
   "metadata": {},
   "outputs": [
    {
     "name": "stdout",
     "output_type": "stream",
     "text": [
      "THE TOP 15 WORDS FOR TOPIC #0\n",
      "['xi', 'world', 'development', 'chinese', 'global', 'initiative', 'international', 'belt', 'economic', 'road', 'cooperation', 'said', 'countries', 'china', 'trade']\n",
      "\n",
      "\n",
      "THE TOP 15 WORDS FOR TOPIC #1\n",
      "['quarter', 'investment', 'sales', 'report', 'million', 'financial', 'china', 'market', 'bank', 'trillion', 'growth', 'billion', 'yuan', 'year', 'percent']\n",
      "\n",
      "\n",
      "THE TOP 15 WORDS FOR TOPIC #2\n",
      "['government', 'services', 'million', '000', 'development', 'city', 'according', 'industry', 'internet', 'companies', 'new', 'technology', 'company', 'china', 'said']\n",
      "\n",
      "\n",
      "THE TOP 15 WORDS FOR TOPIC #3\n",
      "['secretary', 'poverty', 'military', 'said', 'jinping', 'national', 'congress', 'communist', 'people', 'political', 'central', 'committee', 'cpc', 'party', 'xi']\n",
      "\n",
      "\n",
      "THE TOP 15 WORDS FOR TOPIC #4\n",
      "['school', 'year', 'china', 'people', 'music', 'culture', 'students', 'festival', 'exhibition', 'museum', 'film', 'cultural', 'art', 'says', 'chinese']\n",
      "\n",
      "\n"
     ]
    }
   ],
   "source": [
    "for index,topic in enumerate(nmf_model.components_):\n",
    "    print(f'THE TOP 15 WORDS FOR TOPIC #{index}')\n",
    "    print([tfidf.get_feature_names()[i] for i in topic.argsort()[-15:]])\n",
    "    print('\\n')"
   ]
  },
  {
   "cell_type": "code",
   "execution_count": 171,
   "metadata": {},
   "outputs": [],
   "source": [
    "Topic0 = 'politics'\n",
    "Topic1 = 'business'\n",
    "Topic2 = 'tech'\n",
    "Topic3 = 'politics'\n",
    "Topic4 = 'education_lifestyle'"
   ]
  },
  {
   "cell_type": "code",
   "execution_count": 172,
   "metadata": {},
   "outputs": [],
   "source": [
    "topic_results = nmf_model.transform(dtm)"
   ]
  },
  {
   "cell_type": "code",
   "execution_count": 173,
   "metadata": {},
   "outputs": [],
   "source": [
    "df['NMF_Topic'] = topic_results.argmax(axis=1)"
   ]
  },
  {
   "cell_type": "code",
   "execution_count": 174,
   "metadata": {},
   "outputs": [],
   "source": [
    "df['NMF_Topic'] = df['NMF_Topic'].apply(relabel)"
   ]
  },
  {
   "cell_type": "code",
   "execution_count": 175,
   "metadata": {},
   "outputs": [
    {
     "data": {
      "text/html": [
       "<div>\n",
       "<style scoped>\n",
       "    .dataframe tbody tr th:only-of-type {\n",
       "        vertical-align: middle;\n",
       "    }\n",
       "\n",
       "    .dataframe tbody tr th {\n",
       "        vertical-align: top;\n",
       "    }\n",
       "\n",
       "    .dataframe thead th {\n",
       "        text-align: right;\n",
       "    }\n",
       "</style>\n",
       "<table border=\"1\" class=\"dataframe\">\n",
       "  <thead>\n",
       "    <tr style=\"text-align: right;\">\n",
       "      <th></th>\n",
       "      <th>Unnamed: 0</th>\n",
       "      <th>level_0</th>\n",
       "      <th>column_1</th>\n",
       "      <th>column_2</th>\n",
       "      <th>content</th>\n",
       "      <th>publishtime</th>\n",
       "      <th>source</th>\n",
       "      <th>title</th>\n",
       "      <th>url</th>\n",
       "      <th>LDA_Topic</th>\n",
       "      <th>NMF_Topic</th>\n",
       "    </tr>\n",
       "  </thead>\n",
       "  <tbody>\n",
       "    <tr>\n",
       "      <th>0</th>\n",
       "      <td>0</td>\n",
       "      <td>0</td>\n",
       "      <td>Business</td>\n",
       "      <td>100 cities, counties and companies</td>\n",
       "      <td>The artificial intelligence sector is expected...</td>\n",
       "      <td>2018-10-15 09:33</td>\n",
       "      <td>QIU QUANLIN,CHINA DAILY</td>\n",
       "      <td>AI plays crucial role in industrial upgrading</td>\n",
       "      <td>http://www.chinadaily.com.cn/a/201810/15/WS5bc...</td>\n",
       "      <td>business</td>\n",
       "      <td>tech</td>\n",
       "    </tr>\n",
       "    <tr>\n",
       "      <th>1</th>\n",
       "      <td>1</td>\n",
       "      <td>1</td>\n",
       "      <td>Business</td>\n",
       "      <td>100 cities, counties and companies</td>\n",
       "      <td>The 124th session of China's largest trade eve...</td>\n",
       "      <td>2018-10-15 09:21</td>\n",
       "      <td>QIU QUANLIN IN GUANGZHOU,CHINA DAILY</td>\n",
       "      <td>Guangzhou cements position as key trading hub</td>\n",
       "      <td>http://www.chinadaily.com.cn/a/201810/15/WS5bc...</td>\n",
       "      <td>business</td>\n",
       "      <td>politics</td>\n",
       "    </tr>\n",
       "    <tr>\n",
       "      <th>2</th>\n",
       "      <td>2</td>\n",
       "      <td>2</td>\n",
       "      <td>Business</td>\n",
       "      <td>100 cities, counties and companies</td>\n",
       "      <td>Sixteen years ago, leaving his home village of...</td>\n",
       "      <td>2018-10-16 09:33</td>\n",
       "      <td>LI LEI, SHI BAOYIN AND QI XIN IN LANKAO, HENA...</td>\n",
       "      <td>Returning workers succeed at home</td>\n",
       "      <td>http://www.chinadaily.com.cn/a/201810/16/WS5bc...</td>\n",
       "      <td>lifestyle</td>\n",
       "      <td>tech</td>\n",
       "    </tr>\n",
       "    <tr>\n",
       "      <th>3</th>\n",
       "      <td>3</td>\n",
       "      <td>3</td>\n",
       "      <td>Business</td>\n",
       "      <td>100 cities, counties and companies</td>\n",
       "      <td>Pudong - literally \"east of Huangpu River\" - i...</td>\n",
       "      <td>2018-10-17 09:16</td>\n",
       "      <td>WANG YING AND SHI JING IN SHANGHAI,CHINA DAILY</td>\n",
       "      <td>How Pudong rose from the shadows</td>\n",
       "      <td>http://www.chinadaily.com.cn/a/201810/17/WS5bc...</td>\n",
       "      <td>business</td>\n",
       "      <td>tech</td>\n",
       "    </tr>\n",
       "    <tr>\n",
       "      <th>4</th>\n",
       "      <td>4</td>\n",
       "      <td>4</td>\n",
       "      <td>Business</td>\n",
       "      <td>100 cities, counties and companies</td>\n",
       "      <td>Farmers in the Tibet autonomous region's Nying...</td>\n",
       "      <td>2018-10-19 09:35</td>\n",
       "      <td>PALDEN NYIMA IN MANLING, TIBET,CHINA DAILY</td>\n",
       "      <td>Herbs grow Tibetan farmers' fortunes</td>\n",
       "      <td>http://www.chinadaily.com.cn/a/201810/19/WS5bc...</td>\n",
       "      <td>lifestyle</td>\n",
       "      <td>tech</td>\n",
       "    </tr>\n",
       "  </tbody>\n",
       "</table>\n",
       "</div>"
      ],
      "text/plain": [
       "   Unnamed: 0  level_0  column_1                            column_2  \\\n",
       "0           0        0  Business  100 cities, counties and companies   \n",
       "1           1        1  Business  100 cities, counties and companies   \n",
       "2           2        2  Business  100 cities, counties and companies   \n",
       "3           3        3  Business  100 cities, counties and companies   \n",
       "4           4        4  Business  100 cities, counties and companies   \n",
       "\n",
       "                                             content       publishtime  \\\n",
       "0  The artificial intelligence sector is expected...  2018-10-15 09:33   \n",
       "1  The 124th session of China's largest trade eve...  2018-10-15 09:21   \n",
       "2  Sixteen years ago, leaving his home village of...  2018-10-16 09:33   \n",
       "3  Pudong - literally \"east of Huangpu River\" - i...  2018-10-17 09:16   \n",
       "4  Farmers in the Tibet autonomous region's Nying...  2018-10-19 09:35   \n",
       "\n",
       "                                              source  \\\n",
       "0                            QIU QUANLIN,CHINA DAILY   \n",
       "1               QIU QUANLIN IN GUANGZHOU,CHINA DAILY   \n",
       "2   LI LEI, SHI BAOYIN AND QI XIN IN LANKAO, HENA...   \n",
       "3     WANG YING AND SHI JING IN SHANGHAI,CHINA DAILY   \n",
       "4         PALDEN NYIMA IN MANLING, TIBET,CHINA DAILY   \n",
       "\n",
       "                                           title  \\\n",
       "0  AI plays crucial role in industrial upgrading   \n",
       "1  Guangzhou cements position as key trading hub   \n",
       "2              Returning workers succeed at home   \n",
       "3               How Pudong rose from the shadows   \n",
       "4           Herbs grow Tibetan farmers' fortunes   \n",
       "\n",
       "                                                 url  LDA_Topic NMF_Topic  \n",
       "0  http://www.chinadaily.com.cn/a/201810/15/WS5bc...   business      tech  \n",
       "1  http://www.chinadaily.com.cn/a/201810/15/WS5bc...   business  politics  \n",
       "2  http://www.chinadaily.com.cn/a/201810/16/WS5bc...  lifestyle      tech  \n",
       "3  http://www.chinadaily.com.cn/a/201810/17/WS5bc...   business      tech  \n",
       "4  http://www.chinadaily.com.cn/a/201810/19/WS5bc...  lifestyle      tech  "
      ]
     },
     "execution_count": 175,
     "metadata": {},
     "output_type": "execute_result"
    }
   ],
   "source": [
    "df.head()"
   ]
  },
  {
   "cell_type": "code",
   "execution_count": 176,
   "metadata": {},
   "outputs": [
    {
     "data": {
      "text/plain": [
       "0.345653123634775"
      ]
     },
     "execution_count": 176,
     "metadata": {},
     "output_type": "execute_result"
    }
   ],
   "source": [
    "#两种不同算法的标签吻合度\n",
    "len(df[df['LDA_Topic'] == df['NMF_Topic']])/len(df)"
   ]
  },
  {
   "cell_type": "code",
   "execution_count": 181,
   "metadata": {},
   "outputs": [],
   "source": [
    "df_temp = df[df['NMF_Topic'] == 'education_lifestyle']"
   ]
  },
  {
   "cell_type": "code",
   "execution_count": 182,
   "metadata": {},
   "outputs": [],
   "source": [
    "dtm = tfidf.fit_transform(df_temp['content'])"
   ]
  },
  {
   "cell_type": "code",
   "execution_count": 183,
   "metadata": {},
   "outputs": [],
   "source": [
    "nmf_model = NMF(n_components=2,random_state=42)"
   ]
  },
  {
   "cell_type": "code",
   "execution_count": 184,
   "metadata": {},
   "outputs": [
    {
     "data": {
      "text/plain": [
       "NMF(alpha=0.0, beta_loss='frobenius', init=None, l1_ratio=0.0, max_iter=200,\n",
       "  n_components=2, random_state=42, shuffle=False, solver='cd', tol=0.0001,\n",
       "  verbose=0)"
      ]
     },
     "execution_count": 184,
     "metadata": {},
     "output_type": "execute_result"
    }
   ],
   "source": [
    "nmf_model.fit(dtm)"
   ]
  },
  {
   "cell_type": "code",
   "execution_count": 185,
   "metadata": {},
   "outputs": [
    {
     "name": "stdout",
     "output_type": "stream",
     "text": [
      "THE TOP 15 WORDS FOR TOPIC #0\n",
      "['education', 'children', 'new', 'university', 'school', 'people', 'festival', 'music', 'year', 'says', 'students', 'china', 'film', 'said', 'chinese']\n",
      "\n",
      "\n",
      "THE TOP 15 WORDS FOR TOPIC #1\n",
      "['relics', 'painting', 'beijing', 'culture', 'heritage', 'works', 'paintings', 'palace', 'artists', 'chinese', 'china', 'cultural', 'exhibition', 'art', 'museum']\n",
      "\n",
      "\n"
     ]
    }
   ],
   "source": [
    "for index,topic in enumerate(nmf_model.components_):\n",
    "    print(f'THE TOP 15 WORDS FOR TOPIC #{index}')\n",
    "    print([tfidf.get_feature_names()[i] for i in topic.argsort()[-15:]])\n",
    "    print('\\n')"
   ]
  },
  {
   "cell_type": "code",
   "execution_count": 194,
   "metadata": {},
   "outputs": [],
   "source": [
    "Topic0 = 'education'\n",
    "Topic1 = 'lifestyle'"
   ]
  },
  {
   "cell_type": "code",
   "execution_count": 195,
   "metadata": {},
   "outputs": [],
   "source": [
    "topic_results = nmf_model.transform(dtm)"
   ]
  },
  {
   "cell_type": "code",
   "execution_count": 196,
   "metadata": {},
   "outputs": [
    {
     "name": "stderr",
     "output_type": "stream",
     "text": [
      "/anaconda3/lib/python3.6/site-packages/ipykernel_launcher.py:1: SettingWithCopyWarning: \n",
      "A value is trying to be set on a copy of a slice from a DataFrame.\n",
      "Try using .loc[row_indexer,col_indexer] = value instead\n",
      "\n",
      "See the caveats in the documentation: http://pandas.pydata.org/pandas-docs/stable/indexing.html#indexing-view-versus-copy\n",
      "  \"\"\"Entry point for launching an IPython kernel.\n"
     ]
    }
   ],
   "source": [
    "df_temp['NMF_Topic'] = topic_results.argmax(axis=1)"
   ]
  },
  {
   "cell_type": "code",
   "execution_count": 197,
   "metadata": {},
   "outputs": [
    {
     "name": "stderr",
     "output_type": "stream",
     "text": [
      "/anaconda3/lib/python3.6/site-packages/ipykernel_launcher.py:1: SettingWithCopyWarning: \n",
      "A value is trying to be set on a copy of a slice from a DataFrame.\n",
      "Try using .loc[row_indexer,col_indexer] = value instead\n",
      "\n",
      "See the caveats in the documentation: http://pandas.pydata.org/pandas-docs/stable/indexing.html#indexing-view-versus-copy\n",
      "  \"\"\"Entry point for launching an IPython kernel.\n"
     ]
    }
   ],
   "source": [
    "df_temp['NMF_Topic'] = df_temp['NMF_Topic'].apply(relabel)"
   ]
  },
  {
   "cell_type": "code",
   "execution_count": 198,
   "metadata": {},
   "outputs": [
    {
     "data": {
      "text/html": [
       "<div>\n",
       "<style scoped>\n",
       "    .dataframe tbody tr th:only-of-type {\n",
       "        vertical-align: middle;\n",
       "    }\n",
       "\n",
       "    .dataframe tbody tr th {\n",
       "        vertical-align: top;\n",
       "    }\n",
       "\n",
       "    .dataframe thead th {\n",
       "        text-align: right;\n",
       "    }\n",
       "</style>\n",
       "<table border=\"1\" class=\"dataframe\">\n",
       "  <thead>\n",
       "    <tr style=\"text-align: right;\">\n",
       "      <th></th>\n",
       "      <th>Unnamed: 0</th>\n",
       "      <th>level_0</th>\n",
       "      <th>column_1</th>\n",
       "      <th>column_2</th>\n",
       "      <th>content</th>\n",
       "      <th>publishtime</th>\n",
       "      <th>source</th>\n",
       "      <th>title</th>\n",
       "      <th>url</th>\n",
       "      <th>LDA_Topic</th>\n",
       "      <th>NMF_Topic</th>\n",
       "    </tr>\n",
       "  </thead>\n",
       "  <tbody>\n",
       "    <tr>\n",
       "      <th>11</th>\n",
       "      <td>11</td>\n",
       "      <td>11</td>\n",
       "      <td>Business</td>\n",
       "      <td>100 cities, counties and companies</td>\n",
       "      <td>A lack of scenic attractions has not stopped S...</td>\n",
       "      <td>2018-10-26 09:09</td>\n",
       "      <td>FENG ZHIWEI AND ZHANG ZHOUXIANG IN CHANGSHA,C...</td>\n",
       "      <td>Red tourism pays off for Shaoshan</td>\n",
       "      <td>http://www.chinadaily.com.cn/a/201810/26/WS5bd...</td>\n",
       "      <td>lifestyle</td>\n",
       "      <td>education</td>\n",
       "    </tr>\n",
       "    <tr>\n",
       "      <th>22</th>\n",
       "      <td>22</td>\n",
       "      <td>22</td>\n",
       "      <td>Business</td>\n",
       "      <td>100 cities, counties and companies</td>\n",
       "      <td>In a little over two decades, Malanshan has be...</td>\n",
       "      <td>2018-11-16 09:34</td>\n",
       "      <td>CHENG SI AND FENG ZHIWEI IN CHANGSHA, HUNAN P...</td>\n",
       "      <td>From rural backwater to ideas factory</td>\n",
       "      <td>http://www.chinadaily.com.cn/a/201811/16/WS5be...</td>\n",
       "      <td>education</td>\n",
       "      <td>education</td>\n",
       "    </tr>\n",
       "    <tr>\n",
       "      <th>33</th>\n",
       "      <td>33</td>\n",
       "      <td>33</td>\n",
       "      <td>Business</td>\n",
       "      <td>100 cities, counties and companies</td>\n",
       "      <td>For Chongming High School student Zhu Yuechen,...</td>\n",
       "      <td>2018-12-05 08:58</td>\n",
       "      <td>XING YI IN SHANGHAI,CHINA DAILY</td>\n",
       "      <td>Trips take learning out of classroom</td>\n",
       "      <td>http://www.chinadaily.com.cn/a/201812/05/WS5c0...</td>\n",
       "      <td>education</td>\n",
       "      <td>education</td>\n",
       "    </tr>\n",
       "    <tr>\n",
       "      <th>43</th>\n",
       "      <td>43</td>\n",
       "      <td>43</td>\n",
       "      <td>Business</td>\n",
       "      <td>100 cities, counties and companies</td>\n",
       "      <td>It's said that Empress Wu Zetian of the Tang D...</td>\n",
       "      <td>2018-12-20 09:16</td>\n",
       "      <td>LI YINGXUE,CHINA DAILY</td>\n",
       "      <td>Success takes root in peony capital</td>\n",
       "      <td>http://www.chinadaily.com.cn/a/201812/20/WS5c1...</td>\n",
       "      <td>lifestyle</td>\n",
       "      <td>education</td>\n",
       "    </tr>\n",
       "    <tr>\n",
       "      <th>45</th>\n",
       "      <td>45</td>\n",
       "      <td>45</td>\n",
       "      <td>Business</td>\n",
       "      <td>2017 China-Russia Internet Media Foruma</td>\n",
       "      <td>As an integral part of the China-Russia Foru...</td>\n",
       "      <td>2017-09-14 18:41</td>\n",
       "      <td>ZHANG XINGJIAN,CHINADAILY.COM.CN</td>\n",
       "      <td>Students ready for China-Russia • Youth Collab...</td>\n",
       "      <td>http://www.chinadaily.com.cn/a/201709/14/WS59b...</td>\n",
       "      <td>education</td>\n",
       "      <td>education</td>\n",
       "    </tr>\n",
       "  </tbody>\n",
       "</table>\n",
       "</div>"
      ],
      "text/plain": [
       "    Unnamed: 0  level_0  column_1                                 column_2  \\\n",
       "11          11       11  Business       100 cities, counties and companies   \n",
       "22          22       22  Business       100 cities, counties and companies   \n",
       "33          33       33  Business       100 cities, counties and companies   \n",
       "43          43       43  Business       100 cities, counties and companies   \n",
       "45          45       45  Business  2017 China-Russia Internet Media Foruma   \n",
       "\n",
       "                                              content       publishtime  \\\n",
       "11  A lack of scenic attractions has not stopped S...  2018-10-26 09:09   \n",
       "22  In a little over two decades, Malanshan has be...  2018-11-16 09:34   \n",
       "33  For Chongming High School student Zhu Yuechen,...  2018-12-05 08:58   \n",
       "43  It's said that Empress Wu Zetian of the Tang D...  2018-12-20 09:16   \n",
       "45    As an integral part of the China-Russia Foru...  2017-09-14 18:41   \n",
       "\n",
       "                                               source  \\\n",
       "11   FENG ZHIWEI AND ZHANG ZHOUXIANG IN CHANGSHA,C...   \n",
       "22   CHENG SI AND FENG ZHIWEI IN CHANGSHA, HUNAN P...   \n",
       "33                    XING YI IN SHANGHAI,CHINA DAILY   \n",
       "43                             LI YINGXUE,CHINA DAILY   \n",
       "45                   ZHANG XINGJIAN,CHINADAILY.COM.CN   \n",
       "\n",
       "                                                title  \\\n",
       "11                  Red tourism pays off for Shaoshan   \n",
       "22              From rural backwater to ideas factory   \n",
       "33               Trips take learning out of classroom   \n",
       "43                Success takes root in peony capital   \n",
       "45  Students ready for China-Russia • Youth Collab...   \n",
       "\n",
       "                                                  url  LDA_Topic  NMF_Topic  \n",
       "11  http://www.chinadaily.com.cn/a/201810/26/WS5bd...  lifestyle  education  \n",
       "22  http://www.chinadaily.com.cn/a/201811/16/WS5be...  education  education  \n",
       "33  http://www.chinadaily.com.cn/a/201812/05/WS5c0...  education  education  \n",
       "43  http://www.chinadaily.com.cn/a/201812/20/WS5c1...  lifestyle  education  \n",
       "45  http://www.chinadaily.com.cn/a/201709/14/WS59b...  education  education  "
      ]
     },
     "execution_count": 198,
     "metadata": {},
     "output_type": "execute_result"
    }
   ],
   "source": [
    "df_temp.head()"
   ]
  },
  {
   "cell_type": "code",
   "execution_count": 209,
   "metadata": {},
   "outputs": [
    {
     "ename": "KeyboardInterrupt",
     "evalue": "",
     "output_type": "error",
     "traceback": [
      "\u001b[0;31m---------------------------------------------------------------------------\u001b[0m",
      "\u001b[0;31mKeyboardInterrupt\u001b[0m                         Traceback (most recent call last)",
      "\u001b[0;32m<ipython-input-209-f07c3dd7b706>\u001b[0m in \u001b[0;36m<module>\u001b[0;34m()\u001b[0m\n\u001b[1;32m      1\u001b[0m \u001b[0;32mfor\u001b[0m \u001b[0mi\u001b[0m \u001b[0;32min\u001b[0m \u001b[0mrange\u001b[0m\u001b[0;34m(\u001b[0m\u001b[0mlen\u001b[0m\u001b[0;34m(\u001b[0m\u001b[0mdf_temp\u001b[0m\u001b[0;34m)\u001b[0m\u001b[0;34m)\u001b[0m\u001b[0;34m:\u001b[0m\u001b[0;34m\u001b[0m\u001b[0m\n\u001b[1;32m      2\u001b[0m     \u001b[0;32mfor\u001b[0m \u001b[0mj\u001b[0m \u001b[0;32min\u001b[0m \u001b[0mrange\u001b[0m\u001b[0;34m(\u001b[0m\u001b[0mlen\u001b[0m\u001b[0;34m(\u001b[0m\u001b[0mdf\u001b[0m\u001b[0;34m)\u001b[0m\u001b[0;34m)\u001b[0m\u001b[0;34m:\u001b[0m\u001b[0;34m\u001b[0m\u001b[0m\n\u001b[0;32m----> 3\u001b[0;31m         \u001b[0;32mif\u001b[0m \u001b[0mdf_temp\u001b[0m\u001b[0;34m[\u001b[0m\u001b[0;34m'title'\u001b[0m\u001b[0;34m]\u001b[0m\u001b[0;34m.\u001b[0m\u001b[0miloc\u001b[0m\u001b[0;34m[\u001b[0m\u001b[0mi\u001b[0m\u001b[0;34m]\u001b[0m \u001b[0;34m==\u001b[0m \u001b[0mdf\u001b[0m\u001b[0;34m[\u001b[0m\u001b[0;34m'title'\u001b[0m\u001b[0;34m]\u001b[0m\u001b[0;34m.\u001b[0m\u001b[0miloc\u001b[0m\u001b[0;34m[\u001b[0m\u001b[0mj\u001b[0m\u001b[0;34m]\u001b[0m\u001b[0;34m:\u001b[0m\u001b[0;34m\u001b[0m\u001b[0m\n\u001b[0m\u001b[1;32m      4\u001b[0m             \u001b[0mdf\u001b[0m\u001b[0;34m[\u001b[0m\u001b[0;34m'NMF_Topic'\u001b[0m\u001b[0;34m]\u001b[0m\u001b[0;34m.\u001b[0m\u001b[0miloc\u001b[0m\u001b[0;34m[\u001b[0m\u001b[0mj\u001b[0m\u001b[0;34m]\u001b[0m \u001b[0;34m==\u001b[0m \u001b[0mdf_temp\u001b[0m\u001b[0;34m[\u001b[0m\u001b[0;34m'NMF_Topic'\u001b[0m\u001b[0;34m]\u001b[0m\u001b[0;34m.\u001b[0m\u001b[0miloc\u001b[0m\u001b[0;34m[\u001b[0m\u001b[0mi\u001b[0m\u001b[0;34m]\u001b[0m\u001b[0;34m\u001b[0m\u001b[0m\n",
      "\u001b[0;32m/anaconda3/lib/python3.6/site-packages/pandas/core/indexing.py\u001b[0m in \u001b[0;36m__getitem__\u001b[0;34m(self, key)\u001b[0m\n\u001b[1;32m   1476\u001b[0m \u001b[0;34m\u001b[0m\u001b[0m\n\u001b[1;32m   1477\u001b[0m             \u001b[0mmaybe_callable\u001b[0m \u001b[0;34m=\u001b[0m \u001b[0mcom\u001b[0m\u001b[0;34m.\u001b[0m\u001b[0m_apply_if_callable\u001b[0m\u001b[0;34m(\u001b[0m\u001b[0mkey\u001b[0m\u001b[0;34m,\u001b[0m \u001b[0mself\u001b[0m\u001b[0;34m.\u001b[0m\u001b[0mobj\u001b[0m\u001b[0;34m)\u001b[0m\u001b[0;34m\u001b[0m\u001b[0m\n\u001b[0;32m-> 1478\u001b[0;31m             \u001b[0;32mreturn\u001b[0m \u001b[0mself\u001b[0m\u001b[0;34m.\u001b[0m\u001b[0m_getitem_axis\u001b[0m\u001b[0;34m(\u001b[0m\u001b[0mmaybe_callable\u001b[0m\u001b[0;34m,\u001b[0m \u001b[0maxis\u001b[0m\u001b[0;34m=\u001b[0m\u001b[0maxis\u001b[0m\u001b[0;34m)\u001b[0m\u001b[0;34m\u001b[0m\u001b[0m\n\u001b[0m\u001b[1;32m   1479\u001b[0m \u001b[0;34m\u001b[0m\u001b[0m\n\u001b[1;32m   1480\u001b[0m     \u001b[0;32mdef\u001b[0m \u001b[0m_is_scalar_access\u001b[0m\u001b[0;34m(\u001b[0m\u001b[0mself\u001b[0m\u001b[0;34m,\u001b[0m \u001b[0mkey\u001b[0m\u001b[0;34m)\u001b[0m\u001b[0;34m:\u001b[0m\u001b[0;34m\u001b[0m\u001b[0m\n",
      "\u001b[0;32m/anaconda3/lib/python3.6/site-packages/pandas/core/indexing.py\u001b[0m in \u001b[0;36m_getitem_axis\u001b[0;34m(self, key, axis)\u001b[0m\n\u001b[1;32m   2088\u001b[0m \u001b[0;34m\u001b[0m\u001b[0m\n\u001b[1;32m   2089\u001b[0m         \u001b[0;31m# a list of integers\u001b[0m\u001b[0;34m\u001b[0m\u001b[0;34m\u001b[0m\u001b[0m\n\u001b[0;32m-> 2090\u001b[0;31m         \u001b[0;32melif\u001b[0m \u001b[0mis_list_like_indexer\u001b[0m\u001b[0;34m(\u001b[0m\u001b[0mkey\u001b[0m\u001b[0;34m)\u001b[0m\u001b[0;34m:\u001b[0m\u001b[0;34m\u001b[0m\u001b[0m\n\u001b[0m\u001b[1;32m   2091\u001b[0m             \u001b[0;32mreturn\u001b[0m \u001b[0mself\u001b[0m\u001b[0;34m.\u001b[0m\u001b[0m_get_list_axis\u001b[0m\u001b[0;34m(\u001b[0m\u001b[0mkey\u001b[0m\u001b[0;34m,\u001b[0m \u001b[0maxis\u001b[0m\u001b[0;34m=\u001b[0m\u001b[0maxis\u001b[0m\u001b[0;34m)\u001b[0m\u001b[0;34m\u001b[0m\u001b[0m\n\u001b[1;32m   2092\u001b[0m \u001b[0;34m\u001b[0m\u001b[0m\n",
      "\u001b[0;32m/anaconda3/lib/python3.6/site-packages/pandas/core/indexing.py\u001b[0m in \u001b[0;36mis_list_like_indexer\u001b[0;34m(key)\u001b[0m\n\u001b[1;32m   2553\u001b[0m \u001b[0;32mdef\u001b[0m \u001b[0mis_list_like_indexer\u001b[0m\u001b[0;34m(\u001b[0m\u001b[0mkey\u001b[0m\u001b[0;34m)\u001b[0m\u001b[0;34m:\u001b[0m\u001b[0;34m\u001b[0m\u001b[0m\n\u001b[1;32m   2554\u001b[0m     \u001b[0;31m# allow a list_like, but exclude NamedTuples which can be indexers\u001b[0m\u001b[0;34m\u001b[0m\u001b[0;34m\u001b[0m\u001b[0m\n\u001b[0;32m-> 2555\u001b[0;31m     return is_list_like(key) and not (isinstance(key, tuple) and\n\u001b[0m\u001b[1;32m   2556\u001b[0m                                       type(key) is not tuple)\n\u001b[1;32m   2557\u001b[0m \u001b[0;34m\u001b[0m\u001b[0m\n",
      "\u001b[0;32m/anaconda3/lib/python3.6/site-packages/pandas/core/dtypes/inference.py\u001b[0m in \u001b[0;36mis_list_like\u001b[0;34m(obj)\u001b[0m\n\u001b[1;32m    281\u001b[0m     \"\"\"\n\u001b[1;32m    282\u001b[0m \u001b[0;34m\u001b[0m\u001b[0m\n\u001b[0;32m--> 283\u001b[0;31m     return (isinstance(obj, Iterable) and\n\u001b[0m\u001b[1;32m    284\u001b[0m             not isinstance(obj, string_and_binary_types))\n\u001b[1;32m    285\u001b[0m \u001b[0;34m\u001b[0m\u001b[0m\n",
      "\u001b[0;31mKeyboardInterrupt\u001b[0m: "
     ]
    }
   ],
   "source": [
    "df[]"
   ]
  },
  {
   "cell_type": "code",
   "execution_count": null,
   "metadata": {},
   "outputs": [],
   "source": [
    "df.head()"
   ]
  },
  {
   "cell_type": "code",
   "execution_count": null,
   "metadata": {},
   "outputs": [],
   "source": []
  }
 ],
 "metadata": {
  "kernelspec": {
   "display_name": "Python 3",
   "language": "python",
   "name": "python3"
  },
  "language_info": {
   "codemirror_mode": {
    "name": "ipython",
    "version": 3
   },
   "file_extension": ".py",
   "mimetype": "text/x-python",
   "name": "python",
   "nbconvert_exporter": "python",
   "pygments_lexer": "ipython3",
   "version": "3.6.4"
  }
 },
 "nbformat": 4,
 "nbformat_minor": 2
}
