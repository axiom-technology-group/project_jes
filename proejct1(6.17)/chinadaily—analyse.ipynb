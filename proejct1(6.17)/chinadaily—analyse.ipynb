{
 "cells": [
  {
   "cell_type": "markdown",
   "metadata": {},
   "source": [
    "# 项目的主要目标：新闻的文本分类\n",
    "\n",
    "## 这个项目通过获取已有的文章和文章标题文章分类的专栏的数据建立模型，对于新的文章进行自动的分类\n",
    "\n",
    "## 1.通过scrapy 和用 beautifulsoup自建的crawler 对于 chinadaily的中文和英文的文章进行爬取。\n",
    "\n",
    "## 2.清理收集到的数据，抓取有用的信息。（运用pandas dataframe ”group by\"进行数据的清理）\n",
    "\n",
    "## 3.数据分为英文和中文，分开数据进行处理。\n",
    "\n",
    "## 4.1 英文用NLTK 进行分析\n",
    "## 4.2 中文用Jieba分词，之后进行分析\n",
    "\n",
    "## 5.将所收集到的数据集进行数字表达（文字通过数字来表示 用CountVectorizer()，TfidfTransformer()，等。并将数据标准化）\n",
    "\n",
    "## 6.建立pipline 并用scikit-learn 建立模型，并确认哪个模型的准确率最高。"
   ]
  },
  {
   "cell_type": "code",
   "execution_count": null,
   "metadata": {},
   "outputs": [],
   "source": [
    "\"\"\"\n",
    "————————————————————————————————————————————————————————————————————————————————————————————————————————————\n",
    "——————————————————————————————————English translation———————————————————————————————————————————————————————\n",
    "____________________________________________________________________________________________________________\n",
    "\"\"\""
   ]
  },
  {
   "cell_type": "markdown",
   "metadata": {},
   "source": [
    "\n",
    "# The main goal of the project: the text classification of the news¶\n",
    "# This project automatically models new articles by acquiring data from existing articles and column columns of article title articles.\n",
    "\n",
    "## 1. Crawling Chinese and English articles in chinadaily through scrapy and crawler built with beautifulsoup.\n",
    "\n",
    "## 2. Clean up the collected data and grab useful information. (Using pandas dataframe \"group by\" for data cleanup)\n",
    "\n",
    "## 3. The data is divided into English and Chinese, and the data is processed separately.\n",
    "\n",
    "## 4.1 English analysis with NLTK\n",
    "\n",
    "## 4.2 Chinese with Jieba participle, then analyze\n",
    "\n",
    "## 5. Digitally represent the collected data set (text is represented by numbers with CountVectorizer(), TfidfTransformer(), etc. and normalize the data)\n",
    "\n",
    "## 6. Create a pipline and build a model with scikit-learn and confirm which model has the highest accuracy."
   ]
  },
  {
   "cell_type": "code",
   "execution_count": null,
   "metadata": {},
   "outputs": [],
   "source": []
  }
 ],
 "metadata": {
  "kernelspec": {
   "display_name": "Python 3",
   "language": "python",
   "name": "python3"
  },
  "language_info": {
   "codemirror_mode": {
    "name": "ipython",
    "version": 3
   },
   "file_extension": ".py",
   "mimetype": "text/x-python",
   "name": "python",
   "nbconvert_exporter": "python",
   "pygments_lexer": "ipython3",
   "version": "3.6.4"
  }
 },
 "nbformat": 4,
 "nbformat_minor": 2
}
