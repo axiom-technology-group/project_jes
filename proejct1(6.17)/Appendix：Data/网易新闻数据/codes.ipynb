{
 "cells": [
  {
   "cell_type": "code",
   "execution_count": 23,
   "metadata": {},
   "outputs": [],
   "source": [
    "import pickle as pk\n",
    "import pandas as pd\n",
    "import numpy as np"
   ]
  },
  {
   "cell_type": "code",
   "execution_count": 24,
   "metadata": {},
   "outputs": [
    {
     "data": {
      "text/plain": [
       "[('网易体育4月11日消息有“小世界杯”之称的世界女排传统赛事—瑞士精英赛将于6月5日至10日进行，中国女排与古巴队、波兰队和土耳其队分在B组，将在为期近一周的时间内与多支世界劲旅进行争夺。由于身为奥运会的东道主，中国女排在直接获得奥运会参赛权的情况下将无缘今年的世界杯赛，瑞士精英赛就成为2007年度一次绝好的实战机会。本届瑞士精英赛共有8支球队参赛，中国队的分组形势不错，同组的对手古巴、波兰和土耳其综合实力一般，而A组则汇集了去年世锦赛冠军、现世界排名第一的俄罗斯队、超级黑马塞尔维亚队以及德国和荷兰两支欧洲传统强队。根据赛制规定，两个小组先进行单循环赛，小组排名前两位的球队晋级四强进行交叉半决赛，直至决出最后的冠军。不能够参加世界杯赛，中国女排今年最重要的赛事就是瑞士精英赛和世界女排大奖赛，如何利用有限的机会锻炼队伍、考察新人，为北京奥运会作好准备，将是中国女排在2007年的主要任务。在主力二传冯坤(wiki)因伤缺席的情况下，小将魏秋月能否担当重任，将是本次比赛中国队最大的看点。瑞士精英赛将在当地时间6月5日开战，中国队首战将对阵土耳其，之后将分别迎战波兰和古巴。6月9日进行半决赛，冠军在6月10日产生。从分组抽签和对阵的赛程来看，中国队在小组赛中避开了在世锦赛击败过自己的俄罗斯与荷兰等队，而且最后一轮轮空，很有希望从小组中突围并取得好成绩。05年和06年的瑞士精英赛，中国女排连续两届取得亚军，继2000年和2003年后再一圆冠军梦，值得期待。',\n",
       "  'Sports')]"
      ]
     },
     "execution_count": 24,
     "metadata": {},
     "output_type": "execute_result"
    }
   ],
   "source": [
    "inf=pk.load(open(r'网易数据.pkl','rb')) \n",
    "inf[:1]\n",
    "\n"
   ]
  },
  {
   "cell_type": "code",
   "execution_count": 26,
   "metadata": {},
   "outputs": [],
   "source": [
    "lst_cont = []\n",
    "lst_cat = []\n",
    "for i in range(len(inf)):\n",
    "    lst_cont += [inf[i][0]]\n",
    "    lst_cat += [inf[i][1]]"
   ]
  },
  {
   "cell_type": "code",
   "execution_count": 28,
   "metadata": {},
   "outputs": [],
   "source": [
    "d = {'content':lst_cont,'label':lst_cat}"
   ]
  },
  {
   "cell_type": "code",
   "execution_count": 29,
   "metadata": {},
   "outputs": [],
   "source": [
    "df = pd.DataFrame(d)"
   ]
  },
  {
   "cell_type": "code",
   "execution_count": 31,
   "metadata": {},
   "outputs": [],
   "source": [
    "df.to_csv('网易数据.csv')"
   ]
  },
  {
   "cell_type": "code",
   "execution_count": null,
   "metadata": {},
   "outputs": [],
   "source": []
  }
 ],
 "metadata": {
  "kernelspec": {
   "display_name": "Python 3",
   "language": "python",
   "name": "python3"
  },
  "language_info": {
   "codemirror_mode": {
    "name": "ipython",
    "version": 3
   },
   "file_extension": ".py",
   "mimetype": "text/x-python",
   "name": "python",
   "nbconvert_exporter": "python",
   "pygments_lexer": "ipython3",
   "version": "3.6.4"
  }
 },
 "nbformat": 4,
 "nbformat_minor": 2
}
