{
 "cells": [
  {
   "cell_type": "code",
   "execution_count": 1,
   "metadata": {},
   "outputs": [],
   "source": [
    "import pickle as pk\n",
    "import pandas as pd\n",
    "import numpy as np"
   ]
  },
  {
   "cell_type": "code",
   "execution_count": 3,
   "metadata": {},
   "outputs": [],
   "source": [
    "#!/usr/bin/env python\n",
    "# -*- coding: utf-8 -*-\n",
    "# 今日头条新闻分类数据爬取\n",
    "\n",
    "import requests\n",
    "import json\n",
    "import time\n",
    "import random\n",
    "\n",
    "\n"
   ]
  },
  {
   "cell_type": "code",
   "execution_count": 48,
   "metadata": {
    "scrolled": false
   },
   "outputs": [],
   "source": [
    "with open('cnews.train.txt', 'r') as f:\n",
    "    lines = f.readlines()\n",
    "    my_list = []\n",
    "    for line in lines:\n",
    "        lst = line.split()\n",
    "        my_list.append(lst)\n",
    "        \n",
    "    \n",
    "    label_list = []\n",
    "    title_list = []\n",
    "    author_list = []\n",
    "    content_list = []\n",
    "\n",
    "    \n",
    "    \n",
    "    for i in range(len(lines)):\n",
    "        label_list.append(my_list[i][0])\n",
    "        title_list.append(my_list[i][1])\n",
    "        if len(my_list[i]) == 4:\n",
    "            author_list.append(my_list[i][2])\n",
    "        else:\n",
    "            author_list.append(np.nan)\n",
    "        \n",
    "        try:\n",
    "            content_list.append(my_list[i][-1])\n",
    "        except:\n",
    "            content_list.append(np.nan)\n",
    "    \n",
    "    \n",
    "    \n",
    "    \n",
    "       \n",
    "        "
   ]
  },
  {
   "cell_type": "code",
   "execution_count": 59,
   "metadata": {},
   "outputs": [],
   "source": [
    "df = pd.DataFrame()"
   ]
  },
  {
   "cell_type": "code",
   "execution_count": 60,
   "metadata": {},
   "outputs": [],
   "source": [
    "df['label'] = label_list"
   ]
  },
  {
   "cell_type": "code",
   "execution_count": 61,
   "metadata": {},
   "outputs": [],
   "source": [
    "df['title'] = title_list"
   ]
  },
  {
   "cell_type": "code",
   "execution_count": 62,
   "metadata": {},
   "outputs": [],
   "source": [
    "df['author'] = author_list"
   ]
  },
  {
   "cell_type": "code",
   "execution_count": 63,
   "metadata": {},
   "outputs": [],
   "source": [
    "df['content'] = content_list"
   ]
  },
  {
   "cell_type": "code",
   "execution_count": 64,
   "metadata": {},
   "outputs": [
    {
     "data": {
      "text/plain": [
       "count     7461\n",
       "unique    6830\n",
       "top        (记者\n",
       "freq       153\n",
       "Name: author, dtype: object"
      ]
     },
     "execution_count": 64,
     "metadata": {},
     "output_type": "execute_result"
    }
   ],
   "source": [
    "df['author'].describe() "
   ]
  },
  {
   "cell_type": "code",
   "execution_count": 65,
   "metadata": {},
   "outputs": [
    {
     "data": {
      "text/html": [
       "<div>\n",
       "<style scoped>\n",
       "    .dataframe tbody tr th:only-of-type {\n",
       "        vertical-align: middle;\n",
       "    }\n",
       "\n",
       "    .dataframe tbody tr th {\n",
       "        vertical-align: top;\n",
       "    }\n",
       "\n",
       "    .dataframe thead th {\n",
       "        text-align: right;\n",
       "    }\n",
       "</style>\n",
       "<table border=\"1\" class=\"dataframe\">\n",
       "  <thead>\n",
       "    <tr style=\"text-align: right;\">\n",
       "      <th></th>\n",
       "      <th>label</th>\n",
       "      <th>title</th>\n",
       "      <th>author</th>\n",
       "      <th>content</th>\n",
       "    </tr>\n",
       "  </thead>\n",
       "  <tbody>\n",
       "    <tr>\n",
       "      <th>0</th>\n",
       "      <td>体育</td>\n",
       "      <td>马晓旭意外受伤让国奥警惕</td>\n",
       "      <td>无奈大雨格外青睐殷家军记者傅亚雨沈阳报道</td>\n",
       "      <td>来到沈阳，国奥队依然没有摆脱雨水的困扰。7月31日下午6点，国奥队的日常训练再度受到大雨的干...</td>\n",
       "    </tr>\n",
       "    <tr>\n",
       "      <th>1</th>\n",
       "      <td>体育</td>\n",
       "      <td>商瑞华首战复仇心切</td>\n",
       "      <td>NaN</td>\n",
       "      <td>中国玫瑰要用美国方式攻克瑞典多曼来了，瑞典来了，商瑞华首战求3分的信心也来了。距离首战72小...</td>\n",
       "    </tr>\n",
       "    <tr>\n",
       "      <th>2</th>\n",
       "      <td>体育</td>\n",
       "      <td>冠军球队迎新欢乐派对</td>\n",
       "      <td>NaN</td>\n",
       "      <td>目标冲进“90内”派对活动的幸运抽奖贯穿始终，一个个奖项逐渐颁出，而身为“队副”的黄旭仍然一...</td>\n",
       "    </tr>\n",
       "    <tr>\n",
       "      <th>3</th>\n",
       "      <td>体育</td>\n",
       "      <td>辽足签约危机引注册难关</td>\n",
       "      <td>NaN</td>\n",
       "      <td>高层威逼利诱合同笑里藏刀新浪体育讯2月24日，辽足爆发了集体拒签风波，不签合同，辽足的注册问...</td>\n",
       "    </tr>\n",
       "    <tr>\n",
       "      <th>4</th>\n",
       "      <td>体育</td>\n",
       "      <td>揭秘谢亚龙被带走：总局电话骗局</td>\n",
       "      <td>复制南杨轨迹体坛周报特约记者张锐北京报道</td>\n",
       "      <td>谢亚龙已经被公安部门正式宣布“立案侦查”，但谢亚龙等人是哪一天被辽宁警方带走的？又是如何被带...</td>\n",
       "    </tr>\n",
       "  </tbody>\n",
       "</table>\n",
       "</div>"
      ],
      "text/plain": [
       "  label            title                author  \\\n",
       "0    体育     马晓旭意外受伤让国奥警惕  无奈大雨格外青睐殷家军记者傅亚雨沈阳报道   \n",
       "1    体育        商瑞华首战复仇心切                   NaN   \n",
       "2    体育       冠军球队迎新欢乐派对                   NaN   \n",
       "3    体育      辽足签约危机引注册难关                   NaN   \n",
       "4    体育  揭秘谢亚龙被带走：总局电话骗局  复制南杨轨迹体坛周报特约记者张锐北京报道   \n",
       "\n",
       "                                             content  \n",
       "0  来到沈阳，国奥队依然没有摆脱雨水的困扰。7月31日下午6点，国奥队的日常训练再度受到大雨的干...  \n",
       "1  中国玫瑰要用美国方式攻克瑞典多曼来了，瑞典来了，商瑞华首战求3分的信心也来了。距离首战72小...  \n",
       "2  目标冲进“90内”派对活动的幸运抽奖贯穿始终，一个个奖项逐渐颁出，而身为“队副”的黄旭仍然一...  \n",
       "3  高层威逼利诱合同笑里藏刀新浪体育讯2月24日，辽足爆发了集体拒签风波，不签合同，辽足的注册问...  \n",
       "4  谢亚龙已经被公安部门正式宣布“立案侦查”，但谢亚龙等人是哪一天被辽宁警方带走的？又是如何被带...  "
      ]
     },
     "execution_count": 65,
     "metadata": {},
     "output_type": "execute_result"
    }
   ],
   "source": [
    "df.head()"
   ]
  },
  {
   "cell_type": "code",
   "execution_count": 68,
   "metadata": {},
   "outputs": [
    {
     "data": {
      "text/plain": [
       "False    43253\n",
       "True      6747\n",
       "Name: content, dtype: int64"
      ]
     },
     "execution_count": 68,
     "metadata": {},
     "output_type": "execute_result"
    }
   ],
   "source": [
    "def haveBJ(string):\n",
    "    if '北京' in string:\n",
    "        return True\n",
    "    else:\n",
    "        return False\n",
    "df['content'].apply(haveBJ).value_counts()"
   ]
  },
  {
   "cell_type": "code",
   "execution_count": 71,
   "metadata": {},
   "outputs": [
    {
     "data": {
      "text/plain": [
       "时尚    5000\n",
       "财经    5000\n",
       "体育    5000\n",
       "游戏    5000\n",
       "家居    5000\n",
       "科技    5000\n",
       "时政    5000\n",
       "教育    5000\n",
       "房产    5000\n",
       "娱乐    5000\n",
       "Name: label, dtype: int64"
      ]
     },
     "execution_count": 71,
     "metadata": {},
     "output_type": "execute_result"
    }
   ],
   "source": [
    "df['label'].value_counts()"
   ]
  },
  {
   "cell_type": "code",
   "execution_count": null,
   "metadata": {},
   "outputs": [],
   "source": []
  }
 ],
 "metadata": {
  "kernelspec": {
   "display_name": "Python 3",
   "language": "python",
   "name": "python3"
  },
  "language_info": {
   "codemirror_mode": {
    "name": "ipython",
    "version": 3
   },
   "file_extension": ".py",
   "mimetype": "text/x-python",
   "name": "python",
   "nbconvert_exporter": "python",
   "pygments_lexer": "ipython3",
   "version": "3.6.4"
  }
 },
 "nbformat": 4,
 "nbformat_minor": 2
}
