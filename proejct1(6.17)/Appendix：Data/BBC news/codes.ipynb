{
 "cells": [
  {
   "cell_type": "code",
   "execution_count": 2,
   "metadata": {},
   "outputs": [],
   "source": [
    "import pickle as pk\n",
    "import pandas as pd\n",
    "import numpy as np"
   ]
  },
  {
   "cell_type": "code",
   "execution_count": 3,
   "metadata": {},
   "outputs": [],
   "source": [
    "df = pd.read_csv('BBC news dataset.csv')"
   ]
  },
  {
   "cell_type": "code",
   "execution_count": 16,
   "metadata": {},
   "outputs": [],
   "source": [
    "lst = df['tags'].tolist()"
   ]
  },
  {
   "cell_type": "code",
   "execution_count": 20,
   "metadata": {},
   "outputs": [],
   "source": [
    "label_list = []\n",
    "for i in range(len(df)):\n",
    "    \n",
    "    label_list.append(str(lst[i]).split()[0])"
   ]
  },
  {
   "cell_type": "code",
   "execution_count": 22,
   "metadata": {},
   "outputs": [],
   "source": [
    "df['label'] = label_list"
   ]
  },
  {
   "cell_type": "code",
   "execution_count": 24,
   "metadata": {},
   "outputs": [],
   "source": [
    "del df['Unnamed: 0']"
   ]
  },
  {
   "cell_type": "code",
   "execution_count": 27,
   "metadata": {},
   "outputs": [
    {
     "data": {
      "text/plain": [
       "sports,           473\n",
       "entertainment,    413\n",
       "business,         399\n",
       "technology,       391\n",
       "politics,         294\n",
       "law,               61\n",
       "social             56\n",
       "human              31\n",
       "the                30\n",
       "disaster,          27\n",
       "labor,             19\n",
       "nan                18\n",
       "education,         17\n",
       "health,            17\n",
       "environment,       13\n",
       "war,               12\n",
       "london,            10\n",
       "hospitality,        8\n",
       "bbc,                6\n",
       "united              4\n",
       "iraq,               4\n",
       "hewlett             4\n",
       "crystal             3\n",
       "beijing,            3\n",
       "sony,               3\n",
       "amazon.com,         3\n",
       "rome,               3\n",
       "washington,         3\n",
       "capgemini,          3\n",
       "new                 3\n",
       "                 ... \n",
       "santos,             1\n",
       "agroflora,          1\n",
       "eastenders'         1\n",
       "zurich,             1\n",
       "bbc                 1\n",
       "milan,              1\n",
       "sapporo,            1\n",
       "anniversary         1\n",
       "n                   1\n",
       "mr                  1\n",
       "nintendo,           1\n",
       "comair,             1\n",
       "durham,             1\n",
       "belfast,            1\n",
       "switzerland,        1\n",
       "xinhua              1\n",
       "norwich,            1\n",
       "easyjet,            1\n",
       "melton              1\n",
       "google,             1\n",
       "alcohol             1\n",
       "green               1\n",
       "melbourne,          1\n",
       "gamer,              1\n",
       "las                 1\n",
       "luanda,             1\n",
       "cbi,                1\n",
       "nairobi,            1\n",
       "ubs,                1\n",
       "afp,                1\n",
       "Name: label, Length: 97, dtype: int64"
      ]
     },
     "execution_count": 27,
     "metadata": {},
     "output_type": "execute_result"
    }
   ],
   "source": [
    "df['label'].value_counts()"
   ]
  },
  {
   "cell_type": "code",
   "execution_count": null,
   "metadata": {},
   "outputs": [],
   "source": []
  },
  {
   "cell_type": "code",
   "execution_count": 26,
   "metadata": {},
   "outputs": [],
   "source": [
    "df.to_csv('BBC news dataset cleaned.csv', index=False)"
   ]
  },
  {
   "cell_type": "code",
   "execution_count": null,
   "metadata": {},
   "outputs": [],
   "source": []
  }
 ],
 "metadata": {
  "kernelspec": {
   "display_name": "Python 3",
   "language": "python",
   "name": "python3"
  },
  "language_info": {
   "codemirror_mode": {
    "name": "ipython",
    "version": 3
   },
   "file_extension": ".py",
   "mimetype": "text/x-python",
   "name": "python",
   "nbconvert_exporter": "python",
   "pygments_lexer": "ipython3",
   "version": "3.6.4"
  }
 },
 "nbformat": 4,
 "nbformat_minor": 2
}
