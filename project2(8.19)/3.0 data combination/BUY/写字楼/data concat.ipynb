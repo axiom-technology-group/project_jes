{
 "cells": [
  {
   "cell_type": "code",
   "execution_count": 3,
   "metadata": {},
   "outputs": [],
   "source": [
    "import pandas as pd\n",
    "import numpy as np\n",
    "\n",
    "df1 = pd.read_csv('上海写字楼地址数据.csv')\n",
    "df2 = pd.read_csv('北京写字楼地址数据.csv')\n",
    "df3 = pd.read_csv('深圳写字楼地址数据.csv')\n",
    "df4 = pd.read_csv('成都写字楼地址数据.csv')\n",
    "df5 = pd.read_csv('广州写字楼地址数据.csv')\n",
    "\n",
    "df1['city'] = '上海'\n",
    "df2['city'] = '北京'\n",
    "df3['city'] = '深圳'\n",
    "df4['city'] = '成都'\n",
    "df5['city'] = '广州'"
   ]
  },
  {
   "cell_type": "code",
   "execution_count": 4,
   "metadata": {},
   "outputs": [],
   "source": [
    "df = pd.concat([df1,df2,df3,df4,df5])"
   ]
  },
  {
   "cell_type": "code",
   "execution_count": 5,
   "metadata": {},
   "outputs": [
    {
     "data": {
      "text/plain": [
       "(32913, 16)"
      ]
     },
     "execution_count": 5,
     "metadata": {},
     "output_type": "execute_result"
    }
   ],
   "source": [
    "df.shape"
   ]
  },
  {
   "cell_type": "code",
   "execution_count": 6,
   "metadata": {},
   "outputs": [
    {
     "data": {
      "text/html": [
       "<div>\n",
       "<style scoped>\n",
       "    .dataframe tbody tr th:only-of-type {\n",
       "        vertical-align: middle;\n",
       "    }\n",
       "\n",
       "    .dataframe tbody tr th {\n",
       "        vertical-align: top;\n",
       "    }\n",
       "\n",
       "    .dataframe thead th {\n",
       "        text-align: right;\n",
       "    }\n",
       "</style>\n",
       "<table border=\"1\" class=\"dataframe\">\n",
       "  <thead>\n",
       "    <tr style=\"text-align: right;\">\n",
       "      <th></th>\n",
       "      <th>building_type</th>\n",
       "      <th>dengji</th>\n",
       "      <th>jianzhumianji</th>\n",
       "      <th>loupan_content</th>\n",
       "      <th>loupandizhi</th>\n",
       "      <th>price_perunit</th>\n",
       "      <th>release_date</th>\n",
       "      <th>service_price</th>\n",
       "      <th>suozailouceng</th>\n",
       "      <th>titile</th>\n",
       "      <th>total_price_10K</th>\n",
       "      <th>url</th>\n",
       "      <th>xzl_content</th>\n",
       "      <th>zhuangxiu</th>\n",
       "      <th>location_coords</th>\n",
       "      <th>city</th>\n",
       "    </tr>\n",
       "  </thead>\n",
       "  <tbody>\n",
       "    <tr>\n",
       "      <th>0</th>\n",
       "      <td>纯写字楼</td>\n",
       "      <td>NaN</td>\n",
       "      <td>2600㎡</td>\n",
       "      <td>新华联国际中心是新华联不动产进军上海后的综合体项目，位于虹桥商务区北09地块，东至申滨路，南...</td>\n",
       "      <td>上海, 闵行, 华漕, 新华联国际中心</td>\n",
       "      <td>(70000元/㎡)</td>\n",
       "      <td>2019/8/1 11:51:14</td>\n",
       "      <td>NaN</td>\n",
       "      <td>\\r\\n</td>\n",
       "      <td>新华联国际中心 法式独栋通煤气 虹桥商务区新地标</td>\n",
       "      <td>18200</td>\n",
       "      <td>https://sh.office.fang.com/shou/3_357937634.html</td>\n",
       "      <td>《新华联国际中心》                              项目基本介绍 ...</td>\n",
       "      <td>精装修(可分割)</td>\n",
       "      <td>121.308599,31.200762</td>\n",
       "      <td>上海</td>\n",
       "    </tr>\n",
       "    <tr>\n",
       "      <th>1</th>\n",
       "      <td>纯写字楼</td>\n",
       "      <td>甲级</td>\n",
       "      <td>800㎡</td>\n",
       "      <td>华宜大厦位于上海市徐汇区内环高架中山西路2020号，步行至轨道交通3、4、9号线宜山路站只需...</td>\n",
       "      <td>上海, 徐汇, 徐家汇, 华宜大厦</td>\n",
       "      <td>(26800元/㎡)</td>\n",
       "      <td>2019/8/16 20:00:41</td>\n",
       "      <td>24.50元/平米·月</td>\n",
       "      <td>中区(共28层)</td>\n",
       "      <td>徐汇高品质双子楼，5.6米复式楼层，急降100万！近华鑫中心</td>\n",
       "      <td>2144</td>\n",
       "      <td>https://sh.office.fang.com/shou/3_359532121.html</td>\n",
       "      <td>上海合森商业地产-I标办I商+住I独栋I企业总部I推荐理由（宋甜 150-0023-6386...</td>\n",
       "      <td>精装修(可分割)</td>\n",
       "      <td>121.426909,31.181896</td>\n",
       "      <td>上海</td>\n",
       "    </tr>\n",
       "    <tr>\n",
       "      <th>2</th>\n",
       "      <td>纯写字楼</td>\n",
       "      <td>甲级</td>\n",
       "      <td>203㎡</td>\n",
       "      <td>SKYWAY TOWER上置金融大厦位于上海新黄浦区CBD中心区域——打浦路、徐家汇路口。将...</td>\n",
       "      <td>上海, 黄浦, 打浦桥, 长城金融大厦</td>\n",
       "      <td>(39500元/㎡)</td>\n",
       "      <td>2019/8/5 19:56:23</td>\n",
       "      <td>29.00元/平米·月</td>\n",
       "      <td>高区(共52层)</td>\n",
       "      <td>降150万急售，打浦桥高品质，高区朝南，正对电梯厅，送产权车位</td>\n",
       "      <td>802</td>\n",
       "      <td>https://sh.office.fang.com/shou/3_358415533.html</td>\n",
       "      <td>【房源概述】1、基本情况：上置金/融大厦地处打浦路15号，打浦路-徐家汇路商圈，9号线打浦桥...</td>\n",
       "      <td>精装修(可分割)</td>\n",
       "      <td>121.470994,31.204445</td>\n",
       "      <td>上海</td>\n",
       "    </tr>\n",
       "    <tr>\n",
       "      <th>3</th>\n",
       "      <td>精装修(不可分割)</td>\n",
       "      <td>甲级</td>\n",
       "      <td>75.79㎡</td>\n",
       "      <td></td>\n",
       "      <td>上海, 长宁, 虹桥, 虹桥银城大厦</td>\n",
       "      <td>(26980元/㎡)</td>\n",
       "      <td>2019/7/22 9:52:07</td>\n",
       "      <td>20.00元/平米·月</td>\n",
       "      <td>高区(共30层)</td>\n",
       "      <td>虹桥银城/三轨/三面采光/玻璃幕墙/业主急售</td>\n",
       "      <td>204</td>\n",
       "      <td>https://sh.office.fang.com/shou/3_356938014.html</td>\n",
       "      <td>1.房源情况：虹桥银城位于中山西路933号近安顺路，旁边是东华大学；内环高品/质写字楼，全玻...</td>\n",
       "      <td>NaN</td>\n",
       "      <td>121.413314,31.201377</td>\n",
       "      <td>上海</td>\n",
       "    </tr>\n",
       "    <tr>\n",
       "      <th>4</th>\n",
       "      <td>纯写字楼</td>\n",
       "      <td>甲级</td>\n",
       "      <td>65.6㎡</td>\n",
       "      <td>绿地·公园广场地处宝山顾村板块核心，项目北至规划河道，南至顾村公园，东临华山医院北院，西临大...</td>\n",
       "      <td>上海, 宝山, 顾村, 绿地公园广场</td>\n",
       "      <td>(10100元/㎡)</td>\n",
       "      <td>2019/8/30 11:14:46</td>\n",
       "      <td>11.00元/平米·月</td>\n",
       "      <td>高区(共15层)</td>\n",
       "      <td>7号线顾村公园正上盖 绿地公园广场 高区</td>\n",
       "      <td>66</td>\n",
       "      <td>https://sh.office.fang.com/shou/3_360928547.html</td>\n",
       "      <td>悦善地产——前沿商业地产掌舵者！客户来电匹配房源满意率97.8%业主挂牌1个月内成交率91....</td>\n",
       "      <td>精装修(不可分割)</td>\n",
       "      <td>121.371098,31.345270</td>\n",
       "      <td>上海</td>\n",
       "    </tr>\n",
       "  </tbody>\n",
       "</table>\n",
       "</div>"
      ],
      "text/plain": [
       "  building_type dengji jianzhumianji  \\\n",
       "0          纯写字楼    NaN         2600㎡   \n",
       "1          纯写字楼     甲级          800㎡   \n",
       "2          纯写字楼     甲级          203㎡   \n",
       "3     精装修(不可分割)     甲级        75.79㎡   \n",
       "4          纯写字楼     甲级         65.6㎡   \n",
       "\n",
       "                                      loupan_content          loupandizhi  \\\n",
       "0  新华联国际中心是新华联不动产进军上海后的综合体项目，位于虹桥商务区北09地块，东至申滨路，南...  上海, 闵行, 华漕, 新华联国际中心   \n",
       "1  华宜大厦位于上海市徐汇区内环高架中山西路2020号，步行至轨道交通3、4、9号线宜山路站只需...    上海, 徐汇, 徐家汇, 华宜大厦   \n",
       "2  SKYWAY TOWER上置金融大厦位于上海新黄浦区CBD中心区域——打浦路、徐家汇路口。将...  上海, 黄浦, 打浦桥, 长城金融大厦   \n",
       "3                                                      上海, 长宁, 虹桥, 虹桥银城大厦   \n",
       "4  绿地·公园广场地处宝山顾村板块核心，项目北至规划河道，南至顾村公园，东临华山医院北院，西临大...   上海, 宝山, 顾村, 绿地公园广场   \n",
       "\n",
       "  price_perunit        release_date service_price     suozailouceng  \\\n",
       "0    (70000元/㎡)   2019/8/1 11:51:14           NaN  \\r\\n               \n",
       "1    (26800元/㎡)  2019/8/16 20:00:41   24.50元/平米·月          中区(共28层)   \n",
       "2    (39500元/㎡)   2019/8/5 19:56:23   29.00元/平米·月          高区(共52层)   \n",
       "3    (26980元/㎡)   2019/7/22 9:52:07   20.00元/平米·月          高区(共30层)   \n",
       "4    (10100元/㎡)  2019/8/30 11:14:46   11.00元/平米·月          高区(共15层)   \n",
       "\n",
       "                            titile total_price_10K  \\\n",
       "0         新华联国际中心 法式独栋通煤气 虹桥商务区新地标           18200   \n",
       "1   徐汇高品质双子楼，5.6米复式楼层，急降100万！近华鑫中心            2144   \n",
       "2  降150万急售，打浦桥高品质，高区朝南，正对电梯厅，送产权车位             802   \n",
       "3           虹桥银城/三轨/三面采光/玻璃幕墙/业主急售             204   \n",
       "4             7号线顾村公园正上盖 绿地公园广场 高区              66   \n",
       "\n",
       "                                                url  \\\n",
       "0  https://sh.office.fang.com/shou/3_357937634.html   \n",
       "1  https://sh.office.fang.com/shou/3_359532121.html   \n",
       "2  https://sh.office.fang.com/shou/3_358415533.html   \n",
       "3  https://sh.office.fang.com/shou/3_356938014.html   \n",
       "4  https://sh.office.fang.com/shou/3_360928547.html   \n",
       "\n",
       "                                         xzl_content  zhuangxiu  \\\n",
       "0  《新华联国际中心》                              项目基本介绍 ...   精装修(可分割)   \n",
       "1  上海合森商业地产-I标办I商+住I独栋I企业总部I推荐理由（宋甜 150-0023-6386...   精装修(可分割)   \n",
       "2  【房源概述】1、基本情况：上置金/融大厦地处打浦路15号，打浦路-徐家汇路商圈，9号线打浦桥...   精装修(可分割)   \n",
       "3  1.房源情况：虹桥银城位于中山西路933号近安顺路，旁边是东华大学；内环高品/质写字楼，全玻...        NaN   \n",
       "4  悦善地产——前沿商业地产掌舵者！客户来电匹配房源满意率97.8%业主挂牌1个月内成交率91....  精装修(不可分割)   \n",
       "\n",
       "        location_coords city  \n",
       "0  121.308599,31.200762   上海  \n",
       "1  121.426909,31.181896   上海  \n",
       "2  121.470994,31.204445   上海  \n",
       "3  121.413314,31.201377   上海  \n",
       "4  121.371098,31.345270   上海  "
      ]
     },
     "execution_count": 6,
     "metadata": {},
     "output_type": "execute_result"
    }
   ],
   "source": [
    "df.head()"
   ]
  },
  {
   "cell_type": "code",
   "execution_count": 9,
   "metadata": {},
   "outputs": [],
   "source": [
    "df.drop_duplicates(subset = 'url',keep = 'first', inplace = True)"
   ]
  },
  {
   "cell_type": "code",
   "execution_count": 10,
   "metadata": {},
   "outputs": [
    {
     "data": {
      "text/plain": [
       "(32911, 16)"
      ]
     },
     "execution_count": 10,
     "metadata": {},
     "output_type": "execute_result"
    }
   ],
   "source": [
    "df.shape"
   ]
  },
  {
   "cell_type": "code",
   "execution_count": 11,
   "metadata": {},
   "outputs": [],
   "source": [
    "df.to_csv('写字楼数据.csv', encoding = 'utf-8-sig',index = False)"
   ]
  },
  {
   "cell_type": "code",
   "execution_count": null,
   "metadata": {},
   "outputs": [],
   "source": []
  }
 ],
 "metadata": {
  "kernelspec": {
   "display_name": "Python 3",
   "language": "python",
   "name": "python3"
  },
  "language_info": {
   "codemirror_mode": {
    "name": "ipython",
    "version": 3
   },
   "file_extension": ".py",
   "mimetype": "text/x-python",
   "name": "python",
   "nbconvert_exporter": "python",
   "pygments_lexer": "ipython3",
   "version": "3.6.4"
  }
 },
 "nbformat": 4,
 "nbformat_minor": 2
}
