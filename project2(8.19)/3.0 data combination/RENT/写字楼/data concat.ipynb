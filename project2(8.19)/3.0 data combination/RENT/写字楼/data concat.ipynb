{
 "cells": [
  {
   "cell_type": "code",
   "execution_count": 56,
   "metadata": {},
   "outputs": [],
   "source": [
    "import pandas as pd\n",
    "import numpy as np\n",
    "\n",
    "df1 = pd.read_csv('上海写字楼出租地址数据.csv')\n",
    "df2 = pd.read_csv('北京写字楼出租地址数据.csv')\n",
    "df3 = pd.read_csv('深圳写字楼出租地址数据.csv')\n",
    "df4 = pd.read_csv('成都写字楼出租地址数据.csv')\n",
    "df5 = pd.read_csv('广州写字楼出租地址数据.csv')\n",
    "\n",
    "df1['city'] = '上海'\n",
    "df2['city'] = '北京'\n",
    "df3['city'] = '深圳'\n",
    "df4['city'] = '成都'\n",
    "df5['city'] = '广州'"
   ]
  },
  {
   "cell_type": "code",
   "execution_count": 67,
   "metadata": {},
   "outputs": [
    {
     "name": "stderr",
     "output_type": "stream",
     "text": [
      "/anaconda3/lib/python3.6/site-packages/pandas/core/frame.py:6211: FutureWarning: Sorting because non-concatenation axis is not aligned. A future version\n",
      "of pandas will change to not sort by default.\n",
      "\n",
      "To accept the future behavior, pass 'sort=False'.\n",
      "\n",
      "To retain the current behavior and silence the warning, pass 'sort=True'.\n",
      "\n",
      "  sort=sort)\n"
     ]
    }
   ],
   "source": [
    "df = pd.DataFrame()\n",
    "for i in [df1,df2,df3,df4,df5]:\n",
    "    df = df.append(i)"
   ]
  },
  {
   "cell_type": "code",
   "execution_count": 68,
   "metadata": {},
   "outputs": [
    {
     "data": {
      "text/plain": [
       "(58338, 18)"
      ]
     },
     "execution_count": 68,
     "metadata": {},
     "output_type": "execute_result"
    }
   ],
   "source": [
    "df.shape"
   ]
  },
  {
   "cell_type": "code",
   "execution_count": 69,
   "metadata": {},
   "outputs": [],
   "source": [
    "df.drop_duplicates(subset = 'url',keep = 'first', inplace = True)"
   ]
  },
  {
   "cell_type": "code",
   "execution_count": 70,
   "metadata": {},
   "outputs": [],
   "source": [
    "def cleanstring(string):\n",
    "    string = str(string).replace('\\r\\n','')\n",
    "    string = string.replace('\\t','')\n",
    "    string = string.replace(' ','')\n",
    "    return string\n",
    "    "
   ]
  },
  {
   "cell_type": "code",
   "execution_count": 71,
   "metadata": {},
   "outputs": [],
   "source": [
    "df['loupan_content'] = df['loupan_content'].apply(cleanstring)"
   ]
  },
  {
   "cell_type": "code",
   "execution_count": 75,
   "metadata": {},
   "outputs": [
    {
     "data": {
      "text/plain": [
       "1    中信泰富广场中信泰富广场位于上海繁华的南京西路1168号、江宁路口，毗邻梅龙镇广场，中信泰富...\n",
       "1    丰融国际中心丰融国际中心位于北京市金融街中心区东侧金融街的H区内，与金融街中心广场相忘，本项...\n",
       "1                                                  nan\n",
       "1    中国华商金融中心写字楼中国华商金融中心写字楼是继华商大会在成都召开后，在国家及省市的大力支持...\n",
       "1    保利克洛维广场保利克洛维，一线紧靠黄埔大道，位于珠江新城。珠江新城，中轴线旁保利克洛维，领距...\n",
       "Name: loupan_content, dtype: object"
      ]
     },
     "execution_count": 75,
     "metadata": {},
     "output_type": "execute_result"
    }
   ],
   "source": [
    "df['loupan_content'][1]"
   ]
  },
  {
   "cell_type": "code",
   "execution_count": 79,
   "metadata": {},
   "outputs": [],
   "source": [
    "df['xzl_content'] = df['xzl_content'].apply(cleanstring)"
   ]
  },
  {
   "cell_type": "code",
   "execution_count": 81,
   "metadata": {},
   "outputs": [
    {
     "data": {
      "text/plain": [
       "0    房源亮点可租赁面积：138、145、225、261、378、511、810、1163、232...\n",
       "0    房源亮点一、京东联行-房源介绍（1）楼盘名：中国尊得房率：72%（2）建筑面积：2885-3...\n",
       "0    房源亮点243平，3+1隔间，双面采光，视野好，精装修价格还可以沟通另该栋还有236平、38...\n",
       "0    房源亮点各位老板您好！看上的房子直接电联我哦期待和您的每一次带看哦~点我头像还有更多房源图片...\n",
       "0    房源亮点保利中悦出租单元情况：【出租面积】373方，建筑面积；【租金情况】145元/方，总价...\n",
       "Name: xzl_content, dtype: object"
      ]
     },
     "execution_count": 81,
     "metadata": {},
     "output_type": "execute_result"
    }
   ],
   "source": [
    "df['xzl_content'][0]"
   ]
  },
  {
   "cell_type": "code",
   "execution_count": 82,
   "metadata": {},
   "outputs": [],
   "source": [
    "df.to_csv('写字楼出租数据.csv', encoding = 'utf-8-sig',index = False)"
   ]
  },
  {
   "cell_type": "code",
   "execution_count": 84,
   "metadata": {},
   "outputs": [
    {
     "name": "stderr",
     "output_type": "stream",
     "text": [
      "/anaconda3/lib/python3.6/site-packages/IPython/core/interactiveshell.py:2728: DtypeWarning: Columns (8,9,13) have mixed types. Specify dtype option on import or set low_memory=False.\n",
      "  interactivity=interactivity, compiler=compiler, result=result)\n"
     ]
    }
   ],
   "source": [
    "df = pd.read_csv('写字楼出租数据.csv')"
   ]
  },
  {
   "cell_type": "code",
   "execution_count": 87,
   "metadata": {},
   "outputs": [
    {
     "data": {
      "text/plain": [
       "'房源亮点(1)面积：110m2(2)报价：10元/m2?天，可(3)装修：豪华装修带家具(4)免租时间：可谈(5)看房时间：随时看房全程免费看房，2号线陆家嘴站步行8min(6)业态不限：接受金融，如果你业态是网络，科技，物流，贸易，软件，咨询，外企，电子电商等业态价格还可以在谈。正对电梯，可直接打我电话过来挑户型。'"
      ]
     },
     "execution_count": 87,
     "metadata": {},
     "output_type": "execute_result"
    }
   ],
   "source": [
    "df['xzl_content'][3]"
   ]
  },
  {
   "cell_type": "code",
   "execution_count": null,
   "metadata": {},
   "outputs": [],
   "source": []
  }
 ],
 "metadata": {
  "kernelspec": {
   "display_name": "Python 3",
   "language": "python",
   "name": "python3"
  },
  "language_info": {
   "codemirror_mode": {
    "name": "ipython",
    "version": 3
   },
   "file_extension": ".py",
   "mimetype": "text/x-python",
   "name": "python",
   "nbconvert_exporter": "python",
   "pygments_lexer": "ipython3",
   "version": "3.6.4"
  }
 },
 "nbformat": 4,
 "nbformat_minor": 2
}
