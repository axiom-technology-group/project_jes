{
 "cells": [
  {
   "cell_type": "code",
   "execution_count": 1,
   "metadata": {},
   "outputs": [],
   "source": [
    "import pandas as pd\n",
    "import numpy as np\n",
    "import requests"
   ]
  },
  {
   "cell_type": "code",
   "execution_count": 2,
   "metadata": {},
   "outputs": [],
   "source": [
    "df = pd.read_csv('链家二手房广州.csv')"
   ]
  },
  {
   "cell_type": "code",
   "execution_count": 3,
   "metadata": {},
   "outputs": [
    {
     "data": {
      "text/plain": [
       "(22751, 25)"
      ]
     },
     "execution_count": 3,
     "metadata": {},
     "output_type": "execute_result"
    }
   ],
   "source": [
    "df.shape"
   ]
  },
  {
   "cell_type": "code",
   "execution_count": 4,
   "metadata": {},
   "outputs": [],
   "source": [
    "lst_loc = []\n",
    "lst_loc_old = df['house_location'].tolist()\n",
    "for i in range(len(lst_loc_old)):\n",
    "    templst = lst_loc_old[i].split('二手房成交')[0:]\n",
    "    templst = [j.replace(\",\", \"\") for j in templst][1:-1]\n",
    "    templst.insert(0, \"广州\")\n",
    "    ''.join(templst)\n",
    "    lst_loc.append(' '.join(templst))"
   ]
  },
  {
   "cell_type": "code",
   "execution_count": 5,
   "metadata": {},
   "outputs": [],
   "source": [
    "df['house_location'] = lst_loc"
   ]
  },
  {
   "cell_type": "code",
   "execution_count": 6,
   "metadata": {},
   "outputs": [],
   "source": [
    "list_location = df['house_location'].value_counts().index.tolist()"
   ]
  },
  {
   "cell_type": "code",
   "execution_count": 8,
   "metadata": {},
   "outputs": [
    {
     "name": "stdout",
     "output_type": "stream",
     "text": [
      "one batch(250) processed\n",
      "one batch(250) processed\n",
      "one batch(250) processed\n",
      "one batch(250) processed\n",
      "one batch(250) processed\n",
      "one batch(250) processed\n",
      "one batch(250) processed\n",
      "one batch(250) processed\n",
      "one batch(250) processed\n",
      "one batch(250) processed\n",
      "one batch(250) processed\n",
      "one batch(250) processed\n",
      "one batch(250) processed\n",
      "one batch(250) processed\n"
     ]
    }
   ],
   "source": [
    "dict_location = {}\n",
    "My_key = 'f654d644aeae0e1da847d7ca408f4370'\n",
    "url_pre = 'https://restapi.amap.com/v3/geocode/geo?key={}&address={}&city={}'\n",
    "counter = 0\n",
    "for i in list_location:\n",
    "    location = i.split(\" \")[-1]\n",
    "    url = url_pre.format(My_key, location, '广州')\n",
    "    res = requests.get(url).json()\n",
    "    if res['status'] == '0':\n",
    "        dict_location[i] = np.nan\n",
    "        counter +=1\n",
    "    else:\n",
    "        try: \n",
    "            dict_location[i] = res['geocodes'][0]['location']\n",
    "            if counter % 250 == 0:\n",
    "                print('one batch(250) processed')\n",
    "        except:\n",
    "            dict_location[i] = np.nan\n",
    "            \n",
    "        counter +=1"
   ]
  },
  {
   "cell_type": "code",
   "execution_count": 10,
   "metadata": {},
   "outputs": [],
   "source": [
    "df['location_coords'] = np.nan"
   ]
  },
  {
   "cell_type": "code",
   "execution_count": 11,
   "metadata": {},
   "outputs": [
    {
     "name": "stdout",
     "output_type": "stream",
     "text": [
      "A batch(50) is done\n",
      "A batch(50) is done\n",
      "A batch(50) is done\n",
      "A batch(50) is done\n",
      "A batch(50) is done\n",
      "A batch(50) is done\n",
      "A batch(50) is done\n",
      "A batch(50) is done\n",
      "A batch(50) is done\n",
      "A batch(50) is done\n",
      "A batch(50) is done\n",
      "A batch(50) is done\n",
      "A batch(50) is done\n",
      "A batch(50) is done\n",
      "A batch(50) is done\n",
      "A batch(50) is done\n",
      "A batch(50) is done\n",
      "A batch(50) is done\n",
      "A batch(50) is done\n",
      "A batch(50) is done\n",
      "A batch(50) is done\n",
      "A batch(50) is done\n",
      "A batch(50) is done\n",
      "A batch(50) is done\n",
      "A batch(50) is done\n",
      "A batch(50) is done\n",
      "A batch(50) is done\n",
      "A batch(50) is done\n",
      "A batch(50) is done\n",
      "A batch(50) is done\n",
      "A batch(50) is done\n",
      "A batch(50) is done\n",
      "A batch(50) is done\n",
      "A batch(50) is done\n",
      "A batch(50) is done\n",
      "A batch(50) is done\n",
      "A batch(50) is done\n",
      "A batch(50) is done\n",
      "A batch(50) is done\n",
      "A batch(50) is done\n",
      "A batch(50) is done\n",
      "A batch(50) is done\n",
      "A batch(50) is done\n",
      "A batch(50) is done\n",
      "A batch(50) is done\n",
      "A batch(50) is done\n",
      "A batch(50) is done\n",
      "A batch(50) is done\n",
      "A batch(50) is done\n",
      "A batch(50) is done\n",
      "A batch(50) is done\n",
      "A batch(50) is done\n",
      "A batch(50) is done\n",
      "A batch(50) is done\n",
      "A batch(50) is done\n",
      "A batch(50) is done\n",
      "A batch(50) is done\n",
      "A batch(50) is done\n",
      "A batch(50) is done\n",
      "A batch(50) is done\n",
      "A batch(50) is done\n",
      "A batch(50) is done\n",
      "A batch(50) is done\n",
      "A batch(50) is done\n",
      "A batch(50) is done\n"
     ]
    }
   ],
   "source": [
    "counter = 0\n",
    "for i in list_location:\n",
    "    counter += 1\n",
    "    df_temp = df[df['house_location'] == i]\n",
    "    df_temp_index = df_temp.index.tolist()\n",
    "    df.iloc[df_temp_index,25] = dict_location[i]\n",
    "    if counter %50 == 0:\n",
    "        print('A batch(50) is done')"
   ]
  },
  {
   "cell_type": "code",
   "execution_count": 12,
   "metadata": {},
   "outputs": [
    {
     "data": {
      "text/plain": [
       "(22751, 26)"
      ]
     },
     "execution_count": 12,
     "metadata": {},
     "output_type": "execute_result"
    }
   ],
   "source": [
    "df.shape"
   ]
  },
  {
   "cell_type": "code",
   "execution_count": 14,
   "metadata": {},
   "outputs": [
    {
     "data": {
      "text/html": [
       "<div>\n",
       "<style scoped>\n",
       "    .dataframe tbody tr th:only-of-type {\n",
       "        vertical-align: middle;\n",
       "    }\n",
       "\n",
       "    .dataframe tbody tr th {\n",
       "        vertical-align: top;\n",
       "    }\n",
       "\n",
       "    .dataframe thead th {\n",
       "        text-align: right;\n",
       "    }\n",
       "</style>\n",
       "<table border=\"1\" class=\"dataframe\">\n",
       "  <thead>\n",
       "    <tr style=\"text-align: right;\">\n",
       "      <th></th>\n",
       "      <th>Architectural_Types</th>\n",
       "      <th>Built_up_area</th>\n",
       "      <th>Completion_date</th>\n",
       "      <th>Cover_area</th>\n",
       "      <th>Decoration</th>\n",
       "      <th>Equipped_with_elevators</th>\n",
       "      <th>Heating_mode</th>\n",
       "      <th>House_orientation</th>\n",
       "      <th>House_use</th>\n",
       "      <th>Housing_type</th>\n",
       "      <th>...</th>\n",
       "      <th>floor</th>\n",
       "      <th>headline</th>\n",
       "      <th>house_location</th>\n",
       "      <th>house_price_perunit</th>\n",
       "      <th>house_price_tenK</th>\n",
       "      <th>house_website_traffic</th>\n",
       "      <th>household_ratio_perstair</th>\n",
       "      <th>sell_date</th>\n",
       "      <th>url</th>\n",
       "      <th>location_coords</th>\n",
       "    </tr>\n",
       "  </thead>\n",
       "  <tbody>\n",
       "    <tr>\n",
       "      <th>0</th>\n",
       "      <td>塔楼</td>\n",
       "      <td>74㎡</td>\n",
       "      <td>2008</td>\n",
       "      <td>暂无数据</td>\n",
       "      <td>简装</td>\n",
       "      <td>有</td>\n",
       "      <td>NaN</td>\n",
       "      <td>东南</td>\n",
       "      <td>普通住宅</td>\n",
       "      <td>2室1厅0厨1卫</td>\n",
       "      <td>...</td>\n",
       "      <td>低楼层(共31层)</td>\n",
       "      <td>恒荔湾畔 2室1厅 74平米</td>\n",
       "      <td>广州 荔湾 芳村 恒荔湾畔</td>\n",
       "      <td>30811</td>\n",
       "      <td>228</td>\n",
       "      <td>暂无数据</td>\n",
       "      <td>三梯八户</td>\n",
       "      <td>2016.07.02 成交</td>\n",
       "      <td>https://gz.lianjia.com/chengjiao/GZ0001663789....</td>\n",
       "      <td>113.232098,23.101540</td>\n",
       "    </tr>\n",
       "    <tr>\n",
       "      <th>1</th>\n",
       "      <td>塔楼</td>\n",
       "      <td>75㎡</td>\n",
       "      <td>1996</td>\n",
       "      <td>暂无数据</td>\n",
       "      <td>其他</td>\n",
       "      <td>有</td>\n",
       "      <td>NaN</td>\n",
       "      <td>西南</td>\n",
       "      <td>普通住宅</td>\n",
       "      <td>3室2厅0厨1卫</td>\n",
       "      <td>...</td>\n",
       "      <td>低楼层(共25层)</td>\n",
       "      <td>惠城花园 3室2厅 75平米</td>\n",
       "      <td>广州 荔湾 龙津 惠城花园</td>\n",
       "      <td>27067</td>\n",
       "      <td>203</td>\n",
       "      <td>暂无数据</td>\n",
       "      <td>三梯十二户</td>\n",
       "      <td>2016.07.19 成交</td>\n",
       "      <td>https://gz.lianjia.com/chengjiao/GZ0001769406....</td>\n",
       "      <td>113.246404,23.122044</td>\n",
       "    </tr>\n",
       "    <tr>\n",
       "      <th>2</th>\n",
       "      <td>塔楼</td>\n",
       "      <td>75.48㎡</td>\n",
       "      <td>1998</td>\n",
       "      <td>暂无数据</td>\n",
       "      <td>简装</td>\n",
       "      <td>有</td>\n",
       "      <td>NaN</td>\n",
       "      <td>东北</td>\n",
       "      <td>普通住宅</td>\n",
       "      <td>2室1厅0厨1卫</td>\n",
       "      <td>...</td>\n",
       "      <td>低楼层(共15层)</td>\n",
       "      <td>紫荆小区 2室1厅 75.48平米</td>\n",
       "      <td>广州 天河 林和 紫荆小区</td>\n",
       "      <td>34447</td>\n",
       "      <td>260</td>\n",
       "      <td>2</td>\n",
       "      <td>两梯七户</td>\n",
       "      <td>2016.07.20 成交</td>\n",
       "      <td>https://gz.lianjia.com/chengjiao/GZ0001813212....</td>\n",
       "      <td>113.327153,23.144408</td>\n",
       "    </tr>\n",
       "    <tr>\n",
       "      <th>3</th>\n",
       "      <td>塔楼</td>\n",
       "      <td>73㎡</td>\n",
       "      <td>2005</td>\n",
       "      <td>暂无数据</td>\n",
       "      <td>精装</td>\n",
       "      <td>有</td>\n",
       "      <td>NaN</td>\n",
       "      <td>北</td>\n",
       "      <td>普通住宅</td>\n",
       "      <td>2室1厅0厨1卫</td>\n",
       "      <td>...</td>\n",
       "      <td>低楼层(共28层)</td>\n",
       "      <td>英豪花园阳光320 2室1厅 73平米</td>\n",
       "      <td>广州 海珠 南洲 英豪花园阳光320</td>\n",
       "      <td>24795</td>\n",
       "      <td>181</td>\n",
       "      <td>暂无数据</td>\n",
       "      <td>三梯八户</td>\n",
       "      <td>2016.07.23 成交</td>\n",
       "      <td>https://gz.lianjia.com/chengjiao/GZ0001671458....</td>\n",
       "      <td>113.299113,23.068415</td>\n",
       "    </tr>\n",
       "    <tr>\n",
       "      <th>4</th>\n",
       "      <td>塔楼</td>\n",
       "      <td>74㎡</td>\n",
       "      <td>2009</td>\n",
       "      <td>暂无数据</td>\n",
       "      <td>其他</td>\n",
       "      <td>有</td>\n",
       "      <td>NaN</td>\n",
       "      <td>南</td>\n",
       "      <td>普通住宅</td>\n",
       "      <td>2室2厅0厨2卫</td>\n",
       "      <td>...</td>\n",
       "      <td>低楼层(共24层)</td>\n",
       "      <td>东湖洲花园1区 2室2厅 74平米</td>\n",
       "      <td>广州 番禺 番禺客运站 东湖洲花园1区</td>\n",
       "      <td>22703</td>\n",
       "      <td>168</td>\n",
       "      <td>暂无数据</td>\n",
       "      <td>两梯八户</td>\n",
       "      <td>2016.07.29 成交</td>\n",
       "      <td>https://gz.lianjia.com/chengjiao/GZ0001886912....</td>\n",
       "      <td>113.417533,22.926889</td>\n",
       "    </tr>\n",
       "  </tbody>\n",
       "</table>\n",
       "<p>5 rows × 26 columns</p>\n",
       "</div>"
      ],
      "text/plain": [
       "  Architectural_Types Built_up_area Completion_date Cover_area Decoration  \\\n",
       "0                  塔楼           74㎡            2008       暂无数据         简装   \n",
       "1                  塔楼           75㎡            1996       暂无数据         其他   \n",
       "2                  塔楼        75.48㎡            1998       暂无数据         简装   \n",
       "3                  塔楼           73㎡            2005       暂无数据         精装   \n",
       "4                  塔楼           74㎡            2009       暂无数据         其他   \n",
       "\n",
       "  Equipped_with_elevators  Heating_mode House_orientation House_use  \\\n",
       "0                       有           NaN                东南      普通住宅   \n",
       "1                       有           NaN                西南      普通住宅   \n",
       "2                       有           NaN                东北      普通住宅   \n",
       "3                       有           NaN                 北      普通住宅   \n",
       "4                       有           NaN                 南      普通住宅   \n",
       "\n",
       "  Housing_type          ...               floor             headline  \\\n",
       "0     2室1厅0厨1卫          ...           低楼层(共31层)       恒荔湾畔 2室1厅 74平米   \n",
       "1     3室2厅0厨1卫          ...           低楼层(共25层)       惠城花园 3室2厅 75平米   \n",
       "2     2室1厅0厨1卫          ...           低楼层(共15层)    紫荆小区 2室1厅 75.48平米   \n",
       "3     2室1厅0厨1卫          ...           低楼层(共28层)  英豪花园阳光320 2室1厅 73平米   \n",
       "4     2室2厅0厨2卫          ...           低楼层(共24层)    东湖洲花园1区 2室2厅 74平米   \n",
       "\n",
       "        house_location house_price_perunit house_price_tenK  \\\n",
       "0        广州 荔湾 芳村 恒荔湾畔               30811              228   \n",
       "1        广州 荔湾 龙津 惠城花园               27067              203   \n",
       "2        广州 天河 林和 紫荆小区               34447              260   \n",
       "3   广州 海珠 南洲 英豪花园阳光320               24795              181   \n",
       "4  广州 番禺 番禺客运站 东湖洲花园1区               22703              168   \n",
       "\n",
       "  house_website_traffic household_ratio_perstair      sell_date  \\\n",
       "0                  暂无数据                     三梯八户  2016.07.02 成交   \n",
       "1                  暂无数据                    三梯十二户  2016.07.19 成交   \n",
       "2                     2                     两梯七户  2016.07.20 成交   \n",
       "3                  暂无数据                     三梯八户  2016.07.23 成交   \n",
       "4                  暂无数据                     两梯八户  2016.07.29 成交   \n",
       "\n",
       "                                                 url       location_coords  \n",
       "0  https://gz.lianjia.com/chengjiao/GZ0001663789....  113.232098,23.101540  \n",
       "1  https://gz.lianjia.com/chengjiao/GZ0001769406....  113.246404,23.122044  \n",
       "2  https://gz.lianjia.com/chengjiao/GZ0001813212....  113.327153,23.144408  \n",
       "3  https://gz.lianjia.com/chengjiao/GZ0001671458....  113.299113,23.068415  \n",
       "4  https://gz.lianjia.com/chengjiao/GZ0001886912....  113.417533,22.926889  \n",
       "\n",
       "[5 rows x 26 columns]"
      ]
     },
     "execution_count": 14,
     "metadata": {},
     "output_type": "execute_result"
    }
   ],
   "source": [
    "df.head()"
   ]
  },
  {
   "cell_type": "code",
   "execution_count": 15,
   "metadata": {},
   "outputs": [],
   "source": [
    "df.to_csv('广州二手房地址数据.csv', encoding = 'utf-8-sig',index = False)"
   ]
  },
  {
   "cell_type": "code",
   "execution_count": null,
   "metadata": {},
   "outputs": [],
   "source": []
  },
  {
   "cell_type": "code",
   "execution_count": null,
   "metadata": {},
   "outputs": [],
   "source": []
  },
  {
   "cell_type": "code",
   "execution_count": null,
   "metadata": {},
   "outputs": [],
   "source": []
  },
  {
   "cell_type": "code",
   "execution_count": null,
   "metadata": {},
   "outputs": [],
   "source": []
  },
  {
   "cell_type": "code",
   "execution_count": null,
   "metadata": {},
   "outputs": [],
   "source": []
  },
  {
   "cell_type": "code",
   "execution_count": null,
   "metadata": {},
   "outputs": [],
   "source": []
  }
 ],
 "metadata": {
  "kernelspec": {
   "display_name": "Python 3",
   "language": "python",
   "name": "python3"
  },
  "language_info": {
   "codemirror_mode": {
    "name": "ipython",
    "version": 3
   },
   "file_extension": ".py",
   "mimetype": "text/x-python",
   "name": "python",
   "nbconvert_exporter": "python",
   "pygments_lexer": "ipython3",
   "version": "3.6.4"
  }
 },
 "nbformat": 4,
 "nbformat_minor": 2
}
