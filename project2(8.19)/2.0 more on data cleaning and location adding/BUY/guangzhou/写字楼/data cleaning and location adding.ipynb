{
 "cells": [
  {
   "cell_type": "code",
   "execution_count": 1,
   "metadata": {},
   "outputs": [],
   "source": [
    "import pandas as pd\n",
    "import numpy as np\n",
    "import requests"
   ]
  },
  {
   "cell_type": "code",
   "execution_count": 2,
   "metadata": {},
   "outputs": [],
   "source": [
    "df = pd.read_csv('广州写字楼数据.csv')"
   ]
  },
  {
   "cell_type": "code",
   "execution_count": 3,
   "metadata": {},
   "outputs": [
    {
     "name": "stdout",
     "output_type": "stream",
     "text": [
      "one batch(250) processed\n"
     ]
    }
   ],
   "source": [
    "def replacestr(string):\n",
    "    string = str(string).replace('[','')\n",
    "    string = string.replace(']','')\n",
    "    string = string.replace(\"'\",'')\n",
    "    return string\n",
    "\n",
    "df['loupandizhi'] = df['loupandizhi'].apply(replacestr)\n",
    "\n",
    "list_location = df['loupandizhi'].value_counts().index.tolist()\n",
    "\n",
    "dict_location = {}\n",
    "Key = '6b95b84cab6100c0a6f52c62ece97e4b'\n",
    "My_key = 'f654d644aeae0e1da847d7ca408f4370'\n",
    "url_pre = 'https://restapi.amap.com/v3/geocode/geo?key={}&address={}&city={}'\n",
    "counter = 0\n",
    "for i in list_location:\n",
    "    location = i.split(\",\")[-1].strip()\n",
    "    url = url_pre.format(Key, location, '广州')\n",
    "    res = requests.get(url).json()\n",
    "    if res['status'] == '0':\n",
    "        dict_location[i] = np.nan\n",
    "        counter +=1\n",
    "    else:\n",
    "        try: \n",
    "            dict_location[i] = res['geocodes'][0]['location']\n",
    "            if counter % 250 == 0:\n",
    "                print('one batch(250) processed')\n",
    "        except:\n",
    "            dict_location[i] = np.nan\n",
    "            \n",
    "        counter +=1"
   ]
  },
  {
   "cell_type": "code",
   "execution_count": 4,
   "metadata": {},
   "outputs": [
    {
     "name": "stdout",
     "output_type": "stream",
     "text": [
      "A batch(50) is done\n",
      "A batch(50) is done\n",
      "A batch(50) is done\n",
      "A batch(50) is done\n"
     ]
    }
   ],
   "source": [
    "df['location_coords'] = np.nan\n",
    "\n",
    "counter = 0\n",
    "for i in list_location:\n",
    "    counter += 1\n",
    "    df_temp = df[df['loupandizhi'] == i]\n",
    "    df_temp_index = df_temp.index.tolist()\n",
    "    df.iloc[df_temp_index,14] = dict_location[i]\n",
    "    if counter %50 == 0:\n",
    "        print('A batch(50) is done')"
   ]
  },
  {
   "cell_type": "code",
   "execution_count": 5,
   "metadata": {},
   "outputs": [
    {
     "data": {
      "text/html": [
       "<div>\n",
       "<style scoped>\n",
       "    .dataframe tbody tr th:only-of-type {\n",
       "        vertical-align: middle;\n",
       "    }\n",
       "\n",
       "    .dataframe tbody tr th {\n",
       "        vertical-align: top;\n",
       "    }\n",
       "\n",
       "    .dataframe thead th {\n",
       "        text-align: right;\n",
       "    }\n",
       "</style>\n",
       "<table border=\"1\" class=\"dataframe\">\n",
       "  <thead>\n",
       "    <tr style=\"text-align: right;\">\n",
       "      <th></th>\n",
       "      <th>building_type</th>\n",
       "      <th>dengji</th>\n",
       "      <th>jianzhumianji</th>\n",
       "      <th>loupan_content</th>\n",
       "      <th>loupandizhi</th>\n",
       "      <th>price_perunit</th>\n",
       "      <th>release_date</th>\n",
       "      <th>service_price</th>\n",
       "      <th>suozailouceng</th>\n",
       "      <th>titile</th>\n",
       "      <th>total_price_10K</th>\n",
       "      <th>url</th>\n",
       "      <th>xzl_content</th>\n",
       "      <th>zhuangxiu</th>\n",
       "      <th>location_coords</th>\n",
       "    </tr>\n",
       "  </thead>\n",
       "  <tbody>\n",
       "    <tr>\n",
       "      <th>0</th>\n",
       "      <td>纯写字楼</td>\n",
       "      <td>甲级</td>\n",
       "      <td>118.24㎡</td>\n",
       "      <td>壬丰大厦，坐落在广州天河东路和天河路交界处，周边有学校、科研机构，银行、邮政、酒店等。</td>\n",
       "      <td>广州, 天河, 石牌桥, 壬丰大厦</td>\n",
       "      <td>(25000元/㎡)</td>\n",
       "      <td>2019/7/11 16:00:35</td>\n",
       "      <td>18.00元/平米·月</td>\n",
       "      <td>中区(共44层)</td>\n",
       "      <td>岗顶颐高数码楼上，壬丰大厦，118平方低价出售！！</td>\n",
       "      <td>296</td>\n",
       "      <td>https://gz.office.fang.com/shou/3_240443377.html</td>\n",
       "      <td>1) 楼 盘：壬丰大厦 2) 位 置：岗顶颐高数码楼上 3) 面 积： 118.24平方 7...</td>\n",
       "      <td>精装修(不可分割)</td>\n",
       "      <td>113.334937,23.132815</td>\n",
       "    </tr>\n",
       "    <tr>\n",
       "      <th>1</th>\n",
       "      <td>纯写字楼</td>\n",
       "      <td>甲级</td>\n",
       "      <td>110㎡</td>\n",
       "      <td>富邦中心公交地铁网络完善。\\r\\n\\r\\n富邦为住宅、写字楼、服务式公寓、商场集一体的综合项...</td>\n",
       "      <td>广州, 荔湾, 陈家祠, 富邦中心</td>\n",
       "      <td>(18000元/㎡)</td>\n",
       "      <td>2019/8/13 10:41:57</td>\n",
       "      <td>15.00元/平米·月</td>\n",
       "      <td>中区(共26层)</td>\n",
       "      <td>中山七路 富邦中心 两套小面积 打包出售总110方 单价一万八每平</td>\n",
       "      <td>198</td>\n",
       "      <td>https://gz.office.fang.com/shou/3_241382781.html</td>\n",
       "      <td>中山七路 富邦中心 两套小面积 打包出售总110方 单价一万八每平 两套单位面积分别是53 ...</td>\n",
       "      <td>简装修(不可分割)</td>\n",
       "      <td>113.253790,23.125174</td>\n",
       "    </tr>\n",
       "    <tr>\n",
       "      <th>2</th>\n",
       "      <td>毛坯(不可分割)</td>\n",
       "      <td>NaN</td>\n",
       "      <td>140㎡</td>\n",
       "      <td>富力盈通大厦项目位于珠江新城华夏路，地处中轴线区位,毗邻城市交通动脉黄埔大道，北邻体育西成熟...</td>\n",
       "      <td>广州, 天河, 珠江新城中, 富力盈通大厦</td>\n",
       "      <td>(37000元/㎡)</td>\n",
       "      <td>2019/8/20 11:56:51</td>\n",
       "      <td>NaN</td>\n",
       "      <td>中区(共45层)</td>\n",
       "      <td>珠江新城 富力盈通大厦 高大上 配套完善</td>\n",
       "      <td>518</td>\n",
       "      <td>https://gz.office.fang.com/shou/3_241578740.html</td>\n",
       "      <td>NaN</td>\n",
       "      <td>NaN</td>\n",
       "      <td>113.321956,23.126051</td>\n",
       "    </tr>\n",
       "  </tbody>\n",
       "</table>\n",
       "</div>"
      ],
      "text/plain": [
       "  building_type dengji jianzhumianji  \\\n",
       "0          纯写字楼     甲级       118.24㎡   \n",
       "1          纯写字楼     甲级          110㎡   \n",
       "2      毛坯(不可分割)    NaN          140㎡   \n",
       "\n",
       "                                      loupan_content            loupandizhi  \\\n",
       "0        壬丰大厦，坐落在广州天河东路和天河路交界处，周边有学校、科研机构，银行、邮政、酒店等。      广州, 天河, 石牌桥, 壬丰大厦   \n",
       "1  富邦中心公交地铁网络完善。\\r\\n\\r\\n富邦为住宅、写字楼、服务式公寓、商场集一体的综合项...      广州, 荔湾, 陈家祠, 富邦中心   \n",
       "2  富力盈通大厦项目位于珠江新城华夏路，地处中轴线区位,毗邻城市交通动脉黄埔大道，北邻体育西成熟...  广州, 天河, 珠江新城中, 富力盈通大厦   \n",
       "\n",
       "  price_perunit        release_date service_price suozailouceng  \\\n",
       "0    (25000元/㎡)  2019/7/11 16:00:35   18.00元/平米·月      中区(共44层)   \n",
       "1    (18000元/㎡)  2019/8/13 10:41:57   15.00元/平米·月      中区(共26层)   \n",
       "2    (37000元/㎡)  2019/8/20 11:56:51           NaN      中区(共45层)   \n",
       "\n",
       "                              titile  total_price_10K  \\\n",
       "0          岗顶颐高数码楼上，壬丰大厦，118平方低价出售！！              296   \n",
       "1  中山七路 富邦中心 两套小面积 打包出售总110方 单价一万八每平              198   \n",
       "2               珠江新城 富力盈通大厦 高大上 配套完善              518   \n",
       "\n",
       "                                                url  \\\n",
       "0  https://gz.office.fang.com/shou/3_240443377.html   \n",
       "1  https://gz.office.fang.com/shou/3_241382781.html   \n",
       "2  https://gz.office.fang.com/shou/3_241578740.html   \n",
       "\n",
       "                                         xzl_content  zhuangxiu  \\\n",
       "0  1) 楼 盘：壬丰大厦 2) 位 置：岗顶颐高数码楼上 3) 面 积： 118.24平方 7...  精装修(不可分割)   \n",
       "1  中山七路 富邦中心 两套小面积 打包出售总110方 单价一万八每平 两套单位面积分别是53 ...  简装修(不可分割)   \n",
       "2                                                NaN        NaN   \n",
       "\n",
       "        location_coords  \n",
       "0  113.334937,23.132815  \n",
       "1  113.253790,23.125174  \n",
       "2  113.321956,23.126051  "
      ]
     },
     "execution_count": 5,
     "metadata": {},
     "output_type": "execute_result"
    }
   ],
   "source": [
    "df.head(3)"
   ]
  },
  {
   "cell_type": "code",
   "execution_count": 10,
   "metadata": {},
   "outputs": [
    {
     "data": {
      "text/plain": [
       "(2818, 15)"
      ]
     },
     "execution_count": 10,
     "metadata": {},
     "output_type": "execute_result"
    }
   ],
   "source": [
    "df.shape"
   ]
  },
  {
   "cell_type": "code",
   "execution_count": 9,
   "metadata": {},
   "outputs": [],
   "source": [
    "df.to_csv('广州写字楼地址数据.csv', encoding = 'utf-8-sig',index = False)"
   ]
  },
  {
   "cell_type": "code",
   "execution_count": null,
   "metadata": {},
   "outputs": [],
   "source": []
  }
 ],
 "metadata": {
  "kernelspec": {
   "display_name": "Python 3",
   "language": "python",
   "name": "python3"
  },
  "language_info": {
   "codemirror_mode": {
    "name": "ipython",
    "version": 3
   },
   "file_extension": ".py",
   "mimetype": "text/x-python",
   "name": "python",
   "nbconvert_exporter": "python",
   "pygments_lexer": "ipython3",
   "version": "3.6.4"
  }
 },
 "nbformat": 4,
 "nbformat_minor": 2
}
