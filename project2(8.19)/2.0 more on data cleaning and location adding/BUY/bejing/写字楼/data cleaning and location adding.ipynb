{
 "cells": [
  {
   "cell_type": "code",
   "execution_count": 1,
   "metadata": {},
   "outputs": [],
   "source": [
    "import pandas as pd\n",
    "import numpy as np\n",
    "import requests"
   ]
  },
  {
   "cell_type": "code",
   "execution_count": 2,
   "metadata": {},
   "outputs": [],
   "source": [
    "df = pd.read_csv('北京写字楼数据.csv')"
   ]
  },
  {
   "cell_type": "code",
   "execution_count": 38,
   "metadata": {},
   "outputs": [
    {
     "name": "stdout",
     "output_type": "stream",
     "text": [
      "one batch(250) processed\n",
      "one batch(250) processed\n",
      "one batch(250) processed\n"
     ]
    }
   ],
   "source": [
    "def replacestr(string):\n",
    "    string = string.replace('[','')\n",
    "    string = string.replace(']','')\n",
    "    string = string.replace(\"'\",'')\n",
    "    return string\n",
    "\n",
    "df['loupandizhi'] = df['loupandizhi'].apply(replacestr)\n",
    "\n",
    "list_location = df['loupandizhi'].value_counts().index.tolist()\n",
    "\n",
    "dict_location = {}\n",
    "Key = '6b95b84cab6100c0a6f52c62ece97e4b'\n",
    "My_key = 'f654d644aeae0e1da847d7ca408f4370'\n",
    "url_pre = 'https://restapi.amap.com/v3/geocode/geo?key={}&address={}&city={}'\n",
    "counter = 0\n",
    "for i in list_location:\n",
    "    location = i.split(\",\")[-1].strip()\n",
    "    url = url_pre.format(Key, location, '北京')\n",
    "    res = requests.get(url).json()\n",
    "    if res['status'] == '0':\n",
    "        dict_location[i] = np.nan\n",
    "        counter +=1\n",
    "    else:\n",
    "        try: \n",
    "            dict_location[i] = res['geocodes'][0]['location']\n",
    "            if counter % 250 == 0:\n",
    "                print('one batch(250) processed')\n",
    "        except:\n",
    "            dict_location[i] = np.nan\n",
    "            \n",
    "        counter +=1"
   ]
  },
  {
   "cell_type": "code",
   "execution_count": 47,
   "metadata": {},
   "outputs": [
    {
     "name": "stdout",
     "output_type": "stream",
     "text": [
      "A batch(50) is done\n",
      "A batch(50) is done\n",
      "A batch(50) is done\n",
      "A batch(50) is done\n",
      "A batch(50) is done\n",
      "A batch(50) is done\n",
      "A batch(50) is done\n",
      "A batch(50) is done\n",
      "A batch(50) is done\n",
      "A batch(50) is done\n",
      "A batch(50) is done\n"
     ]
    }
   ],
   "source": [
    "df['location_coords'] = np.nan\n",
    "\n",
    "counter = 0\n",
    "for i in list_location:\n",
    "    counter += 1\n",
    "    df_temp = df[df['loupandizhi'] == i]\n",
    "    df_temp_index = df_temp.index.tolist()\n",
    "    df.iloc[df_temp_index,14] = dict_location[i]\n",
    "    if counter %50 == 0:\n",
    "        print('A batch(50) is done')"
   ]
  },
  {
   "cell_type": "code",
   "execution_count": 48,
   "metadata": {},
   "outputs": [
    {
     "data": {
      "text/html": [
       "<div>\n",
       "<style scoped>\n",
       "    .dataframe tbody tr th:only-of-type {\n",
       "        vertical-align: middle;\n",
       "    }\n",
       "\n",
       "    .dataframe tbody tr th {\n",
       "        vertical-align: top;\n",
       "    }\n",
       "\n",
       "    .dataframe thead th {\n",
       "        text-align: right;\n",
       "    }\n",
       "</style>\n",
       "<table border=\"1\" class=\"dataframe\">\n",
       "  <thead>\n",
       "    <tr style=\"text-align: right;\">\n",
       "      <th></th>\n",
       "      <th>building_type</th>\n",
       "      <th>dengji</th>\n",
       "      <th>jianzhumianji</th>\n",
       "      <th>loupan_content</th>\n",
       "      <th>loupandizhi</th>\n",
       "      <th>price_perunit</th>\n",
       "      <th>release_date</th>\n",
       "      <th>service_price</th>\n",
       "      <th>suozailouceng</th>\n",
       "      <th>titile</th>\n",
       "      <th>total_price_10K</th>\n",
       "      <th>url</th>\n",
       "      <th>xzl_content</th>\n",
       "      <th>zhuangxiu</th>\n",
       "      <th>location_coords</th>\n",
       "    </tr>\n",
       "  </thead>\n",
       "  <tbody>\n",
       "    <tr>\n",
       "      <th>0</th>\n",
       "      <td>纯写字楼</td>\n",
       "      <td>甲级</td>\n",
       "      <td>10000㎡</td>\n",
       "      <td>枢密院位于亦庄经济技术开发区路东区嘉创路10号，占据中关村科技园（通州园）——光机电一体化产...</td>\n",
       "      <td>北京, 通州, 通州, 枢密院</td>\n",
       "      <td>(20000元/㎡)</td>\n",
       "      <td>2019/9/2 8:57:57</td>\n",
       "      <td>20.00元/平米·月</td>\n",
       "      <td>高区(共10层)</td>\n",
       "      <td>东五环独栋、楼体积木设计、广告传媒企业总部！企业选址佳选</td>\n",
       "      <td>20000</td>\n",
       "      <td>https://office.fang.com/shou/3_438205507.html</td>\n",
       "      <td>【总体面积】：10000平米【单层面积】：1000平【项目价格】：20000元/平【项目高度...</td>\n",
       "      <td>精装修(可分割)</td>\n",
       "      <td>116.545006,39.820213</td>\n",
       "    </tr>\n",
       "    <tr>\n",
       "      <th>1</th>\n",
       "      <td>纯写字楼</td>\n",
       "      <td>甲级</td>\n",
       "      <td>7000㎡</td>\n",
       "      <td>建外SOHO位于长安街上，国贸中心正对面，是北京的商业心脏。 建外SOHO总占地面积为12....</td>\n",
       "      <td>北京, 朝阳, CBD, 建外SOHO</td>\n",
       "      <td>(40000元/㎡)</td>\n",
       "      <td>2019/8/12 11:06:41</td>\n",
       "      <td>25.00元/平米·月</td>\n",
       "      <td>高区(共32层)</td>\n",
       "      <td>国贸独栋写字楼 赠送800平户外体育场所 双地铁临街超棒广告效应</td>\n",
       "      <td>28000</td>\n",
       "      <td>https://office.fang.com/shou/3_437260524.html</td>\n",
       "      <td>面 积: 7000平单 价: 4万/平总 价: 2.8亿交通方便：地鉄10号金台夕照站出大堂...</td>\n",
       "      <td>精装修(不可分割)</td>\n",
       "      <td>116.458705,39.906458</td>\n",
       "    </tr>\n",
       "    <tr>\n",
       "      <th>2</th>\n",
       "      <td>精装修(不可分割)</td>\n",
       "      <td>NaN</td>\n",
       "      <td>58400㎡</td>\n",
       "      <td>远洋自然新天地是远洋地产在北京城南开发的高档商务建筑集群，发展商是北京银帆基业房地产开发有限...</td>\n",
       "      <td>北京, 丰台, 马家堡, 远洋自然新天地</td>\n",
       "      <td>(30000元/㎡)</td>\n",
       "      <td>2019/8/14 15:19:32</td>\n",
       "      <td>NaN</td>\n",
       "      <td>\\r\\n</td>\n",
       "      <td>（真房实价）南三环整栋（地上11层地下3层）商业综合立项58400㎡</td>\n",
       "      <td>175200</td>\n",
       "      <td>https://office.fang.com/shou/3_437369484.html</td>\n",
       "      <td>坐标；南三环地上11层地下3层大毛坯独栋整售18亿（单价折合3万/平米）目前有的1:土地适用...</td>\n",
       "      <td>NaN</td>\n",
       "      <td>116.390175,39.840917</td>\n",
       "    </tr>\n",
       "    <tr>\n",
       "      <th>3</th>\n",
       "      <td>纯写字楼</td>\n",
       "      <td>NaN</td>\n",
       "      <td>32900㎡</td>\n",
       "      <td>博瑞大厦位于北京市朝阳区，基地沿东三环外环长向布置，大厦东南紧临团结湖公园，北侧为姚家园路，...</td>\n",
       "      <td>北京, 朝阳, 团结湖, 博瑞大厦</td>\n",
       "      <td>(8441.34元/㎡)</td>\n",
       "      <td>2019/9/4 10:37:34</td>\n",
       "      <td>NaN</td>\n",
       "      <td>低区(共23层)</td>\n",
       "      <td>国贸 独栋写字楼44000平米出售 诚意出售</td>\n",
       "      <td>27772</td>\n",
       "      <td>https://office.fang.com/shou/3_438294661.html</td>\n",
       "      <td>卷首语感谢阁下利用珍贵的时间亲阅，我们诚挚希望此信息有助于阁下对本项目有一个清晰的感知。阅毕...</td>\n",
       "      <td>毛坯(不可分割)</td>\n",
       "      <td>116.462476,39.928154</td>\n",
       "    </tr>\n",
       "    <tr>\n",
       "      <th>4</th>\n",
       "      <td>纯写字楼</td>\n",
       "      <td>NaN</td>\n",
       "      <td>32900㎡</td>\n",
       "      <td>博瑞大厦位于北京市朝阳区，基地沿东三环外环长向布置，大厦东南紧临团结湖公园，北侧为姚家园路，...</td>\n",
       "      <td>北京, 朝阳, 团结湖, 博瑞大厦</td>\n",
       "      <td>(8441.34元/㎡)</td>\n",
       "      <td>2019/9/4 10:45:43</td>\n",
       "      <td>NaN</td>\n",
       "      <td>低区(共23层)</td>\n",
       "      <td>国贸 独栋写字楼44000平米出售 诚意出售</td>\n",
       "      <td>27772</td>\n",
       "      <td>https://office.fang.com/shou/3_438295557.html</td>\n",
       "      <td>卷首语感谢阁下利用珍贵的时间亲阅，我们诚挚希望此信息有助于阁下对本项目有一个清晰的感知。阅毕...</td>\n",
       "      <td>毛坯(不可分割)</td>\n",
       "      <td>116.462476,39.928154</td>\n",
       "    </tr>\n",
       "  </tbody>\n",
       "</table>\n",
       "</div>"
      ],
      "text/plain": [
       "  building_type dengji jianzhumianji  \\\n",
       "0          纯写字楼     甲级        10000㎡   \n",
       "1          纯写字楼     甲级         7000㎡   \n",
       "2     精装修(不可分割)    NaN        58400㎡   \n",
       "3          纯写字楼    NaN        32900㎡   \n",
       "4          纯写字楼    NaN        32900㎡   \n",
       "\n",
       "                                      loupan_content           loupandizhi  \\\n",
       "0  枢密院位于亦庄经济技术开发区路东区嘉创路10号，占据中关村科技园（通州园）——光机电一体化产...       北京, 通州, 通州, 枢密院   \n",
       "1  建外SOHO位于长安街上，国贸中心正对面，是北京的商业心脏。 建外SOHO总占地面积为12....   北京, 朝阳, CBD, 建外SOHO   \n",
       "2  远洋自然新天地是远洋地产在北京城南开发的高档商务建筑集群，发展商是北京银帆基业房地产开发有限...  北京, 丰台, 马家堡, 远洋自然新天地   \n",
       "3  博瑞大厦位于北京市朝阳区，基地沿东三环外环长向布置，大厦东南紧临团结湖公园，北侧为姚家园路，...     北京, 朝阳, 团结湖, 博瑞大厦   \n",
       "4  博瑞大厦位于北京市朝阳区，基地沿东三环外环长向布置，大厦东南紧临团结湖公园，北侧为姚家园路，...     北京, 朝阳, 团结湖, 博瑞大厦   \n",
       "\n",
       "  price_perunit        release_date service_price     suozailouceng  \\\n",
       "0    (20000元/㎡)    2019/9/2 8:57:57   20.00元/平米·月          高区(共10层)   \n",
       "1    (40000元/㎡)  2019/8/12 11:06:41   25.00元/平米·月          高区(共32层)   \n",
       "2    (30000元/㎡)  2019/8/14 15:19:32           NaN  \\r\\n               \n",
       "3  (8441.34元/㎡)   2019/9/4 10:37:34           NaN          低区(共23层)   \n",
       "4  (8441.34元/㎡)   2019/9/4 10:45:43           NaN          低区(共23层)   \n",
       "\n",
       "                               titile total_price_10K  \\\n",
       "0        东五环独栋、楼体积木设计、广告传媒企业总部！企业选址佳选           20000   \n",
       "1    国贸独栋写字楼 赠送800平户外体育场所 双地铁临街超棒广告效应           28000   \n",
       "2  （真房实价）南三环整栋（地上11层地下3层）商业综合立项58400㎡          175200   \n",
       "3              国贸 独栋写字楼44000平米出售 诚意出售           27772   \n",
       "4              国贸 独栋写字楼44000平米出售 诚意出售           27772   \n",
       "\n",
       "                                             url  \\\n",
       "0  https://office.fang.com/shou/3_438205507.html   \n",
       "1  https://office.fang.com/shou/3_437260524.html   \n",
       "2  https://office.fang.com/shou/3_437369484.html   \n",
       "3  https://office.fang.com/shou/3_438294661.html   \n",
       "4  https://office.fang.com/shou/3_438295557.html   \n",
       "\n",
       "                                         xzl_content  zhuangxiu  \\\n",
       "0  【总体面积】：10000平米【单层面积】：1000平【项目价格】：20000元/平【项目高度...   精装修(可分割)   \n",
       "1  面 积: 7000平单 价: 4万/平总 价: 2.8亿交通方便：地鉄10号金台夕照站出大堂...  精装修(不可分割)   \n",
       "2  坐标；南三环地上11层地下3层大毛坯独栋整售18亿（单价折合3万/平米）目前有的1:土地适用...        NaN   \n",
       "3  卷首语感谢阁下利用珍贵的时间亲阅，我们诚挚希望此信息有助于阁下对本项目有一个清晰的感知。阅毕...   毛坯(不可分割)   \n",
       "4  卷首语感谢阁下利用珍贵的时间亲阅，我们诚挚希望此信息有助于阁下对本项目有一个清晰的感知。阅毕...   毛坯(不可分割)   \n",
       "\n",
       "        location_coords  \n",
       "0  116.545006,39.820213  \n",
       "1  116.458705,39.906458  \n",
       "2  116.390175,39.840917  \n",
       "3  116.462476,39.928154  \n",
       "4  116.462476,39.928154  "
      ]
     },
     "execution_count": 48,
     "metadata": {},
     "output_type": "execute_result"
    }
   ],
   "source": [
    "df.head()"
   ]
  },
  {
   "cell_type": "code",
   "execution_count": 49,
   "metadata": {},
   "outputs": [
    {
     "data": {
      "text/plain": [
       "(8447, 15)"
      ]
     },
     "execution_count": 49,
     "metadata": {},
     "output_type": "execute_result"
    }
   ],
   "source": [
    "df.shape"
   ]
  },
  {
   "cell_type": "code",
   "execution_count": 50,
   "metadata": {},
   "outputs": [],
   "source": [
    "df.to_csv('北京写字楼地址数据.csv', encoding = 'utf-8-sig',index = False)"
   ]
  },
  {
   "cell_type": "code",
   "execution_count": null,
   "metadata": {},
   "outputs": [],
   "source": []
  }
 ],
 "metadata": {
  "kernelspec": {
   "display_name": "Python 3",
   "language": "python",
   "name": "python3"
  },
  "language_info": {
   "codemirror_mode": {
    "name": "ipython",
    "version": 3
   },
   "file_extension": ".py",
   "mimetype": "text/x-python",
   "name": "python",
   "nbconvert_exporter": "python",
   "pygments_lexer": "ipython3",
   "version": "3.6.4"
  }
 },
 "nbformat": 4,
 "nbformat_minor": 2
}
