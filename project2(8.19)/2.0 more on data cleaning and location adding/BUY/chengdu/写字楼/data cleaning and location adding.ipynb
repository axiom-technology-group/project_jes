{
 "cells": [
  {
   "cell_type": "code",
   "execution_count": 1,
   "metadata": {},
   "outputs": [],
   "source": [
    "import pandas as pd\n",
    "import numpy as np\n",
    "import requests"
   ]
  },
  {
   "cell_type": "code",
   "execution_count": 2,
   "metadata": {},
   "outputs": [],
   "source": [
    "df = pd.read_csv('成都写字楼数据.csv')"
   ]
  },
  {
   "cell_type": "code",
   "execution_count": 6,
   "metadata": {},
   "outputs": [
    {
     "name": "stdout",
     "output_type": "stream",
     "text": [
      "one batch(250) processed\n",
      "one batch(250) processed\n"
     ]
    }
   ],
   "source": [
    "def replacestr(string):\n",
    "    string = str(string).replace('[','')\n",
    "    string = string.replace(']','')\n",
    "    string = string.replace(\"'\",'')\n",
    "    return string\n",
    "\n",
    "df['loupandizhi'] = df['loupandizhi'].apply(replacestr)\n",
    "\n",
    "list_location = df['loupandizhi'].value_counts().index.tolist()\n",
    "\n",
    "dict_location = {}\n",
    "Key = '6b95b84cab6100c0a6f52c62ece97e4b'\n",
    "My_key = 'f654d644aeae0e1da847d7ca408f4370'\n",
    "url_pre = 'https://restapi.amap.com/v3/geocode/geo?key={}&address={}&city={}'\n",
    "counter = 0\n",
    "for i in list_location:\n",
    "    location = i.split(\",\")[-1].strip()\n",
    "    url = url_pre.format(Key, location, '成都')\n",
    "    res = requests.get(url).json()\n",
    "    if res['status'] == '0':\n",
    "        dict_location[i] = np.nan\n",
    "        counter +=1\n",
    "    else:\n",
    "        try: \n",
    "            dict_location[i] = res['geocodes'][0]['location']\n",
    "            if counter % 250 == 0:\n",
    "                print('one batch(250) processed')\n",
    "        except:\n",
    "            dict_location[i] = np.nan\n",
    "            \n",
    "        counter +=1"
   ]
  },
  {
   "cell_type": "code",
   "execution_count": 7,
   "metadata": {},
   "outputs": [
    {
     "name": "stdout",
     "output_type": "stream",
     "text": [
      "A batch(50) is done\n",
      "A batch(50) is done\n",
      "A batch(50) is done\n",
      "A batch(50) is done\n",
      "A batch(50) is done\n"
     ]
    }
   ],
   "source": [
    "df['location_coords'] = np.nan\n",
    "\n",
    "counter = 0\n",
    "for i in list_location:\n",
    "    counter += 1\n",
    "    df_temp = df[df['loupandizhi'] == i]\n",
    "    df_temp_index = df_temp.index.tolist()\n",
    "    df.iloc[df_temp_index,14] = dict_location[i]\n",
    "    if counter %50 == 0:\n",
    "        print('A batch(50) is done')"
   ]
  },
  {
   "cell_type": "code",
   "execution_count": 8,
   "metadata": {},
   "outputs": [
    {
     "data": {
      "text/html": [
       "<div>\n",
       "<style scoped>\n",
       "    .dataframe tbody tr th:only-of-type {\n",
       "        vertical-align: middle;\n",
       "    }\n",
       "\n",
       "    .dataframe tbody tr th {\n",
       "        vertical-align: top;\n",
       "    }\n",
       "\n",
       "    .dataframe thead th {\n",
       "        text-align: right;\n",
       "    }\n",
       "</style>\n",
       "<table border=\"1\" class=\"dataframe\">\n",
       "  <thead>\n",
       "    <tr style=\"text-align: right;\">\n",
       "      <th></th>\n",
       "      <th>building_type</th>\n",
       "      <th>dengji</th>\n",
       "      <th>jianzhumianji</th>\n",
       "      <th>loupan_content</th>\n",
       "      <th>loupandizhi</th>\n",
       "      <th>price_perunit</th>\n",
       "      <th>release_date</th>\n",
       "      <th>service_price</th>\n",
       "      <th>suozailouceng</th>\n",
       "      <th>titile</th>\n",
       "      <th>total_price_10K</th>\n",
       "      <th>url</th>\n",
       "      <th>xzl_content</th>\n",
       "      <th>zhuangxiu</th>\n",
       "      <th>location_coords</th>\n",
       "    </tr>\n",
       "  </thead>\n",
       "  <tbody>\n",
       "    <tr>\n",
       "      <th>0</th>\n",
       "      <td>毛坯(可分割)</td>\n",
       "      <td>甲级</td>\n",
       "      <td>1560㎡</td>\n",
       "      <td>项目总占地约48亩，总建筑面积16万方，由大型综合性商业卖场、甲级写字楼、SOHO公寓、酒店...</td>\n",
       "      <td>成都, 成华, 成渝立交, 中国铁建广场</td>\n",
       "      <td>(12500元/㎡)</td>\n",
       "      <td>2019/8/5 10:37:18</td>\n",
       "      <td>6.00元/平米·月</td>\n",
       "      <td>高区(共30层)</td>\n",
       "      <td>中国铁建广场 东2.5环 双地铁站 央企打造 产权清晰 可按揭</td>\n",
       "      <td>1950</td>\n",
       "      <td>https://cd.office.fang.com/shou/3_206435594.html</td>\n",
       "      <td>NaN</td>\n",
       "      <td>NaN</td>\n",
       "      <td>104.142387,30.679966</td>\n",
       "    </tr>\n",
       "    <tr>\n",
       "      <th>1</th>\n",
       "      <td>纯写字楼</td>\n",
       "      <td>NaN</td>\n",
       "      <td>919.9㎡</td>\n",
       "      <td>国航世纪中心雄踞人南核心，磅礴大气尽显国际重磅企业身份，中心地位！ \\r\\n该项目是由中国航...</td>\n",
       "      <td>成都, 武侯, 桐梓林, 国航世纪中心</td>\n",
       "      <td>(80元/㎡)</td>\n",
       "      <td>2019/9/5 21:11:34</td>\n",
       "      <td>NaN</td>\n",
       "      <td>\\r\\n</td>\n",
       "      <td>地铁口物业 桐梓林 精装带全套家具 国航世纪中心</td>\n",
       "      <td>7</td>\n",
       "      <td>https://cd.office.fang.com/shou/3_208846821.html</td>\n",
       "      <td>=房屋简介=    【国航世纪中心】1、房屋面积：919.9㎡2、租金单价： 80元/㎡/月...</td>\n",
       "      <td>精装修(可分割)</td>\n",
       "      <td>104.068047,30.616817</td>\n",
       "    </tr>\n",
       "    <tr>\n",
       "      <th>2</th>\n",
       "      <td>商业综合体楼</td>\n",
       "      <td>甲级</td>\n",
       "      <td>1100㎡</td>\n",
       "      <td>项目总占地面积466667.05㎡总建筑面积约176万㎡（其中新世纪环球中心约150万㎡ 当...</td>\n",
       "      <td>成都, 高新区, 新会展, 新世纪环球中心</td>\n",
       "      <td>(12000元/㎡)</td>\n",
       "      <td>2019/8/15 18:04:28</td>\n",
       "      <td>19.00元/平米·月</td>\n",
       "      <td>中区(共21层)</td>\n",
       "      <td>1100㎡环球中心 豪装带家具1100平有产权</td>\n",
       "      <td>1320</td>\n",
       "      <td>https://cd.office.fang.com/shou/3_208600117.html</td>\n",
       "      <td>· 您花大量时间在网上到处看房，您要是信得过我小罗（罗杨），就直接给我来个电话，告诉我您的需...</td>\n",
       "      <td>精装修(可分割)</td>\n",
       "      <td>104.063392,30.568751</td>\n",
       "    </tr>\n",
       "  </tbody>\n",
       "</table>\n",
       "</div>"
      ],
      "text/plain": [
       "  building_type dengji jianzhumianji  \\\n",
       "0       毛坯(可分割)     甲级         1560㎡   \n",
       "1          纯写字楼    NaN        919.9㎡   \n",
       "2        商业综合体楼     甲级         1100㎡   \n",
       "\n",
       "                                      loupan_content            loupandizhi  \\\n",
       "0  项目总占地约48亩，总建筑面积16万方，由大型综合性商业卖场、甲级写字楼、SOHO公寓、酒店...   成都, 成华, 成渝立交, 中国铁建广场   \n",
       "1  国航世纪中心雄踞人南核心，磅礴大气尽显国际重磅企业身份，中心地位！ \\r\\n该项目是由中国航...    成都, 武侯, 桐梓林, 国航世纪中心   \n",
       "2  项目总占地面积466667.05㎡总建筑面积约176万㎡（其中新世纪环球中心约150万㎡ 当...  成都, 高新区, 新会展, 新世纪环球中心   \n",
       "\n",
       "  price_perunit        release_date service_price     suozailouceng  \\\n",
       "0    (12500元/㎡)   2019/8/5 10:37:18    6.00元/平米·月          高区(共30层)   \n",
       "1       (80元/㎡)   2019/9/5 21:11:34           NaN  \\r\\n               \n",
       "2    (12000元/㎡)  2019/8/15 18:04:28   19.00元/平米·月          中区(共21层)   \n",
       "\n",
       "                            titile total_price_10K  \\\n",
       "0  中国铁建广场 东2.5环 双地铁站 央企打造 产权清晰 可按揭            1950   \n",
       "1         地铁口物业 桐梓林 精装带全套家具 国航世纪中心               7   \n",
       "2          1100㎡环球中心 豪装带家具1100平有产权            1320   \n",
       "\n",
       "                                                url  \\\n",
       "0  https://cd.office.fang.com/shou/3_206435594.html   \n",
       "1  https://cd.office.fang.com/shou/3_208846821.html   \n",
       "2  https://cd.office.fang.com/shou/3_208600117.html   \n",
       "\n",
       "                                         xzl_content zhuangxiu  \\\n",
       "0                                                NaN       NaN   \n",
       "1  =房屋简介=    【国航世纪中心】1、房屋面积：919.9㎡2、租金单价： 80元/㎡/月...  精装修(可分割)   \n",
       "2  · 您花大量时间在网上到处看房，您要是信得过我小罗（罗杨），就直接给我来个电话，告诉我您的需...  精装修(可分割)   \n",
       "\n",
       "        location_coords  \n",
       "0  104.142387,30.679966  \n",
       "1  104.068047,30.616817  \n",
       "2  104.063392,30.568751  "
      ]
     },
     "execution_count": 8,
     "metadata": {},
     "output_type": "execute_result"
    }
   ],
   "source": [
    "df.head(3)"
   ]
  },
  {
   "cell_type": "code",
   "execution_count": 12,
   "metadata": {},
   "outputs": [
    {
     "data": {
      "text/plain": [
       "(3929, 15)"
      ]
     },
     "execution_count": 12,
     "metadata": {},
     "output_type": "execute_result"
    }
   ],
   "source": [
    "df.shape"
   ]
  },
  {
   "cell_type": "code",
   "execution_count": 11,
   "metadata": {},
   "outputs": [],
   "source": [
    "df.to_csv('成都写字楼地址数据.csv', encoding = 'utf-8-sig',index = False)"
   ]
  },
  {
   "cell_type": "code",
   "execution_count": null,
   "metadata": {},
   "outputs": [],
   "source": []
  }
 ],
 "metadata": {
  "kernelspec": {
   "display_name": "Python 3",
   "language": "python",
   "name": "python3"
  },
  "language_info": {
   "codemirror_mode": {
    "name": "ipython",
    "version": 3
   },
   "file_extension": ".py",
   "mimetype": "text/x-python",
   "name": "python",
   "nbconvert_exporter": "python",
   "pygments_lexer": "ipython3",
   "version": "3.6.4"
  }
 },
 "nbformat": 4,
 "nbformat_minor": 2
}
