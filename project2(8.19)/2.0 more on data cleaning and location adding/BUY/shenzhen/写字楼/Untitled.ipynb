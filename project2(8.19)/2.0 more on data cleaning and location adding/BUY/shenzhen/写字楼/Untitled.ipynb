{
 "cells": [
  {
   "cell_type": "code",
   "execution_count": 1,
   "metadata": {},
   "outputs": [],
   "source": [
    "import pandas as pd\n",
    "import numpy as np\n",
    "import requests"
   ]
  },
  {
   "cell_type": "code",
   "execution_count": 2,
   "metadata": {},
   "outputs": [],
   "source": [
    "df = pd.read_csv('深圳写字楼数据.csv')"
   ]
  },
  {
   "cell_type": "code",
   "execution_count": 3,
   "metadata": {},
   "outputs": [
    {
     "name": "stdout",
     "output_type": "stream",
     "text": [
      "one batch(250) processed\n",
      "one batch(250) processed\n"
     ]
    }
   ],
   "source": [
    "def replacestr(string):\n",
    "    string = str(string).replace('[','')\n",
    "    string = string.replace(']','')\n",
    "    string = string.replace(\"'\",'')\n",
    "    return string\n",
    "\n",
    "df['loupandizhi'] = df['loupandizhi'].apply(replacestr)\n",
    "\n",
    "list_location = df['loupandizhi'].value_counts().index.tolist()\n",
    "\n",
    "dict_location = {}\n",
    "Key = '6b95b84cab6100c0a6f52c62ece97e4b'\n",
    "My_key = 'f654d644aeae0e1da847d7ca408f4370'\n",
    "url_pre = 'https://restapi.amap.com/v3/geocode/geo?key={}&address={}&city={}'\n",
    "counter = 0\n",
    "for i in list_location:\n",
    "    location = i.split(\",\")[-1].strip()\n",
    "    url = url_pre.format(Key, location, '深圳')\n",
    "    res = requests.get(url).json()\n",
    "    if res['status'] == '0':\n",
    "        dict_location[i] = np.nan\n",
    "        counter +=1\n",
    "    else:\n",
    "        try: \n",
    "            dict_location[i] = res['geocodes'][0]['location']\n",
    "            if counter % 250 == 0:\n",
    "                print('one batch(250) processed')\n",
    "        except:\n",
    "            dict_location[i] = np.nan\n",
    "            \n",
    "        counter +=1"
   ]
  },
  {
   "cell_type": "code",
   "execution_count": 4,
   "metadata": {},
   "outputs": [
    {
     "name": "stdout",
     "output_type": "stream",
     "text": [
      "A batch(50) is done\n",
      "A batch(50) is done\n",
      "A batch(50) is done\n",
      "A batch(50) is done\n",
      "A batch(50) is done\n",
      "A batch(50) is done\n",
      "A batch(50) is done\n"
     ]
    }
   ],
   "source": [
    "df['location_coords'] = np.nan\n",
    "\n",
    "counter = 0\n",
    "for i in list_location:\n",
    "    counter += 1\n",
    "    df_temp = df[df['loupandizhi'] == i]\n",
    "    df_temp_index = df_temp.index.tolist()\n",
    "    df.iloc[df_temp_index,14] = dict_location[i]\n",
    "    if counter %50 == 0:\n",
    "        print('A batch(50) is done')"
   ]
  },
  {
   "cell_type": "code",
   "execution_count": 5,
   "metadata": {},
   "outputs": [
    {
     "data": {
      "text/html": [
       "<div>\n",
       "<style scoped>\n",
       "    .dataframe tbody tr th:only-of-type {\n",
       "        vertical-align: middle;\n",
       "    }\n",
       "\n",
       "    .dataframe tbody tr th {\n",
       "        vertical-align: top;\n",
       "    }\n",
       "\n",
       "    .dataframe thead th {\n",
       "        text-align: right;\n",
       "    }\n",
       "</style>\n",
       "<table border=\"1\" class=\"dataframe\">\n",
       "  <thead>\n",
       "    <tr style=\"text-align: right;\">\n",
       "      <th></th>\n",
       "      <th>building_type</th>\n",
       "      <th>dengji</th>\n",
       "      <th>jianzhumianji</th>\n",
       "      <th>loupan_content</th>\n",
       "      <th>loupandizhi</th>\n",
       "      <th>price_perunit</th>\n",
       "      <th>release_date</th>\n",
       "      <th>service_price</th>\n",
       "      <th>suozailouceng</th>\n",
       "      <th>titile</th>\n",
       "      <th>total_price_10K</th>\n",
       "      <th>url</th>\n",
       "      <th>xzl_content</th>\n",
       "      <th>zhuangxiu</th>\n",
       "      <th>location_coords</th>\n",
       "    </tr>\n",
       "  </thead>\n",
       "  <tbody>\n",
       "    <tr>\n",
       "      <th>0</th>\n",
       "      <td>纯写字楼</td>\n",
       "      <td>甲级</td>\n",
       "      <td>2200㎡</td>\n",
       "      <td>NaN</td>\n",
       "      <td>深圳, 罗湖, 布心, IBC环球商务中心</td>\n",
       "      <td>(20.45元/㎡)</td>\n",
       "      <td>2019/9/6 12:33:52</td>\n",
       "      <td>23.00元/平米·月</td>\n",
       "      <td>中区(共35层)</td>\n",
       "      <td>罗湖 环球商务中心 一手开发商275–1800平 户型方正实用珠宝齐聚</td>\n",
       "      <td>4</td>\n",
       "      <td>https://sz.office.fang.com/shou/3_221494519.html</td>\n",
       "      <td>房源亮点【可售楼层】高层仅此一层内部放售！现楼！超钾级！【可选面积】整层等多种面积可选【项目...</td>\n",
       "      <td>简装修(可分割)</td>\n",
       "      <td>114.124864,22.574536</td>\n",
       "    </tr>\n",
       "    <tr>\n",
       "      <th>1</th>\n",
       "      <td>纯写字楼</td>\n",
       "      <td>甲级</td>\n",
       "      <td>2032㎡</td>\n",
       "      <td>深圳荣超经贸中心位于深圳中心商务区（C B D ）北区，毗邻深圳市民中心，总高度达200m ...</td>\n",
       "      <td>深圳, 福田, 福田中心区, 荣超经贸中心</td>\n",
       "      <td>(56000元/㎡)</td>\n",
       "      <td>2019/9/6 11:55:06</td>\n",
       "      <td>16.00元/平米·月</td>\n",
       "      <td>中区(共48层)</td>\n",
       "      <td>福田中心区，市民中心旁地标物业，整层单位，精装出售，各付各税</td>\n",
       "      <td>11379</td>\n",
       "      <td>https://sz.office.fang.com/shou/3_221492499.html</td>\n",
       "      <td>物业地址：深圳市福田区金田路与福中路交界东南物业管理：深圳市荣超物业有限公司开发 商：深圳市...</td>\n",
       "      <td>精装修(可分割)</td>\n",
       "      <td>114.063658,22.544042</td>\n",
       "    </tr>\n",
       "    <tr>\n",
       "      <th>2</th>\n",
       "      <td>纯写字楼</td>\n",
       "      <td>甲级</td>\n",
       "      <td>2000㎡</td>\n",
       "      <td>万科大厦高约155米，是龙岗核心地段的商务写字楼。“天际office”为万科大厦特别推出的3...</td>\n",
       "      <td>深圳, 龙岗, 龙岗中心城, 万科大厦</td>\n",
       "      <td>(36000元/㎡)</td>\n",
       "      <td>2019/9/8 13:46:35</td>\n",
       "      <td>14.24元/平米·月</td>\n",
       "      <td>低区(共32层)</td>\n",
       "      <td>龙岗中心城 万科大厦 整层打包出售 带豪装 租20万/月</td>\n",
       "      <td>7200</td>\n",
       "      <td>https://sz.office.fang.com/shou/3_221558546.html</td>\n",
       "      <td>万科大厦高约155米，是龙岗的高度，是龙岗的商务地标。“天际office”是万科大厦推出的3...</td>\n",
       "      <td>精装修(不可分割)</td>\n",
       "      <td>114.242657,22.713481</td>\n",
       "    </tr>\n",
       "  </tbody>\n",
       "</table>\n",
       "</div>"
      ],
      "text/plain": [
       "  building_type dengji jianzhumianji  \\\n",
       "0          纯写字楼     甲级         2200㎡   \n",
       "1          纯写字楼     甲级         2032㎡   \n",
       "2          纯写字楼     甲级         2000㎡   \n",
       "\n",
       "                                      loupan_content            loupandizhi  \\\n",
       "0                                                NaN  深圳, 罗湖, 布心, IBC环球商务中心   \n",
       "1  深圳荣超经贸中心位于深圳中心商务区（C B D ）北区，毗邻深圳市民中心，总高度达200m ...  深圳, 福田, 福田中心区, 荣超经贸中心   \n",
       "2  万科大厦高约155米，是龙岗核心地段的商务写字楼。“天际office”为万科大厦特别推出的3...    深圳, 龙岗, 龙岗中心城, 万科大厦   \n",
       "\n",
       "  price_perunit       release_date service_price suozailouceng  \\\n",
       "0    (20.45元/㎡)  2019/9/6 12:33:52   23.00元/平米·月      中区(共35层)   \n",
       "1    (56000元/㎡)  2019/9/6 11:55:06   16.00元/平米·月      中区(共48层)   \n",
       "2    (36000元/㎡)  2019/9/8 13:46:35   14.24元/平米·月      低区(共32层)   \n",
       "\n",
       "                                titile  total_price_10K  \\\n",
       "0  罗湖 环球商务中心 一手开发商275–1800平 户型方正实用珠宝齐聚                4   \n",
       "1       福田中心区，市民中心旁地标物业，整层单位，精装出售，各付各税            11379   \n",
       "2         龙岗中心城 万科大厦 整层打包出售 带豪装 租20万/月             7200   \n",
       "\n",
       "                                                url  \\\n",
       "0  https://sz.office.fang.com/shou/3_221494519.html   \n",
       "1  https://sz.office.fang.com/shou/3_221492499.html   \n",
       "2  https://sz.office.fang.com/shou/3_221558546.html   \n",
       "\n",
       "                                         xzl_content  zhuangxiu  \\\n",
       "0  房源亮点【可售楼层】高层仅此一层内部放售！现楼！超钾级！【可选面积】整层等多种面积可选【项目...   简装修(可分割)   \n",
       "1  物业地址：深圳市福田区金田路与福中路交界东南物业管理：深圳市荣超物业有限公司开发 商：深圳市...   精装修(可分割)   \n",
       "2  万科大厦高约155米，是龙岗的高度，是龙岗的商务地标。“天际office”是万科大厦推出的3...  精装修(不可分割)   \n",
       "\n",
       "        location_coords  \n",
       "0  114.124864,22.574536  \n",
       "1  114.063658,22.544042  \n",
       "2  114.242657,22.713481  "
      ]
     },
     "execution_count": 5,
     "metadata": {},
     "output_type": "execute_result"
    }
   ],
   "source": [
    "df.head(3)"
   ]
  },
  {
   "cell_type": "code",
   "execution_count": 6,
   "metadata": {},
   "outputs": [],
   "source": [
    "df.to_csv('深圳写字楼地址数据.csv', encoding = 'utf-8-sig',index = False)"
   ]
  },
  {
   "cell_type": "code",
   "execution_count": null,
   "metadata": {},
   "outputs": [],
   "source": []
  }
 ],
 "metadata": {
  "kernelspec": {
   "display_name": "Python 3",
   "language": "python",
   "name": "python3"
  },
  "language_info": {
   "codemirror_mode": {
    "name": "ipython",
    "version": 3
   },
   "file_extension": ".py",
   "mimetype": "text/x-python",
   "name": "python",
   "nbconvert_exporter": "python",
   "pygments_lexer": "ipython3",
   "version": "3.6.4"
  }
 },
 "nbformat": 4,
 "nbformat_minor": 2
}
