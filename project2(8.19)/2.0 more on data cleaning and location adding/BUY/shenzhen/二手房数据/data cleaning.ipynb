{
 "cells": [
  {
   "cell_type": "code",
   "execution_count": 7,
   "metadata": {},
   "outputs": [],
   "source": [
    "import pandas as pd\n",
    "import numpy as np\n",
    "import requests"
   ]
  },
  {
   "cell_type": "code",
   "execution_count": 8,
   "metadata": {},
   "outputs": [],
   "source": [
    "df = pd.read_csv('链家二手房深圳.csv')"
   ]
  },
  {
   "cell_type": "code",
   "execution_count": 9,
   "metadata": {},
   "outputs": [
    {
     "data": {
      "text/plain": [
       "(75321, 25)"
      ]
     },
     "execution_count": 9,
     "metadata": {},
     "output_type": "execute_result"
    }
   ],
   "source": [
    "df.shape"
   ]
  },
  {
   "cell_type": "code",
   "execution_count": 10,
   "metadata": {},
   "outputs": [],
   "source": [
    "lst_loc = []\n",
    "lst_loc_old = df['house_location'].tolist()\n",
    "for i in range(len(lst_loc_old)):\n",
    "    templst = lst_loc_old[i].split('二手房成交')[0:]\n",
    "    templst = [j.replace(\",\", \"\") for j in templst][1:-1]\n",
    "    templst.insert(0, \"深圳\")\n",
    "    ''.join(templst)\n",
    "    lst_loc.append(' '.join(templst))"
   ]
  },
  {
   "cell_type": "code",
   "execution_count": 11,
   "metadata": {},
   "outputs": [],
   "source": [
    "df['house_location'] = lst_loc"
   ]
  },
  {
   "cell_type": "code",
   "execution_count": 12,
   "metadata": {},
   "outputs": [],
   "source": [
    "list_location = df['house_location'].value_counts().index.tolist()"
   ]
  },
  {
   "cell_type": "code",
   "execution_count": 14,
   "metadata": {},
   "outputs": [
    {
     "name": "stdout",
     "output_type": "stream",
     "text": [
      "one batch(250) processed\n",
      "one batch(250) processed\n",
      "one batch(250) processed\n",
      "one batch(250) processed\n",
      "one batch(250) processed\n",
      "one batch(250) processed\n",
      "one batch(250) processed\n",
      "one batch(250) processed\n",
      "one batch(250) processed\n",
      "one batch(250) processed\n"
     ]
    }
   ],
   "source": [
    "dict_location = {}\n",
    "My_key = 'f654d644aeae0e1da847d7ca408f4370'\n",
    "url_pre = 'https://restapi.amap.com/v3/geocode/geo?key={}&address={}&city={}'\n",
    "counter = 0\n",
    "for i in list_location:\n",
    "    location = i.split(\" \")[-1]\n",
    "    url = url_pre.format(My_key, location, '深圳')\n",
    "    res = requests.get(url).json()\n",
    "    if res['status'] == '0':\n",
    "        dict_location[i] = np.nan\n",
    "        counter +=1\n",
    "    else:\n",
    "        try: \n",
    "            dict_location[i] = res['geocodes'][0]['location']\n",
    "            if counter % 250 == 0:\n",
    "                print('one batch(250) processed')\n",
    "        except:\n",
    "            dict_location[i] = np.nan\n",
    "            \n",
    "        counter +=1"
   ]
  },
  {
   "cell_type": "code",
   "execution_count": 15,
   "metadata": {},
   "outputs": [],
   "source": [
    "df['location_coords'] = np.nan"
   ]
  },
  {
   "cell_type": "code",
   "execution_count": 16,
   "metadata": {},
   "outputs": [
    {
     "name": "stdout",
     "output_type": "stream",
     "text": [
      "A batch(50) is done\n",
      "A batch(50) is done\n",
      "A batch(50) is done\n",
      "A batch(50) is done\n",
      "A batch(50) is done\n",
      "A batch(50) is done\n",
      "A batch(50) is done\n",
      "A batch(50) is done\n",
      "A batch(50) is done\n",
      "A batch(50) is done\n",
      "A batch(50) is done\n",
      "A batch(50) is done\n",
      "A batch(50) is done\n",
      "A batch(50) is done\n",
      "A batch(50) is done\n",
      "A batch(50) is done\n",
      "A batch(50) is done\n",
      "A batch(50) is done\n",
      "A batch(50) is done\n",
      "A batch(50) is done\n",
      "A batch(50) is done\n",
      "A batch(50) is done\n",
      "A batch(50) is done\n",
      "A batch(50) is done\n",
      "A batch(50) is done\n",
      "A batch(50) is done\n",
      "A batch(50) is done\n",
      "A batch(50) is done\n",
      "A batch(50) is done\n",
      "A batch(50) is done\n",
      "A batch(50) is done\n",
      "A batch(50) is done\n",
      "A batch(50) is done\n",
      "A batch(50) is done\n",
      "A batch(50) is done\n",
      "A batch(50) is done\n",
      "A batch(50) is done\n",
      "A batch(50) is done\n",
      "A batch(50) is done\n",
      "A batch(50) is done\n",
      "A batch(50) is done\n",
      "A batch(50) is done\n",
      "A batch(50) is done\n",
      "A batch(50) is done\n",
      "A batch(50) is done\n",
      "A batch(50) is done\n",
      "A batch(50) is done\n",
      "A batch(50) is done\n",
      "A batch(50) is done\n",
      "A batch(50) is done\n",
      "A batch(50) is done\n"
     ]
    }
   ],
   "source": [
    "counter = 0\n",
    "for i in list_location:\n",
    "    counter += 1\n",
    "    df_temp = df[df['house_location'] == i]\n",
    "    df_temp_index = df_temp.index.tolist()\n",
    "    df.iloc[df_temp_index,25] = dict_location[i]\n",
    "    if counter %50 == 0:\n",
    "        print('A batch(50) is done')"
   ]
  },
  {
   "cell_type": "code",
   "execution_count": 17,
   "metadata": {},
   "outputs": [
    {
     "data": {
      "text/html": [
       "<div>\n",
       "<style scoped>\n",
       "    .dataframe tbody tr th:only-of-type {\n",
       "        vertical-align: middle;\n",
       "    }\n",
       "\n",
       "    .dataframe tbody tr th {\n",
       "        vertical-align: top;\n",
       "    }\n",
       "\n",
       "    .dataframe thead th {\n",
       "        text-align: right;\n",
       "    }\n",
       "</style>\n",
       "<table border=\"1\" class=\"dataframe\">\n",
       "  <thead>\n",
       "    <tr style=\"text-align: right;\">\n",
       "      <th></th>\n",
       "      <th>Architectural_Types</th>\n",
       "      <th>Built_up_area</th>\n",
       "      <th>Completion_date</th>\n",
       "      <th>Cover_area</th>\n",
       "      <th>Decoration</th>\n",
       "      <th>Equipped_with_elevators</th>\n",
       "      <th>Heating_mode</th>\n",
       "      <th>House_orientation</th>\n",
       "      <th>House_use</th>\n",
       "      <th>Housing_type</th>\n",
       "      <th>...</th>\n",
       "      <th>floor</th>\n",
       "      <th>headline</th>\n",
       "      <th>house_location</th>\n",
       "      <th>house_price_perunit</th>\n",
       "      <th>house_price_tenK</th>\n",
       "      <th>house_website_traffic</th>\n",
       "      <th>household_ratio_perstair</th>\n",
       "      <th>sell_date</th>\n",
       "      <th>url</th>\n",
       "      <th>location_coords</th>\n",
       "    </tr>\n",
       "  </thead>\n",
       "  <tbody>\n",
       "    <tr>\n",
       "      <th>0</th>\n",
       "      <td>塔楼</td>\n",
       "      <td>66.31㎡</td>\n",
       "      <td>2003</td>\n",
       "      <td>暂无数据</td>\n",
       "      <td>其他</td>\n",
       "      <td>有</td>\n",
       "      <td>NaN</td>\n",
       "      <td>暂无数据</td>\n",
       "      <td>普通住宅</td>\n",
       "      <td>- -室- -厅</td>\n",
       "      <td>...</td>\n",
       "      <td>低楼层(共33层)</td>\n",
       "      <td>旺业豪苑 --室--厅 66.31平米</td>\n",
       "      <td>深圳 罗湖区 东门 旺业豪苑</td>\n",
       "      <td>12517</td>\n",
       "      <td>83</td>\n",
       "      <td>暂无数据</td>\n",
       "      <td>三梯十四户</td>\n",
       "      <td>2010.01.01 成交</td>\n",
       "      <td>https://sz.lianjia.com/chengjiao/SZ0000845142....</td>\n",
       "      <td>114.125627,22.554293</td>\n",
       "    </tr>\n",
       "    <tr>\n",
       "      <th>1</th>\n",
       "      <td>板塔结合</td>\n",
       "      <td>66.74㎡</td>\n",
       "      <td>2002</td>\n",
       "      <td>暂无数据</td>\n",
       "      <td>其他</td>\n",
       "      <td>有</td>\n",
       "      <td>NaN</td>\n",
       "      <td>暂无数据</td>\n",
       "      <td>普通住宅</td>\n",
       "      <td>- -室- -厅</td>\n",
       "      <td>...</td>\n",
       "      <td>低楼层(共18层)</td>\n",
       "      <td>鸿洲新都 --室--厅 66.74平米</td>\n",
       "      <td>深圳 南山区 南头 鸿洲新都</td>\n",
       "      <td>20078</td>\n",
       "      <td>134</td>\n",
       "      <td>暂无数据</td>\n",
       "      <td>两梯九户</td>\n",
       "      <td>2011.08.29 成交</td>\n",
       "      <td>https://sz.lianjia.com/chengjiao/SZ0000862860....</td>\n",
       "      <td>113.919766,22.539633</td>\n",
       "    </tr>\n",
       "    <tr>\n",
       "      <th>2</th>\n",
       "      <td>塔楼</td>\n",
       "      <td>64.59㎡</td>\n",
       "      <td>2001</td>\n",
       "      <td>暂无数据</td>\n",
       "      <td>其他</td>\n",
       "      <td>有</td>\n",
       "      <td>NaN</td>\n",
       "      <td>暂无数据</td>\n",
       "      <td>普通住宅</td>\n",
       "      <td>- -室- -厅</td>\n",
       "      <td>...</td>\n",
       "      <td>低楼层(共22层)</td>\n",
       "      <td>中兆花园 --室--厅 64.59平米</td>\n",
       "      <td>深圳 龙岗区 布吉大芬 中兆花园</td>\n",
       "      <td>11690</td>\n",
       "      <td>76</td>\n",
       "      <td>暂无数据</td>\n",
       "      <td>两梯九户</td>\n",
       "      <td>2011.03.11 成交</td>\n",
       "      <td>https://sz.lianjia.com/chengjiao/SZ0000835245....</td>\n",
       "      <td>114.144530,22.618200</td>\n",
       "    </tr>\n",
       "    <tr>\n",
       "      <th>3</th>\n",
       "      <td>板楼</td>\n",
       "      <td>66.08㎡</td>\n",
       "      <td>2003</td>\n",
       "      <td>暂无数据</td>\n",
       "      <td>其他</td>\n",
       "      <td>有</td>\n",
       "      <td>NaN</td>\n",
       "      <td>暂无数据</td>\n",
       "      <td>普通住宅</td>\n",
       "      <td>- -室- -厅</td>\n",
       "      <td>...</td>\n",
       "      <td>低楼层(共11层)</td>\n",
       "      <td>梅花新园 --室--厅 66.08平米</td>\n",
       "      <td>深圳 龙华区 民治 梅花新园</td>\n",
       "      <td>12107</td>\n",
       "      <td>80</td>\n",
       "      <td>暂无数据</td>\n",
       "      <td>一梯四户</td>\n",
       "      <td>2010.04.10 成交</td>\n",
       "      <td>https://sz.lianjia.com/chengjiao/SZ0000853257....</td>\n",
       "      <td>114.041260,22.622416</td>\n",
       "    </tr>\n",
       "    <tr>\n",
       "      <th>4</th>\n",
       "      <td>塔楼</td>\n",
       "      <td>66.63㎡</td>\n",
       "      <td>2003</td>\n",
       "      <td>暂无数据</td>\n",
       "      <td>其他</td>\n",
       "      <td>有</td>\n",
       "      <td>NaN</td>\n",
       "      <td>暂无数据</td>\n",
       "      <td>普通住宅</td>\n",
       "      <td>- -室- -厅</td>\n",
       "      <td>...</td>\n",
       "      <td>低楼层(共33层)</td>\n",
       "      <td>旺业豪苑 --室--厅 66.63平米</td>\n",
       "      <td>深圳 罗湖区 东门 旺业豪苑</td>\n",
       "      <td>12908</td>\n",
       "      <td>86</td>\n",
       "      <td>暂无数据</td>\n",
       "      <td>三梯十四户</td>\n",
       "      <td>2010.08.29 成交</td>\n",
       "      <td>https://sz.lianjia.com/chengjiao/SZ0000845139....</td>\n",
       "      <td>114.125627,22.554293</td>\n",
       "    </tr>\n",
       "  </tbody>\n",
       "</table>\n",
       "<p>5 rows × 26 columns</p>\n",
       "</div>"
      ],
      "text/plain": [
       "  Architectural_Types Built_up_area Completion_date Cover_area Decoration  \\\n",
       "0                  塔楼        66.31㎡            2003       暂无数据         其他   \n",
       "1                板塔结合        66.74㎡            2002       暂无数据         其他   \n",
       "2                  塔楼        64.59㎡            2001       暂无数据         其他   \n",
       "3                  板楼        66.08㎡            2003       暂无数据         其他   \n",
       "4                  塔楼        66.63㎡            2003       暂无数据         其他   \n",
       "\n",
       "  Equipped_with_elevators  Heating_mode House_orientation House_use  \\\n",
       "0                       有           NaN              暂无数据      普通住宅   \n",
       "1                       有           NaN              暂无数据      普通住宅   \n",
       "2                       有           NaN              暂无数据      普通住宅   \n",
       "3                       有           NaN              暂无数据      普通住宅   \n",
       "4                       有           NaN              暂无数据      普通住宅   \n",
       "\n",
       "  Housing_type          ...               floor             headline  \\\n",
       "0     - -室- -厅          ...           低楼层(共33层)  旺业豪苑 --室--厅 66.31平米   \n",
       "1     - -室- -厅          ...           低楼层(共18层)  鸿洲新都 --室--厅 66.74平米   \n",
       "2     - -室- -厅          ...           低楼层(共22层)  中兆花园 --室--厅 64.59平米   \n",
       "3     - -室- -厅          ...           低楼层(共11层)  梅花新园 --室--厅 66.08平米   \n",
       "4     - -室- -厅          ...           低楼层(共33层)  旺业豪苑 --室--厅 66.63平米   \n",
       "\n",
       "     house_location house_price_perunit house_price_tenK  \\\n",
       "0    深圳 罗湖区 东门 旺业豪苑               12517               83   \n",
       "1    深圳 南山区 南头 鸿洲新都               20078              134   \n",
       "2  深圳 龙岗区 布吉大芬 中兆花园               11690               76   \n",
       "3    深圳 龙华区 民治 梅花新园               12107               80   \n",
       "4    深圳 罗湖区 东门 旺业豪苑               12908               86   \n",
       "\n",
       "  house_website_traffic household_ratio_perstair      sell_date  \\\n",
       "0                  暂无数据                    三梯十四户  2010.01.01 成交   \n",
       "1                  暂无数据                     两梯九户  2011.08.29 成交   \n",
       "2                  暂无数据                     两梯九户  2011.03.11 成交   \n",
       "3                  暂无数据                     一梯四户  2010.04.10 成交   \n",
       "4                  暂无数据                    三梯十四户  2010.08.29 成交   \n",
       "\n",
       "                                                 url       location_coords  \n",
       "0  https://sz.lianjia.com/chengjiao/SZ0000845142....  114.125627,22.554293  \n",
       "1  https://sz.lianjia.com/chengjiao/SZ0000862860....  113.919766,22.539633  \n",
       "2  https://sz.lianjia.com/chengjiao/SZ0000835245....  114.144530,22.618200  \n",
       "3  https://sz.lianjia.com/chengjiao/SZ0000853257....  114.041260,22.622416  \n",
       "4  https://sz.lianjia.com/chengjiao/SZ0000845139....  114.125627,22.554293  \n",
       "\n",
       "[5 rows x 26 columns]"
      ]
     },
     "execution_count": 17,
     "metadata": {},
     "output_type": "execute_result"
    }
   ],
   "source": [
    "df.head()"
   ]
  },
  {
   "cell_type": "code",
   "execution_count": 21,
   "metadata": {},
   "outputs": [
    {
     "data": {
      "text/plain": [
       "(75321, 26)"
      ]
     },
     "execution_count": 21,
     "metadata": {},
     "output_type": "execute_result"
    }
   ],
   "source": [
    "df.shape"
   ]
  },
  {
   "cell_type": "code",
   "execution_count": 18,
   "metadata": {},
   "outputs": [],
   "source": [
    "df.to_csv('深圳二手房地址数据.csv', encoding = 'utf-8-sig',index = False)"
   ]
  },
  {
   "cell_type": "code",
   "execution_count": null,
   "metadata": {},
   "outputs": [],
   "source": []
  }
 ],
 "metadata": {
  "kernelspec": {
   "display_name": "Python 3",
   "language": "python",
   "name": "python3"
  },
  "language_info": {
   "codemirror_mode": {
    "name": "ipython",
    "version": 3
   },
   "file_extension": ".py",
   "mimetype": "text/x-python",
   "name": "python",
   "nbconvert_exporter": "python",
   "pygments_lexer": "ipython3",
   "version": "3.6.4"
  }
 },
 "nbformat": 4,
 "nbformat_minor": 2
}
