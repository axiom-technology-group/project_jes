{
 "cells": [
  {
   "cell_type": "code",
   "execution_count": 1,
   "metadata": {},
   "outputs": [],
   "source": [
    "import pandas as pd\n",
    "import numpy as np\n",
    "import requests"
   ]
  },
  {
   "cell_type": "code",
   "execution_count": 2,
   "metadata": {},
   "outputs": [],
   "source": [
    "df = pd.read_csv('上海写字楼数据.csv')"
   ]
  },
  {
   "cell_type": "code",
   "execution_count": 4,
   "metadata": {},
   "outputs": [
    {
     "name": "stdout",
     "output_type": "stream",
     "text": [
      "one batch(250) processed\n",
      "one batch(250) processed\n",
      "one batch(250) processed\n",
      "one batch(250) processed\n"
     ]
    }
   ],
   "source": [
    "def replacestr(string):\n",
    "    string = str(string).replace('[','')\n",
    "    string = string.replace(']','')\n",
    "    string = string.replace(\"'\",'')\n",
    "    return string\n",
    "\n",
    "df['loupandizhi'] = df['loupandizhi'].apply(replacestr)\n",
    "\n",
    "list_location = df['loupandizhi'].value_counts().index.tolist()\n",
    "\n",
    "dict_location = {}\n",
    "Key = '6b95b84cab6100c0a6f52c62ece97e4b'\n",
    "My_key = 'f654d644aeae0e1da847d7ca408f4370'\n",
    "url_pre = 'https://restapi.amap.com/v3/geocode/geo?key={}&address={}&city={}'\n",
    "counter = 0\n",
    "for i in list_location:\n",
    "    location = i.split(\",\")[-1].strip()\n",
    "    url = url_pre.format(Key, location, '上海')\n",
    "    res = requests.get(url).json()\n",
    "    if res['status'] == '0':\n",
    "        dict_location[i] = np.nan\n",
    "        counter +=1\n",
    "    else:\n",
    "        try: \n",
    "            dict_location[i] = res['geocodes'][0]['location']\n",
    "            if counter % 250 == 0:\n",
    "                print('one batch(250) processed')\n",
    "        except:\n",
    "            dict_location[i] = np.nan\n",
    "            \n",
    "        counter +=1"
   ]
  },
  {
   "cell_type": "code",
   "execution_count": 5,
   "metadata": {},
   "outputs": [
    {
     "name": "stdout",
     "output_type": "stream",
     "text": [
      "A batch(50) is done\n",
      "A batch(50) is done\n",
      "A batch(50) is done\n",
      "A batch(50) is done\n",
      "A batch(50) is done\n",
      "A batch(50) is done\n",
      "A batch(50) is done\n",
      "A batch(50) is done\n",
      "A batch(50) is done\n",
      "A batch(50) is done\n",
      "A batch(50) is done\n",
      "A batch(50) is done\n",
      "A batch(50) is done\n",
      "A batch(50) is done\n",
      "A batch(50) is done\n",
      "A batch(50) is done\n",
      "A batch(50) is done\n",
      "A batch(50) is done\n",
      "A batch(50) is done\n",
      "A batch(50) is done\n"
     ]
    }
   ],
   "source": [
    "df['location_coords'] = np.nan\n",
    "\n",
    "counter = 0\n",
    "for i in list_location:\n",
    "    counter += 1\n",
    "    df_temp = df[df['loupandizhi'] == i]\n",
    "    df_temp_index = df_temp.index.tolist()\n",
    "    df.iloc[df_temp_index,14] = dict_location[i]\n",
    "    if counter %50 == 0:\n",
    "        print('A batch(50) is done')"
   ]
  },
  {
   "cell_type": "code",
   "execution_count": 6,
   "metadata": {},
   "outputs": [
    {
     "data": {
      "text/html": [
       "<div>\n",
       "<style scoped>\n",
       "    .dataframe tbody tr th:only-of-type {\n",
       "        vertical-align: middle;\n",
       "    }\n",
       "\n",
       "    .dataframe tbody tr th {\n",
       "        vertical-align: top;\n",
       "    }\n",
       "\n",
       "    .dataframe thead th {\n",
       "        text-align: right;\n",
       "    }\n",
       "</style>\n",
       "<table border=\"1\" class=\"dataframe\">\n",
       "  <thead>\n",
       "    <tr style=\"text-align: right;\">\n",
       "      <th></th>\n",
       "      <th>building_type</th>\n",
       "      <th>dengji</th>\n",
       "      <th>jianzhumianji</th>\n",
       "      <th>loupan_content</th>\n",
       "      <th>loupandizhi</th>\n",
       "      <th>price_perunit</th>\n",
       "      <th>release_date</th>\n",
       "      <th>service_price</th>\n",
       "      <th>suozailouceng</th>\n",
       "      <th>titile</th>\n",
       "      <th>total_price_10K</th>\n",
       "      <th>url</th>\n",
       "      <th>xzl_content</th>\n",
       "      <th>zhuangxiu</th>\n",
       "      <th>location_coords</th>\n",
       "    </tr>\n",
       "  </thead>\n",
       "  <tbody>\n",
       "    <tr>\n",
       "      <th>0</th>\n",
       "      <td>纯写字楼</td>\n",
       "      <td>NaN</td>\n",
       "      <td>2600㎡</td>\n",
       "      <td>新华联国际中心是新华联不动产进军上海后的综合体项目，位于虹桥商务区北09地块，东至申滨路，南...</td>\n",
       "      <td>上海, 闵行, 华漕, 新华联国际中心</td>\n",
       "      <td>(70000元/㎡)</td>\n",
       "      <td>2019/8/1 11:51:14</td>\n",
       "      <td>NaN</td>\n",
       "      <td>\\r\\n</td>\n",
       "      <td>新华联国际中心 法式独栋通煤气 虹桥商务区新地标</td>\n",
       "      <td>18200</td>\n",
       "      <td>https://sh.office.fang.com/shou/3_357937634.html</td>\n",
       "      <td>《新华联国际中心》                              项目基本介绍 ...</td>\n",
       "      <td>精装修(可分割)</td>\n",
       "      <td>121.308599,31.200762</td>\n",
       "    </tr>\n",
       "    <tr>\n",
       "      <th>1</th>\n",
       "      <td>纯写字楼</td>\n",
       "      <td>甲级</td>\n",
       "      <td>800㎡</td>\n",
       "      <td>华宜大厦位于上海市徐汇区内环高架中山西路2020号，步行至轨道交通3、4、9号线宜山路站只需...</td>\n",
       "      <td>上海, 徐汇, 徐家汇, 华宜大厦</td>\n",
       "      <td>(26800元/㎡)</td>\n",
       "      <td>2019/8/16 20:00:41</td>\n",
       "      <td>24.50元/平米·月</td>\n",
       "      <td>中区(共28层)</td>\n",
       "      <td>徐汇高品质双子楼，5.6米复式楼层，急降100万！近华鑫中心</td>\n",
       "      <td>2144</td>\n",
       "      <td>https://sh.office.fang.com/shou/3_359532121.html</td>\n",
       "      <td>上海合森商业地产-I标办I商+住I独栋I企业总部I推荐理由（宋甜 150-0023-6386...</td>\n",
       "      <td>精装修(可分割)</td>\n",
       "      <td>121.426909,31.181896</td>\n",
       "    </tr>\n",
       "    <tr>\n",
       "      <th>2</th>\n",
       "      <td>纯写字楼</td>\n",
       "      <td>甲级</td>\n",
       "      <td>203㎡</td>\n",
       "      <td>SKYWAY TOWER上置金融大厦位于上海新黄浦区CBD中心区域——打浦路、徐家汇路口。将...</td>\n",
       "      <td>上海, 黄浦, 打浦桥, 长城金融大厦</td>\n",
       "      <td>(39500元/㎡)</td>\n",
       "      <td>2019/8/5 19:56:23</td>\n",
       "      <td>29.00元/平米·月</td>\n",
       "      <td>高区(共52层)</td>\n",
       "      <td>降150万急售，打浦桥高品质，高区朝南，正对电梯厅，送产权车位</td>\n",
       "      <td>802</td>\n",
       "      <td>https://sh.office.fang.com/shou/3_358415533.html</td>\n",
       "      <td>【房源概述】1、基本情况：上置金/融大厦地处打浦路15号，打浦路-徐家汇路商圈，9号线打浦桥...</td>\n",
       "      <td>精装修(可分割)</td>\n",
       "      <td>121.470994,31.204445</td>\n",
       "    </tr>\n",
       "  </tbody>\n",
       "</table>\n",
       "</div>"
      ],
      "text/plain": [
       "  building_type dengji jianzhumianji  \\\n",
       "0          纯写字楼    NaN         2600㎡   \n",
       "1          纯写字楼     甲级          800㎡   \n",
       "2          纯写字楼     甲级          203㎡   \n",
       "\n",
       "                                      loupan_content          loupandizhi  \\\n",
       "0  新华联国际中心是新华联不动产进军上海后的综合体项目，位于虹桥商务区北09地块，东至申滨路，南...  上海, 闵行, 华漕, 新华联国际中心   \n",
       "1  华宜大厦位于上海市徐汇区内环高架中山西路2020号，步行至轨道交通3、4、9号线宜山路站只需...    上海, 徐汇, 徐家汇, 华宜大厦   \n",
       "2  SKYWAY TOWER上置金融大厦位于上海新黄浦区CBD中心区域——打浦路、徐家汇路口。将...  上海, 黄浦, 打浦桥, 长城金融大厦   \n",
       "\n",
       "  price_perunit        release_date service_price     suozailouceng  \\\n",
       "0    (70000元/㎡)   2019/8/1 11:51:14           NaN  \\r\\n               \n",
       "1    (26800元/㎡)  2019/8/16 20:00:41   24.50元/平米·月          中区(共28层)   \n",
       "2    (39500元/㎡)   2019/8/5 19:56:23   29.00元/平米·月          高区(共52层)   \n",
       "\n",
       "                            titile total_price_10K  \\\n",
       "0         新华联国际中心 法式独栋通煤气 虹桥商务区新地标           18200   \n",
       "1   徐汇高品质双子楼，5.6米复式楼层，急降100万！近华鑫中心            2144   \n",
       "2  降150万急售，打浦桥高品质，高区朝南，正对电梯厅，送产权车位             802   \n",
       "\n",
       "                                                url  \\\n",
       "0  https://sh.office.fang.com/shou/3_357937634.html   \n",
       "1  https://sh.office.fang.com/shou/3_359532121.html   \n",
       "2  https://sh.office.fang.com/shou/3_358415533.html   \n",
       "\n",
       "                                         xzl_content zhuangxiu  \\\n",
       "0  《新华联国际中心》                              项目基本介绍 ...  精装修(可分割)   \n",
       "1  上海合森商业地产-I标办I商+住I独栋I企业总部I推荐理由（宋甜 150-0023-6386...  精装修(可分割)   \n",
       "2  【房源概述】1、基本情况：上置金/融大厦地处打浦路15号，打浦路-徐家汇路商圈，9号线打浦桥...  精装修(可分割)   \n",
       "\n",
       "        location_coords  \n",
       "0  121.308599,31.200762  \n",
       "1  121.426909,31.181896  \n",
       "2  121.470994,31.204445  "
      ]
     },
     "execution_count": 6,
     "metadata": {},
     "output_type": "execute_result"
    }
   ],
   "source": [
    "df.head(3)"
   ]
  },
  {
   "cell_type": "code",
   "execution_count": 8,
   "metadata": {},
   "outputs": [],
   "source": [
    "df.to_csv('上海写字楼地址数据.csv', encoding = 'utf-8-sig',index = False)"
   ]
  },
  {
   "cell_type": "code",
   "execution_count": null,
   "metadata": {},
   "outputs": [],
   "source": []
  }
 ],
 "metadata": {
  "kernelspec": {
   "display_name": "Python 3",
   "language": "python",
   "name": "python3"
  },
  "language_info": {
   "codemirror_mode": {
    "name": "ipython",
    "version": 3
   },
   "file_extension": ".py",
   "mimetype": "text/x-python",
   "name": "python",
   "nbconvert_exporter": "python",
   "pygments_lexer": "ipython3",
   "version": "3.6.4"
  }
 },
 "nbformat": 4,
 "nbformat_minor": 2
}
