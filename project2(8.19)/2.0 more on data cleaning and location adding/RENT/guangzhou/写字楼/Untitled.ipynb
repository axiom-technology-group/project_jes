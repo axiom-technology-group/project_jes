{
 "cells": [
  {
   "cell_type": "code",
   "execution_count": 2,
   "metadata": {},
   "outputs": [],
   "source": [
    "import pandas as pd\n",
    "\n",
    "df = pd.read_csv('xzl_gz_rent.csv',error_bad_lines=False)"
   ]
  },
  {
   "cell_type": "code",
   "execution_count": 3,
   "metadata": {},
   "outputs": [],
   "source": [
    "lst = df['loupandizhi'][0].split(',')\n",
    "\n",
    "loupandizhi = df['loupandizhi'].tolist()\n",
    "loupandizhilst = []\n",
    "for i in loupandizhi:\n",
    "    lst = i.split(',')\n",
    "    lst1 = []\n",
    "    for i in lst:\n",
    "\n",
    "        i = i.replace('\\r\\n','')\n",
    "        i = i.replace('写字楼','')\n",
    "        i = i.strip()\n",
    "        lst1.append(i)\n",
    "    loupandizhilst.append(lst1)\n",
    "df['loupandizhi'] = loupandizhilst"
   ]
  },
  {
   "cell_type": "code",
   "execution_count": 4,
   "metadata": {},
   "outputs": [
    {
     "data": {
      "text/html": [
       "<div>\n",
       "<style scoped>\n",
       "    .dataframe tbody tr th:only-of-type {\n",
       "        vertical-align: middle;\n",
       "    }\n",
       "\n",
       "    .dataframe tbody tr th {\n",
       "        vertical-align: top;\n",
       "    }\n",
       "\n",
       "    .dataframe thead th {\n",
       "        text-align: right;\n",
       "    }\n",
       "</style>\n",
       "<table border=\"1\" class=\"dataframe\">\n",
       "  <thead>\n",
       "    <tr style=\"text-align: right;\">\n",
       "      <th></th>\n",
       "      <th>building_type</th>\n",
       "      <th>building_year</th>\n",
       "      <th>chuzumianji</th>\n",
       "      <th>floor</th>\n",
       "      <th>loupan_content</th>\n",
       "      <th>loupandizhi</th>\n",
       "      <th>price_perunit</th>\n",
       "      <th>release_date</th>\n",
       "      <th>service_price</th>\n",
       "      <th>titile</th>\n",
       "      <th>total_price_10K_permonth</th>\n",
       "      <th>url</th>\n",
       "      <th>xiezilou_level</th>\n",
       "      <th>xzl_content</th>\n",
       "      <th>zhuangxiu</th>\n",
       "    </tr>\n",
       "  </thead>\n",
       "  <tbody>\n",
       "    <tr>\n",
       "      <th>0</th>\n",
       "      <td>纯写字楼</td>\n",
       "      <td>NaN</td>\n",
       "      <td>373㎡</td>\n",
       "      <td>低区(共40层)</td>\n",
       "      <td>\\r\\n               \\r\\n                \\r\\n   ...</td>\n",
       "      <td>[琶洲, 保利中悦广场]</td>\n",
       "      <td>145.04</td>\n",
       "      <td>2019/9/3 10:51:52</td>\n",
       "      <td>NaN</td>\n",
       "      <td>新盘上线！保利中悦广场 全新装修 东南向 带有3个间隔</td>\n",
       "      <td>54100</td>\n",
       "      <td>https://gz.office.fang.com/zu/3_241955883.html</td>\n",
       "      <td>甲级</td>\n",
       "      <td>\\r\\n\\t\\t\\t\\t\\t\\r\\n\\t\\t\\t\\t\\t\\t房源亮点\\r\\n\\t\\t\\t\\t...</td>\n",
       "      <td>NaN</td>\n",
       "    </tr>\n",
       "    <tr>\n",
       "      <th>1</th>\n",
       "      <td>纯写字楼</td>\n",
       "      <td>NaN</td>\n",
       "      <td>150㎡</td>\n",
       "      <td>中区(共37层)</td>\n",
       "      <td>\\r\\n               \\r\\n                \\r\\n   ...</td>\n",
       "      <td>[珠江新城西, 保利克洛维广场]</td>\n",
       "      <td>150.00</td>\n",
       "      <td>2019/9/6 0:47:15</td>\n",
       "      <td>物业费20.00元/平米·月</td>\n",
       "      <td>珠江新城 保利克洛维150方 3个间隔豪装配家私</td>\n",
       "      <td>22500</td>\n",
       "      <td>https://gz.office.fang.com/zu/3_242041826.html</td>\n",
       "      <td>甲级</td>\n",
       "      <td>\\r\\n\\t\\t\\t\\t\\t\\r\\n\\t\\t\\t\\t\\t\\t房源亮点\\r\\n\\t\\t\\t\\t...</td>\n",
       "      <td>精装修(可分割)</td>\n",
       "    </tr>\n",
       "    <tr>\n",
       "      <th>2</th>\n",
       "      <td>纯写字楼</td>\n",
       "      <td>NaN</td>\n",
       "      <td>272㎡</td>\n",
       "      <td>低区(共41层)</td>\n",
       "      <td>\\r\\n               \\r\\n                \\r\\n   ...</td>\n",
       "      <td>[珠江新城中, 富力盈通大厦]</td>\n",
       "      <td>150.00</td>\n",
       "      <td>2019/9/5 18:25:13</td>\n",
       "      <td>物业费24.00元/平米·月</td>\n",
       "      <td>富力盈通大厦 272方 一手业主直租 精装大前台</td>\n",
       "      <td>40800</td>\n",
       "      <td>https://gz.office.fang.com/zu/3_242032603.html</td>\n",
       "      <td>甲级</td>\n",
       "      <td>\\r\\n\\t\\t\\t\\t\\t\\r\\n\\t\\t\\t\\t\\t\\t房源亮点\\r\\n\\t\\t\\t\\t...</td>\n",
       "      <td>精装修(不可分割)</td>\n",
       "    </tr>\n",
       "  </tbody>\n",
       "</table>\n",
       "</div>"
      ],
      "text/plain": [
       "  building_type building_year chuzumianji     floor  \\\n",
       "0          纯写字楼           NaN        373㎡  低区(共40层)   \n",
       "1          纯写字楼           NaN        150㎡  中区(共37层)   \n",
       "2          纯写字楼           NaN        272㎡  低区(共41层)   \n",
       "\n",
       "                                      loupan_content       loupandizhi  \\\n",
       "0  \\r\\n               \\r\\n                \\r\\n   ...      [琶洲, 保利中悦广场]   \n",
       "1  \\r\\n               \\r\\n                \\r\\n   ...  [珠江新城西, 保利克洛维广场]   \n",
       "2  \\r\\n               \\r\\n                \\r\\n   ...   [珠江新城中, 富力盈通大厦]   \n",
       "\n",
       "   price_perunit       release_date   service_price  \\\n",
       "0         145.04  2019/9/3 10:51:52             NaN   \n",
       "1         150.00   2019/9/6 0:47:15  物业费20.00元/平米·月   \n",
       "2         150.00  2019/9/5 18:25:13  物业费24.00元/平米·月   \n",
       "\n",
       "                        titile  total_price_10K_permonth  \\\n",
       "0  新盘上线！保利中悦广场 全新装修 东南向 带有3个间隔                     54100   \n",
       "1     珠江新城 保利克洛维150方 3个间隔豪装配家私                     22500   \n",
       "2     富力盈通大厦 272方 一手业主直租 精装大前台                     40800   \n",
       "\n",
       "                                              url xiezilou_level  \\\n",
       "0  https://gz.office.fang.com/zu/3_241955883.html             甲级   \n",
       "1  https://gz.office.fang.com/zu/3_242041826.html             甲级   \n",
       "2  https://gz.office.fang.com/zu/3_242032603.html             甲级   \n",
       "\n",
       "                                         xzl_content  zhuangxiu  \n",
       "0  \\r\\n\\t\\t\\t\\t\\t\\r\\n\\t\\t\\t\\t\\t\\t房源亮点\\r\\n\\t\\t\\t\\t...        NaN  \n",
       "1  \\r\\n\\t\\t\\t\\t\\t\\r\\n\\t\\t\\t\\t\\t\\t房源亮点\\r\\n\\t\\t\\t\\t...   精装修(可分割)  \n",
       "2  \\r\\n\\t\\t\\t\\t\\t\\r\\n\\t\\t\\t\\t\\t\\t房源亮点\\r\\n\\t\\t\\t\\t...  精装修(不可分割)  "
      ]
     },
     "execution_count": 4,
     "metadata": {},
     "output_type": "execute_result"
    }
   ],
   "source": [
    "df.head(3)"
   ]
  },
  {
   "cell_type": "code",
   "execution_count": 5,
   "metadata": {},
   "outputs": [
    {
     "data": {
      "text/plain": [
       "(2043, 15)"
      ]
     },
     "execution_count": 5,
     "metadata": {},
     "output_type": "execute_result"
    }
   ],
   "source": [
    "df.shape"
   ]
  },
  {
   "cell_type": "code",
   "execution_count": 6,
   "metadata": {},
   "outputs": [],
   "source": [
    "df.to_csv('广州写字楼数据.csv',index = False, encoding = 'utf-8-sig')"
   ]
  },
  {
   "cell_type": "code",
   "execution_count": null,
   "metadata": {},
   "outputs": [],
   "source": []
  }
 ],
 "metadata": {
  "kernelspec": {
   "display_name": "Python 3",
   "language": "python",
   "name": "python3"
  },
  "language_info": {
   "codemirror_mode": {
    "name": "ipython",
    "version": 3
   },
   "file_extension": ".py",
   "mimetype": "text/x-python",
   "name": "python",
   "nbconvert_exporter": "python",
   "pygments_lexer": "ipython3",
   "version": "3.6.4"
  }
 },
 "nbformat": 4,
 "nbformat_minor": 2
}
