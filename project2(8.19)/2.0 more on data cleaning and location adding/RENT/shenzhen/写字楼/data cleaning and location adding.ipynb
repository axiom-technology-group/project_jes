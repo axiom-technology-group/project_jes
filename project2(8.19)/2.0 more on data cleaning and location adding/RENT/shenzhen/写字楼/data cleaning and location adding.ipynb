{
 "cells": [
  {
   "cell_type": "code",
   "execution_count": 2,
   "metadata": {},
   "outputs": [],
   "source": [
    "import pandas as pd\n",
    "import numpy as np\n",
    "import requests\n",
    "df = pd.read_csv('深圳写字楼数据.csv',error_bad_lines=False)"
   ]
  },
  {
   "cell_type": "code",
   "execution_count": 4,
   "metadata": {},
   "outputs": [
    {
     "name": "stdout",
     "output_type": "stream",
     "text": [
      "one batch(250) processed\n",
      "one batch(250) processed\n",
      "one batch(250) processed\n",
      "one batch(250) processed\n"
     ]
    }
   ],
   "source": [
    "def replacestr(string):\n",
    "    string = string.replace('[','')\n",
    "    string = string.replace(']','')\n",
    "    string = string.replace(\"'\",'')\n",
    "    return string\n",
    "\n",
    "df['loupandizhi'] = df['loupandizhi'].apply(replacestr)\n",
    "\n",
    "list_location = df['loupandizhi'].value_counts().index.tolist()\n",
    "\n",
    "dict_location = {}\n",
    "Key = '6b95b84cab6100c0a6f52c62ece97e4b'\n",
    "My_key = 'f654d644aeae0e1da847d7ca408f4370'\n",
    "url_pre = 'https://restapi.amap.com/v3/geocode/geo?key={}&address={}&city={}'\n",
    "counter = 0\n",
    "for i in list_location:\n",
    "    location = i.split(\",\")[-1].strip()\n",
    "    url = url_pre.format(Key, location, '深圳')\n",
    "    res = requests.get(url).json()\n",
    "    if res['status'] == '0':\n",
    "        dict_location[i] = np.nan\n",
    "        counter +=1\n",
    "    else:\n",
    "        try: \n",
    "            dict_location[i] = res['geocodes'][0]['location']\n",
    "            if counter % 250 == 0:\n",
    "                print('one batch(250) processed')\n",
    "        except:\n",
    "            dict_location[i] = np.nan\n",
    "            \n",
    "        counter +=1"
   ]
  },
  {
   "cell_type": "code",
   "execution_count": 5,
   "metadata": {},
   "outputs": [
    {
     "name": "stdout",
     "output_type": "stream",
     "text": [
      "A batch(50) is done\n",
      "A batch(50) is done\n",
      "A batch(50) is done\n",
      "A batch(50) is done\n",
      "A batch(50) is done\n",
      "A batch(50) is done\n",
      "A batch(50) is done\n",
      "A batch(50) is done\n",
      "A batch(50) is done\n",
      "A batch(50) is done\n",
      "A batch(50) is done\n",
      "A batch(50) is done\n",
      "A batch(50) is done\n",
      "A batch(50) is done\n",
      "A batch(50) is done\n"
     ]
    }
   ],
   "source": [
    "df['location_coords'] = np.nan\n",
    "\n",
    "counter = 0\n",
    "for i in list_location:\n",
    "    counter += 1\n",
    "    df_temp = df[df['loupandizhi'] == i]\n",
    "    df_temp_index = df_temp.index.tolist()\n",
    "    df.iloc[df_temp_index,15] = dict_location[i]\n",
    "    if counter %50 == 0:\n",
    "        print('A batch(50) is done')"
   ]
  },
  {
   "cell_type": "code",
   "execution_count": 6,
   "metadata": {},
   "outputs": [],
   "source": [
    "df.to_csv('深圳写字楼出租地址数据.csv', encoding = 'utf-8-sig',index = False)"
   ]
  },
  {
   "cell_type": "code",
   "execution_count": null,
   "metadata": {},
   "outputs": [],
   "source": []
  }
 ],
 "metadata": {
  "kernelspec": {
   "display_name": "Python 3",
   "language": "python",
   "name": "python3"
  },
  "language_info": {
   "codemirror_mode": {
    "name": "ipython",
    "version": 3
   },
   "file_extension": ".py",
   "mimetype": "text/x-python",
   "name": "python",
   "nbconvert_exporter": "python",
   "pygments_lexer": "ipython3",
   "version": "3.6.4"
  }
 },
 "nbformat": 4,
 "nbformat_minor": 2
}
