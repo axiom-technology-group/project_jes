{
 "cells": [
  {
   "cell_type": "code",
   "execution_count": 1,
   "metadata": {},
   "outputs": [],
   "source": [
    "import pandas as pd\n",
    "import numpy as np\n",
    "import requests\n",
    "df = pd.read_csv('上海商铺数据.csv',error_bad_lines=False)"
   ]
  },
  {
   "cell_type": "code",
   "execution_count": 2,
   "metadata": {},
   "outputs": [],
   "source": [
    "lst_lpname = df['loupanmingcheng'].value_counts().index.tolist()\n",
    "\n",
    "lst_lploc = df['loupandizhi'].value_counts().index.tolist()"
   ]
  },
  {
   "cell_type": "code",
   "execution_count": 5,
   "metadata": {},
   "outputs": [
    {
     "name": "stdout",
     "output_type": "stream",
     "text": [
      "one batch(250) processed\n",
      "one batch(250) processed\n",
      "one batch(250) processed\n",
      "one batch(250) processed\n",
      "one batch(250) processed\n",
      "one batch(250) processed\n"
     ]
    }
   ],
   "source": [
    "city = '上海'\n",
    "dict_location = {}\n",
    "My_key = 'f654d644aeae0e1da847d7ca408f4370'\n",
    "url_pre = 'https://restapi.amap.com/v3/geocode/geo?key={}&address={}&city={}'\n",
    "counter = 0\n",
    "for i in range(len(lst_lpname)):\n",
    "    location = lst_lpname[i]\n",
    "    url = url_pre.format(My_key, location, city)\n",
    "    res = requests.get(url).json()\n",
    "    if res['status'] == '0':\n",
    "        location = lst_lploc[i]\n",
    "        url = url_pre.format(My_key, location, city)\n",
    "        res = requests.get(url).json()\n",
    "        if res['status'] == '0':\n",
    "            dict_location[lst_lpname[i]] = np.nan\n",
    "            counter +=1\n",
    "        else:\n",
    "            try: \n",
    "                dict_location[lst_lpname[i]] = res['geocodes'][0]['location']\n",
    "                if counter % 250 == 0:\n",
    "                    print('one batch(250) processed')\n",
    "            except:\n",
    "                dict_location[lst_lpname[i]] = np.nan\n",
    "            \n",
    "    else:\n",
    "        try: \n",
    "            dict_location[lst_lpname[i]] = res['geocodes'][0]['location']\n",
    "            if counter % 250 == 0:\n",
    "                print('one batch(250) processed')\n",
    "        except:\n",
    "            try:\n",
    "                location = lst_lploc[i]\n",
    "                url = url_pre.format(My_key, location, city)\n",
    "                res = requests.get(url).json()\n",
    "                if res['status'] == '0':\n",
    "                    dict_location[lst_lpname[i]] = np.nan\n",
    "                    counter +=1\n",
    "                else:\n",
    "                    try: \n",
    "                        dict_location[lst_lpname[i]] = res['geocodes'][0]['location']\n",
    "                        if counter % 250 == 0:\n",
    "                            print('one batch(250) processed')\n",
    "                    except:\n",
    "                        dict_location[lst_lpname[i]] = np.nan\n",
    "            except:\n",
    "                dict_location[lst_lpname[i]] = np.nan\n",
    "            \n",
    "        counter +=1"
   ]
  },
  {
   "cell_type": "code",
   "execution_count": 7,
   "metadata": {},
   "outputs": [
    {
     "name": "stdout",
     "output_type": "stream",
     "text": [
      "A batch(50) is done\n",
      "A batch(50) is done\n",
      "A batch(50) is done\n",
      "A batch(50) is done\n",
      "A batch(50) is done\n",
      "A batch(50) is done\n",
      "A batch(50) is done\n",
      "A batch(50) is done\n",
      "A batch(50) is done\n",
      "A batch(50) is done\n",
      "A batch(50) is done\n",
      "A batch(50) is done\n",
      "A batch(50) is done\n",
      "A batch(50) is done\n",
      "A batch(50) is done\n",
      "A batch(50) is done\n",
      "A batch(50) is done\n",
      "A batch(50) is done\n",
      "A batch(50) is done\n",
      "A batch(50) is done\n",
      "A batch(50) is done\n",
      "A batch(50) is done\n",
      "A batch(50) is done\n",
      "A batch(50) is done\n",
      "A batch(50) is done\n",
      "A batch(50) is done\n",
      "A batch(50) is done\n",
      "A batch(50) is done\n"
     ]
    }
   ],
   "source": [
    "df['location_coords'] = np.nan\n",
    "\n",
    "counter = 0\n",
    "for i in lst_lpname:\n",
    "    counter += 1\n",
    "    df_temp = df[df['loupanmingcheng'] == i]\n",
    "    df_temp_index = df_temp.index.tolist()\n",
    "    df.iloc[df_temp_index,22] = dict_location[i]\n",
    "    if counter %50 == 0:\n",
    "        print('A batch(50) is done')"
   ]
  },
  {
   "cell_type": "code",
   "execution_count": 8,
   "metadata": {},
   "outputs": [],
   "source": [
    "df.to_csv('上海商铺地址数据.csv', encoding = 'utf-8-sig',index = False)"
   ]
  },
  {
   "cell_type": "code",
   "execution_count": null,
   "metadata": {},
   "outputs": [],
   "source": []
  }
 ],
 "metadata": {
  "kernelspec": {
   "display_name": "Python 3",
   "language": "python",
   "name": "python3"
  }
 },
 "nbformat": 4,
 "nbformat_minor": 2
}
