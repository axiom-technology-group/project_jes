{
 "cells": [
  {
   "cell_type": "code",
   "execution_count": 2,
   "metadata": {},
   "outputs": [],
   "source": [
    "import pandas as pd\n",
    "\n",
    "df = pd.read_csv('xzl_sh_rent.csv',error_bad_lines=False)"
   ]
  },
  {
   "cell_type": "code",
   "execution_count": 3,
   "metadata": {},
   "outputs": [],
   "source": [
    "lst = df['loupandizhi'][0].split(',')\n",
    "\n",
    "loupandizhi = df['loupandizhi'].tolist()\n",
    "loupandizhilst = []\n",
    "for i in loupandizhi:\n",
    "    lst = i.split(',')\n",
    "    lst1 = []\n",
    "    for i in lst:\n",
    "\n",
    "        i = i.replace('\\r\\n','')\n",
    "        i = i.replace('写字楼','')\n",
    "        i = i.strip()\n",
    "        lst1.append(i)\n",
    "    loupandizhilst.append(lst1)\n",
    "df['loupandizhi'] = loupandizhilst"
   ]
  },
  {
   "cell_type": "code",
   "execution_count": 4,
   "metadata": {},
   "outputs": [
    {
     "data": {
      "text/html": [
       "<div>\n",
       "<style scoped>\n",
       "    .dataframe tbody tr th:only-of-type {\n",
       "        vertical-align: middle;\n",
       "    }\n",
       "\n",
       "    .dataframe tbody tr th {\n",
       "        vertical-align: top;\n",
       "    }\n",
       "\n",
       "    .dataframe thead th {\n",
       "        text-align: right;\n",
       "    }\n",
       "</style>\n",
       "<table border=\"1\" class=\"dataframe\">\n",
       "  <thead>\n",
       "    <tr style=\"text-align: right;\">\n",
       "      <th></th>\n",
       "      <th>building_type</th>\n",
       "      <th>building_year</th>\n",
       "      <th>chuzumianji</th>\n",
       "      <th>floor</th>\n",
       "      <th>loupan_content</th>\n",
       "      <th>loupandizhi</th>\n",
       "      <th>price_perunit</th>\n",
       "      <th>release_date</th>\n",
       "      <th>service_price</th>\n",
       "      <th>titile</th>\n",
       "      <th>total_price_10K_permonth</th>\n",
       "      <th>url</th>\n",
       "      <th>xiezilou_level</th>\n",
       "      <th>xzl_content</th>\n",
       "      <th>zhuangxiu</th>\n",
       "    </tr>\n",
       "  </thead>\n",
       "  <tbody>\n",
       "    <tr>\n",
       "      <th>0</th>\n",
       "      <td>所在楼层</td>\n",
       "      <td>NaN</td>\n",
       "      <td>1163.39㎡</td>\n",
       "      <td>中区(共58层)</td>\n",
       "      <td>\\r\\n               \\r\\n                \\r\\n   ...</td>\n",
       "      <td>[陆家嘴, 中国人寿金融中心]</td>\n",
       "      <td>10.1</td>\n",
       "      <td>2019/9/9 9:18:01</td>\n",
       "      <td>物业费39.00元/平米·月</td>\n",
       "      <td>陆家嘴 中国人寿金融中心 本案半层 正对电梯可看江景 近地铁</td>\n",
       "      <td>352507</td>\n",
       "      <td>https://sh.office.fang.com/zu/3_361981853.html</td>\n",
       "      <td>甲级</td>\n",
       "      <td>\\r\\n\\t\\t\\t\\t\\t\\r\\n\\t\\t\\t\\t\\t\\t房源亮点\\r\\n\\t\\t\\t\\t...</td>\n",
       "      <td>简装修(不可分割)</td>\n",
       "    </tr>\n",
       "    <tr>\n",
       "      <th>1</th>\n",
       "      <td>纯写字楼</td>\n",
       "      <td>NaN</td>\n",
       "      <td>1100㎡</td>\n",
       "      <td>中区(共45层)</td>\n",
       "      <td>\\r\\n               \\r\\n                \\r\\n   ...</td>\n",
       "      <td>[南京西路, 中信泰富广场]</td>\n",
       "      <td>11</td>\n",
       "      <td>2019/7/31 10:39:40</td>\n",
       "      <td>物业费35.00元/平米·月</td>\n",
       "      <td>静安 南京西路 中信泰富广场350㎡-2000㎡户型出租 地铁2/7号线</td>\n",
       "      <td>363000</td>\n",
       "      <td>https://sh.office.fang.com/zu/3_357807523.html</td>\n",
       "      <td>甲级</td>\n",
       "      <td>\\r\\n\\t\\t\\t\\t\\t\\r\\n\\t\\t\\t\\t\\t\\t房源亮点\\r\\n\\t\\t\\t\\t...</td>\n",
       "      <td>简装修(可分割)</td>\n",
       "    </tr>\n",
       "    <tr>\n",
       "      <th>2</th>\n",
       "      <td>纯写字楼</td>\n",
       "      <td>NaN</td>\n",
       "      <td>182㎡</td>\n",
       "      <td>高区(共25层)</td>\n",
       "      <td>\\r\\n               \\r\\n                \\r\\n   ...</td>\n",
       "      <td>[新天地, 新茂大厦]</td>\n",
       "      <td>9.8</td>\n",
       "      <td>2019/8/28 10:47:22</td>\n",
       "      <td>物业费31.50元/平米·月</td>\n",
       "      <td>房东直租 可15-20人工作 精装全配全包 淮海路商圈 地铁口现房</td>\n",
       "      <td>53508</td>\n",
       "      <td>https://sh.office.fang.com/zu/3_360688177.html</td>\n",
       "      <td>甲级</td>\n",
       "      <td>\\r\\n\\t\\t\\t\\t\\t\\r\\n\\t\\t\\t\\t\\t\\t房源亮点\\r\\n\\t\\t\\t\\t...</td>\n",
       "      <td>精装修(不可分割)</td>\n",
       "    </tr>\n",
       "  </tbody>\n",
       "</table>\n",
       "</div>"
      ],
      "text/plain": [
       "  building_type building_year chuzumianji     floor  \\\n",
       "0          所在楼层           NaN    1163.39㎡  中区(共58层)   \n",
       "1          纯写字楼           NaN       1100㎡  中区(共45层)   \n",
       "2          纯写字楼           NaN        182㎡  高区(共25层)   \n",
       "\n",
       "                                      loupan_content      loupandizhi  \\\n",
       "0  \\r\\n               \\r\\n                \\r\\n   ...  [陆家嘴, 中国人寿金融中心]   \n",
       "1  \\r\\n               \\r\\n                \\r\\n   ...   [南京西路, 中信泰富广场]   \n",
       "2  \\r\\n               \\r\\n                \\r\\n   ...      [新天地, 新茂大厦]   \n",
       "\n",
       "  price_perunit        release_date   service_price  \\\n",
       "0          10.1    2019/9/9 9:18:01  物业费39.00元/平米·月   \n",
       "1            11  2019/7/31 10:39:40  物业费35.00元/平米·月   \n",
       "2           9.8  2019/8/28 10:47:22  物业费31.50元/平米·月   \n",
       "\n",
       "                                 titile total_price_10K_permonth  \\\n",
       "0        陆家嘴 中国人寿金融中心 本案半层 正对电梯可看江景 近地铁                   352507   \n",
       "1  静安 南京西路 中信泰富广场350㎡-2000㎡户型出租 地铁2/7号线                   363000   \n",
       "2     房东直租 可15-20人工作 精装全配全包 淮海路商圈 地铁口现房                    53508   \n",
       "\n",
       "                                              url xiezilou_level  \\\n",
       "0  https://sh.office.fang.com/zu/3_361981853.html             甲级   \n",
       "1  https://sh.office.fang.com/zu/3_357807523.html             甲级   \n",
       "2  https://sh.office.fang.com/zu/3_360688177.html             甲级   \n",
       "\n",
       "                                         xzl_content  zhuangxiu  \n",
       "0  \\r\\n\\t\\t\\t\\t\\t\\r\\n\\t\\t\\t\\t\\t\\t房源亮点\\r\\n\\t\\t\\t\\t...  简装修(不可分割)  \n",
       "1  \\r\\n\\t\\t\\t\\t\\t\\r\\n\\t\\t\\t\\t\\t\\t房源亮点\\r\\n\\t\\t\\t\\t...   简装修(可分割)  \n",
       "2  \\r\\n\\t\\t\\t\\t\\t\\r\\n\\t\\t\\t\\t\\t\\t房源亮点\\r\\n\\t\\t\\t\\t...  精装修(不可分割)  "
      ]
     },
     "execution_count": 4,
     "metadata": {},
     "output_type": "execute_result"
    }
   ],
   "source": [
    "df.head(3)"
   ]
  },
  {
   "cell_type": "code",
   "execution_count": 5,
   "metadata": {},
   "outputs": [],
   "source": [
    "df.to_csv('上海写字楼数据.csv',index = False, encoding = 'utf-8-sig')"
   ]
  },
  {
   "cell_type": "code",
   "execution_count": 6,
   "metadata": {},
   "outputs": [
    {
     "data": {
      "text/plain": [
       "(5084, 15)"
      ]
     },
     "execution_count": 6,
     "metadata": {},
     "output_type": "execute_result"
    }
   ],
   "source": [
    "df.shape"
   ]
  },
  {
   "cell_type": "code",
   "execution_count": null,
   "metadata": {},
   "outputs": [],
   "source": []
  }
 ],
 "metadata": {
  "kernelspec": {
   "display_name": "Python 3",
   "language": "python",
   "name": "python3"
  },
  "language_info": {
   "codemirror_mode": {
    "name": "ipython",
    "version": 3
   },
   "file_extension": ".py",
   "mimetype": "text/x-python",
   "name": "python",
   "nbconvert_exporter": "python",
   "pygments_lexer": "ipython3",
   "version": "3.6.4"
  }
 },
 "nbformat": 4,
 "nbformat_minor": 2
}
